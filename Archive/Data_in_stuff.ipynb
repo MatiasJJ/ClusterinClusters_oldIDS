{
 "cells": [
  {
   "cell_type": "code",
   "execution_count": null,
   "metadata": {},
   "outputs": [],
   "source": []
  },
  {
   "cell_type": "markdown",
   "metadata": {},
   "source": [
    "### Stuff that we used to develop data reading"
   ]
  },
  {
   "cell_type": "code",
   "execution_count": 47,
   "metadata": {},
   "outputs": [
    {
     "data": {
      "text/plain": [
       "array([ 0, 10, 11, 12, 13, 14, 15, 16, 17, 18, 19,  1, 20, 21, 22, 23, 24,\n",
       "       25, 26, 27, 28, 29,  2, 30, 31, 32, 33, 34, 35, 36, 37, 38, 39,  3,\n",
       "       40, 41, 42, 43, 44, 45, 46, 47, 48, 49,  4,  5,  6,  7,  8,  9])"
      ]
     },
     "execution_count": 47,
     "metadata": {},
     "output_type": "execute_result"
    }
   ],
   "source": [
    "files = pd.read_csv(\"Data_Collection.csv\")\n",
    "np.array(files.Filename)"
   ]
  },
  {
   "cell_type": "code",
   "execution_count": 48,
   "metadata": {},
   "outputs": [
    {
     "name": "stdout",
     "output_type": "stream",
     "text": [
      "Filename                      0\n",
      "LogPath      ./Data1/logs/0.log\n",
      "XYZPath     ./Data1/coord/0.xyz\n",
      "Dipole                    2.402\n",
      "Energy                 -40.9179\n",
      "Name: 0, dtype: object\n"
     ]
    },
    {
     "data": {
      "text/plain": [
       "int"
      ]
     },
     "execution_count": 48,
     "metadata": {},
     "output_type": "execute_result"
    }
   ],
   "source": [
    "test = next(files.iterrows())[1]\n",
    "print(test)\n",
    "type(test.Filename)"
   ]
  },
  {
   "cell_type": "code",
   "execution_count": 49,
   "metadata": {},
   "outputs": [],
   "source": [
    "xyz_test = pd.read_csv(\"Data1/coord/0.xyz\", \\\n",
    "                       sep='\\s+', \\\n",
    "                       skiprows=2, \\\n",
    "                       header=None, \\\n",
    "                       index_col=0, \\\n",
    "                       names=['x','y','z']\\\n",
    "                      ).sort_index(ascending=False)\n",
    "# Atom names in indexes"
   ]
  },
  {
   "cell_type": "markdown",
   "metadata": {},
   "source": [
    "```python\n",
    "xyz_test = pd.read_csv(\"Data1/0.xyz\", \\\n",
    "                       sep='\\s+',\\\n",
    "                       skiprows=2, \\\n",
    "                       header=None, \\\n",
    "                       names=['atom','x','y','z']\\\n",
    "                      ).sort_values(by='atom',ascending=False).reset_index(drop=True)\n",
    "# Atom names in col 0\n",
    "```\n"
   ]
  },
  {
   "cell_type": "markdown",
   "metadata": {},
   "source": [
    "Print the names of the atoms"
   ]
  },
  {
   "cell_type": "markdown",
   "metadata": {},
   "source": [
    "> How is order handled under one label?\n",
    "- what is the order of other coord files?"
   ]
  },
  {
   "cell_type": "markdown",
   "metadata": {},
   "source": [
    "Save the names of the atoms to an array"
   ]
  },
  {
   "cell_type": "code",
   "execution_count": 50,
   "metadata": {},
   "outputs": [],
   "source": [
    "arr_indexes = np.array(xyz_test.index)"
   ]
  },
  {
   "cell_type": "code",
   "execution_count": 51,
   "metadata": {},
   "outputs": [
    {
     "data": {
      "text/plain": [
       "19"
      ]
     },
     "execution_count": 51,
     "metadata": {},
     "output_type": "execute_result"
    }
   ],
   "source": [
    "arr_indexes.shape[0]"
   ]
  },
  {
   "cell_type": "markdown",
   "metadata": {},
   "source": [
    "Get numbers for the atoms and concatenate them with the labels"
   ]
  },
  {
   "cell_type": "code",
   "execution_count": 52,
   "metadata": {},
   "outputs": [],
   "source": [
    "list_atomnames = []\n",
    "\n",
    "for i,j in enumerate(arr_indexes):\n",
    "    list_atomnames.append(\"{} {}\".format(j,i))\n",
    "\n",
    "arr_atomnames = np.array(list_atomnames)"
   ]
  },
  {
   "cell_type": "markdown",
   "metadata": {},
   "source": [
    "Make the multi-index array of tuples"
   ]
  },
  {
   "cell_type": "code",
   "execution_count": 53,
   "metadata": {},
   "outputs": [],
   "source": [
    "top_arr = np.empty((arr_atomnames.size * 3)).astype(str)\n",
    "top_arr[0::3] = arr_atomnames\n",
    "top_arr[1::3] = arr_atomnames\n",
    "top_arr[2::3] = arr_atomnames\n",
    "#top_arr"
   ]
  },
  {
   "cell_type": "code",
   "execution_count": 54,
   "metadata": {},
   "outputs": [],
   "source": [
    "butt_arr = np.empty((arr_atomnames.size * 3)).astype(str)\n",
    "butt_arr[0::3] = \"x\"\n",
    "butt_arr[1::3] = \"y\"\n",
    "butt_arr[2::3] = \"z\"\n",
    "#butt_arr"
   ]
  },
  {
   "cell_type": "code",
   "execution_count": 55,
   "metadata": {},
   "outputs": [
    {
     "data": {
      "text/plain": [
       "[('S 0', 'x'), ('S 0', 'y'), ('S 0', 'z'), ('O 1', 'x'), ('O 1', 'y')]"
      ]
     },
     "execution_count": 55,
     "metadata": {},
     "output_type": "execute_result"
    }
   ],
   "source": [
    "col_arr = np.vstack((top_arr,butt_arr))\n",
    "#col_arr.transpose()\n",
    "col_arr_tuples = list(zip(*col_arr))\n",
    "col_arr_tuples[:5]"
   ]
  },
  {
   "cell_type": "markdown",
   "metadata": {},
   "source": [
    "Multi-index column names"
   ]
  },
  {
   "cell_type": "code",
   "execution_count": 56,
   "metadata": {},
   "outputs": [
    {
     "data": {
      "text/plain": [
       "MultiIndex(levels=[['H 10', 'H 11', 'H 12', 'H 13', 'H 14', 'H 15', 'H 16', 'H 17', 'H 18', 'H 9', 'O 1', 'O 2', 'O 3', 'O 4', 'O 5', 'O 6', 'O 7', 'O 8', 'S 0'], ['x', 'y', 'z']],\n",
       "           codes=[[18, 18, 18, 10, 10, 10, 11, 11, 11, 12, 12, 12, 13, 13, 13, 14, 14, 14, 15, 15, 15, 16, 16, 16, 17, 17, 17, 9, 9, 9, 0, 0, 0, 1, 1, 1, 2, 2, 2, 3, 3, 3, 4, 4, 4, 5, 5, 5, 6, 6, 6, 7, 7, 7, 8, 8, 8], [0, 1, 2, 0, 1, 2, 0, 1, 2, 0, 1, 2, 0, 1, 2, 0, 1, 2, 0, 1, 2, 0, 1, 2, 0, 1, 2, 0, 1, 2, 0, 1, 2, 0, 1, 2, 0, 1, 2, 0, 1, 2, 0, 1, 2, 0, 1, 2, 0, 1, 2, 0, 1, 2, 0, 1, 2]],\n",
       "           names=['Atom', 'Coord'])"
      ]
     },
     "execution_count": 56,
     "metadata": {},
     "output_type": "execute_result"
    }
   ],
   "source": [
    "col_names = pd.MultiIndex.from_tuples(col_arr_tuples, names=[\"Atom\",\"Coord\"])\n",
    "col_names"
   ]
  },
  {
   "cell_type": "markdown",
   "metadata": {},
   "source": []
  },
  {
   "cell_type": "code",
   "execution_count": 57,
   "metadata": {},
   "outputs": [
    {
     "data": {
      "text/plain": [
       "57"
      ]
     },
     "execution_count": 57,
     "metadata": {},
     "output_type": "execute_result"
    }
   ],
   "source": [
    "3*19"
   ]
  },
  {
   "cell_type": "code",
   "execution_count": 58,
   "metadata": {},
   "outputs": [
    {
     "data": {
      "text/plain": [
       "(57,)"
      ]
     },
     "execution_count": 58,
     "metadata": {},
     "output_type": "execute_result"
    }
   ],
   "source": [
    "xyz_test.values.flatten().shape"
   ]
  },
  {
   "cell_type": "code",
   "execution_count": 59,
   "metadata": {},
   "outputs": [],
   "source": [
    "xyz_flat = xyz_test.values.flatten().reshape(1,57)"
   ]
  },
  {
   "cell_type": "code",
   "execution_count": 60,
   "metadata": {},
   "outputs": [
    {
     "data": {
      "text/plain": [
       "numpy.ndarray"
      ]
     },
     "execution_count": 60,
     "metadata": {},
     "output_type": "execute_result"
    }
   ],
   "source": [
    "type(xyz_flat)"
   ]
  },
  {
   "cell_type": "code",
   "execution_count": 61,
   "metadata": {},
   "outputs": [
    {
     "name": "stdout",
     "output_type": "stream",
     "text": [
      "Atom        S 0                           O 1                          O 2  \\\n",
      "Coord         x         y         z         x         y        z         x   \n",
      "a      0.141169  0.586462 -1.579178  1.571959  0.634674  1.58739 -0.496376   \n",
      "\n",
      "Atom                           O 3                          O 4            \\\n",
      "Coord        y         z         x         y         z        x         y   \n",
      "a     -0.79309  1.912224  0.122061 -2.393288  0.079677  1.01335 -0.572018   \n",
      "\n",
      "Atom                  O 5                          O 6                      \\\n",
      "Coord         z         x         y        z         x         y         z   \n",
      "a     -1.481227 -1.989939  0.798705  0.68009  0.522933  1.346199 -2.915277   \n",
      "\n",
      "Atom        O 7                           O 8                          H 9  \\\n",
      "Coord         x         y         z         x        y         z         x   \n",
      "a      0.369189  1.535905 -0.499852 -1.256258  0.20951 -1.702193  0.192515   \n",
      "\n",
      "Atom                           H 10                          H 11            \\\n",
      "Coord         y         z         x         y         z         x         y   \n",
      "a      0.757764 -3.586885  1.779578  1.401354  2.124928  1.251429  0.984936   \n",
      "\n",
      "Atom                 H 12                          H 13                      \\\n",
      "Coord         z         x         y         z         x         y         z   \n",
      "a      0.710985 -1.489374  1.623473  0.682714 -1.897694  0.492448 -0.263903   \n",
      "\n",
      "Atom       H 14                          H 15                          H 16  \\\n",
      "Coord         x         y         z         x         y         z         x   \n",
      "a      0.886638 -2.942662  0.267271  0.427588 -1.727576 -0.603801  0.369601   \n",
      "\n",
      "Atom                          H 17                          H 18            \\\n",
      "Coord         y         z        x         y         z         x         y   \n",
      "a     -0.238477  1.922843 -1.21537 -0.160903  1.456282 -0.303001 -1.543416   \n",
      "\n",
      "Atom             \n",
      "Coord         z  \n",
      "a      1.207911  \n"
     ]
    }
   ],
   "source": [
    "coord_df = pd.DataFrame(xyz_flat,index=['a'],columns=col_names)\n",
    "with pd.option_context('display.max_rows',None,'display.max_columns',None):\n",
    "    print(coord_df)"
   ]
  },
  {
   "cell_type": "code",
   "execution_count": 62,
   "metadata": {},
   "outputs": [
    {
     "data": {
      "text/html": [
       "<div>\n",
       "<style scoped>\n",
       "    .dataframe tbody tr th:only-of-type {\n",
       "        vertical-align: middle;\n",
       "    }\n",
       "\n",
       "    .dataframe tbody tr th {\n",
       "        vertical-align: top;\n",
       "    }\n",
       "\n",
       "    .dataframe thead tr th {\n",
       "        text-align: left;\n",
       "    }\n",
       "</style>\n",
       "<table border=\"1\" class=\"dataframe\">\n",
       "  <thead>\n",
       "    <tr>\n",
       "      <th>Atom</th>\n",
       "      <th colspan=\"3\" halign=\"left\">S 0</th>\n",
       "      <th colspan=\"3\" halign=\"left\">O 1</th>\n",
       "      <th colspan=\"3\" halign=\"left\">O 2</th>\n",
       "      <th>O 3</th>\n",
       "      <th>...</th>\n",
       "      <th>H 15</th>\n",
       "      <th colspan=\"3\" halign=\"left\">H 16</th>\n",
       "      <th colspan=\"3\" halign=\"left\">H 17</th>\n",
       "      <th colspan=\"3\" halign=\"left\">H 18</th>\n",
       "    </tr>\n",
       "    <tr>\n",
       "      <th>Coord</th>\n",
       "      <th>x</th>\n",
       "      <th>y</th>\n",
       "      <th>z</th>\n",
       "      <th>x</th>\n",
       "      <th>y</th>\n",
       "      <th>z</th>\n",
       "      <th>x</th>\n",
       "      <th>y</th>\n",
       "      <th>z</th>\n",
       "      <th>x</th>\n",
       "      <th>...</th>\n",
       "      <th>z</th>\n",
       "      <th>x</th>\n",
       "      <th>y</th>\n",
       "      <th>z</th>\n",
       "      <th>x</th>\n",
       "      <th>y</th>\n",
       "      <th>z</th>\n",
       "      <th>x</th>\n",
       "      <th>y</th>\n",
       "      <th>z</th>\n",
       "    </tr>\n",
       "  </thead>\n",
       "  <tbody>\n",
       "    <tr>\n",
       "      <th>a</th>\n",
       "      <td>0.141169</td>\n",
       "      <td>0.586462</td>\n",
       "      <td>-1.579178</td>\n",
       "      <td>1.571959</td>\n",
       "      <td>0.634674</td>\n",
       "      <td>1.58739</td>\n",
       "      <td>-0.496376</td>\n",
       "      <td>-0.79309</td>\n",
       "      <td>1.912224</td>\n",
       "      <td>0.122061</td>\n",
       "      <td>...</td>\n",
       "      <td>-0.603801</td>\n",
       "      <td>0.369601</td>\n",
       "      <td>-0.238477</td>\n",
       "      <td>1.922843</td>\n",
       "      <td>-1.21537</td>\n",
       "      <td>-0.160903</td>\n",
       "      <td>1.456282</td>\n",
       "      <td>-0.303001</td>\n",
       "      <td>-1.543416</td>\n",
       "      <td>1.207911</td>\n",
       "    </tr>\n",
       "  </tbody>\n",
       "</table>\n",
       "<p>1 rows × 57 columns</p>\n",
       "</div>"
      ],
      "text/plain": [
       "Atom        S 0                           O 1                          O 2  \\\n",
       "Coord         x         y         z         x         y        z         x   \n",
       "a      0.141169  0.586462 -1.579178  1.571959  0.634674  1.58739 -0.496376   \n",
       "\n",
       "Atom                           O 3  ...      H 15      H 16            \\\n",
       "Coord        y         z         x  ...         z         x         y   \n",
       "a     -0.79309  1.912224  0.122061  ... -0.603801  0.369601 -0.238477   \n",
       "\n",
       "Atom                H 17                          H 18                      \n",
       "Coord         z        x         y         z         x         y         z  \n",
       "a      1.922843 -1.21537 -0.160903  1.456282 -0.303001 -1.543416  1.207911  \n",
       "\n",
       "[1 rows x 57 columns]"
      ]
     },
     "execution_count": 62,
     "metadata": {},
     "output_type": "execute_result"
    }
   ],
   "source": [
    "coord_df"
   ]
  },
  {
   "cell_type": "code",
   "execution_count": null,
   "metadata": {},
   "outputs": [],
   "source": []
  },
  {
   "cell_type": "code",
   "execution_count": null,
   "metadata": {},
   "outputs": [],
   "source": []
  },
  {
   "cell_type": "code",
   "execution_count": null,
   "metadata": {},
   "outputs": [],
   "source": []
  }
 ],
 "metadata": {
  "kernelspec": {
   "display_name": "Python 3",
   "language": "python",
   "name": "python3"
  },
  "language_info": {
   "codemirror_mode": {
    "name": "ipython",
    "version": 3
   },
   "file_extension": ".py",
   "mimetype": "text/x-python",
   "name": "python",
   "nbconvert_exporter": "python",
   "pygments_lexer": "ipython3",
   "version": "3.7.3"
  }
 },
 "nbformat": 4,
 "nbformat_minor": 4
}
