{
 "cells": [
  {
   "cell_type": "code",
   "execution_count": 1,
   "metadata": {},
   "outputs": [],
   "source": [
    "import numpy as np\n",
    "import pandas as pd\n",
    "import matplotlib.pyplot as plt\n",
    "import seaborn as sns\n",
    "import scipy as scp\n",
    "import nltk\n",
    "import imageio\n",
    "import sklearn\n",
    "\n",
    "from timeit import default_timer as timer\n",
    "%matplotlib inline\n",
    "\n",
    "import json as js"
   ]
  },
  {
   "cell_type": "markdown",
   "metadata": {},
   "source": [
    "# Project\n",
    "### Stages"
   ]
  },
  {
   "cell_type": "markdown",
   "metadata": {},
   "source": [
    "**Timetable**\n",
    "\n",
    "| Time | Task |\n",
    "|----|----|\n",
    "|9.9. | Groups deadline |\n",
    "|16.9.| Topics deadline |\n",
    "| here | EDA, clean data, do project |\n",
    "|vk42 | presentation |\n",
    "|vk43 | projektit |"
   ]
  },
  {
   "cell_type": "markdown",
   "metadata": {},
   "source": [
    "## Project\n",
    "```\n",
    "A. Title of the project\t\n",
    "            \n",
    "B. Elevator pitch [max 400 characters]\n",
    " \n",
    "Describe the data science challenges related to the following themes. \n",
    "A good project should include interesting challenges under most of \n",
    "the themes. So for example, a project that begins with a single clean\n",
    "data set and a clear task (e.g., predict a given response), isn't a good \n",
    "choice for your project.\t\t\n",
    "            \n",
    "C. Data: sources, wrangling, management\t\t\n",
    "            \n",
    "D. Data analysis: statistics, machine learning\t\n",
    "            \n",
    "E. Communication of results: summarization & visualization\n",
    "            \n",
    "F. Operationalization: creating added value, end-user point of view\n",
    "```"
   ]
  },
  {
   "cell_type": "markdown",
   "metadata": {},
   "source": [
    "- 4x20x10000 stuctures with 19-30 atoms in a cluster\n",
    "    - coordinates\n",
    "    - dipole moment\n",
    "    - energy\n",
    "- Goals\n",
    "    - End user\n",
    "        - Configuration Sampling \n",
    "            - Find one structure with the lowest energy\n",
    "    - Eliminate redundant structures\n",
    "    - Find descriptors\n",
    "        - reduce dimensions\n",
    "    "
   ]
  },
  {
   "cell_type": "markdown",
   "metadata": {},
   "source": [
    "asd"
   ]
  },
  {
   "cell_type": "code",
   "execution_count": 50,
   "metadata": {},
   "outputs": [],
   "source": [
    "xyz_test = pd.read_csv(\"Data1/0.xyz\",sep='\\s+',skiprows=2,header=None,names=['x','y','z'], index_col=0).sort_index(ascending=False)"
   ]
  },
  {
   "cell_type": "code",
   "execution_count": 51,
   "metadata": {},
   "outputs": [
    {
     "data": {
      "text/plain": [
       "Index(['x', 'y', 'z'], dtype='object')"
      ]
     },
     "execution_count": 51,
     "metadata": {},
     "output_type": "execute_result"
    }
   ],
   "source": [
    "xyz_test.columns"
   ]
  },
  {
   "cell_type": "code",
   "execution_count": 53,
   "metadata": {},
   "outputs": [
    {
     "data": {
      "text/html": [
       "<div>\n",
       "<style scoped>\n",
       "    .dataframe tbody tr th:only-of-type {\n",
       "        vertical-align: middle;\n",
       "    }\n",
       "\n",
       "    .dataframe tbody tr th {\n",
       "        vertical-align: top;\n",
       "    }\n",
       "\n",
       "    .dataframe thead th {\n",
       "        text-align: right;\n",
       "    }\n",
       "</style>\n",
       "<table border=\"1\" class=\"dataframe\">\n",
       "  <thead>\n",
       "    <tr style=\"text-align: right;\">\n",
       "      <th></th>\n",
       "      <th>x</th>\n",
       "      <th>y</th>\n",
       "      <th>z</th>\n",
       "    </tr>\n",
       "  </thead>\n",
       "  <tbody>\n",
       "    <tr>\n",
       "      <th>S</th>\n",
       "      <td>0.141169</td>\n",
       "      <td>0.586462</td>\n",
       "      <td>-1.579178</td>\n",
       "    </tr>\n",
       "    <tr>\n",
       "      <th>O</th>\n",
       "      <td>1.571959</td>\n",
       "      <td>0.634674</td>\n",
       "      <td>1.587390</td>\n",
       "    </tr>\n",
       "    <tr>\n",
       "      <th>O</th>\n",
       "      <td>-0.496376</td>\n",
       "      <td>-0.793090</td>\n",
       "      <td>1.912224</td>\n",
       "    </tr>\n",
       "    <tr>\n",
       "      <th>O</th>\n",
       "      <td>0.122061</td>\n",
       "      <td>-2.393288</td>\n",
       "      <td>0.079677</td>\n",
       "    </tr>\n",
       "    <tr>\n",
       "      <th>O</th>\n",
       "      <td>1.013350</td>\n",
       "      <td>-0.572018</td>\n",
       "      <td>-1.481227</td>\n",
       "    </tr>\n",
       "    <tr>\n",
       "      <th>O</th>\n",
       "      <td>-1.989939</td>\n",
       "      <td>0.798705</td>\n",
       "      <td>0.680090</td>\n",
       "    </tr>\n",
       "    <tr>\n",
       "      <th>O</th>\n",
       "      <td>0.522933</td>\n",
       "      <td>1.346199</td>\n",
       "      <td>-2.915277</td>\n",
       "    </tr>\n",
       "    <tr>\n",
       "      <th>O</th>\n",
       "      <td>0.369189</td>\n",
       "      <td>1.535905</td>\n",
       "      <td>-0.499852</td>\n",
       "    </tr>\n",
       "    <tr>\n",
       "      <th>O</th>\n",
       "      <td>-1.256258</td>\n",
       "      <td>0.209510</td>\n",
       "      <td>-1.702193</td>\n",
       "    </tr>\n",
       "    <tr>\n",
       "      <th>H</th>\n",
       "      <td>0.192515</td>\n",
       "      <td>0.757764</td>\n",
       "      <td>-3.586885</td>\n",
       "    </tr>\n",
       "    <tr>\n",
       "      <th>H</th>\n",
       "      <td>1.779578</td>\n",
       "      <td>1.401354</td>\n",
       "      <td>2.124928</td>\n",
       "    </tr>\n",
       "    <tr>\n",
       "      <th>H</th>\n",
       "      <td>1.251429</td>\n",
       "      <td>0.984936</td>\n",
       "      <td>0.710985</td>\n",
       "    </tr>\n",
       "    <tr>\n",
       "      <th>H</th>\n",
       "      <td>-1.489374</td>\n",
       "      <td>1.623473</td>\n",
       "      <td>0.682714</td>\n",
       "    </tr>\n",
       "    <tr>\n",
       "      <th>H</th>\n",
       "      <td>-1.897694</td>\n",
       "      <td>0.492448</td>\n",
       "      <td>-0.263903</td>\n",
       "    </tr>\n",
       "    <tr>\n",
       "      <th>H</th>\n",
       "      <td>0.886638</td>\n",
       "      <td>-2.942662</td>\n",
       "      <td>0.267271</td>\n",
       "    </tr>\n",
       "    <tr>\n",
       "      <th>H</th>\n",
       "      <td>0.427588</td>\n",
       "      <td>-1.727576</td>\n",
       "      <td>-0.603801</td>\n",
       "    </tr>\n",
       "    <tr>\n",
       "      <th>H</th>\n",
       "      <td>0.369601</td>\n",
       "      <td>-0.238477</td>\n",
       "      <td>1.922843</td>\n",
       "    </tr>\n",
       "    <tr>\n",
       "      <th>H</th>\n",
       "      <td>-1.215370</td>\n",
       "      <td>-0.160903</td>\n",
       "      <td>1.456282</td>\n",
       "    </tr>\n",
       "    <tr>\n",
       "      <th>H</th>\n",
       "      <td>-0.303001</td>\n",
       "      <td>-1.543416</td>\n",
       "      <td>1.207911</td>\n",
       "    </tr>\n",
       "  </tbody>\n",
       "</table>\n",
       "</div>"
      ],
      "text/plain": [
       "          x         y         z\n",
       "S  0.141169  0.586462 -1.579178\n",
       "O  1.571959  0.634674  1.587390\n",
       "O -0.496376 -0.793090  1.912224\n",
       "O  0.122061 -2.393288  0.079677\n",
       "O  1.013350 -0.572018 -1.481227\n",
       "O -1.989939  0.798705  0.680090\n",
       "O  0.522933  1.346199 -2.915277\n",
       "O  0.369189  1.535905 -0.499852\n",
       "O -1.256258  0.209510 -1.702193\n",
       "H  0.192515  0.757764 -3.586885\n",
       "H  1.779578  1.401354  2.124928\n",
       "H  1.251429  0.984936  0.710985\n",
       "H -1.489374  1.623473  0.682714\n",
       "H -1.897694  0.492448 -0.263903\n",
       "H  0.886638 -2.942662  0.267271\n",
       "H  0.427588 -1.727576 -0.603801\n",
       "H  0.369601 -0.238477  1.922843\n",
       "H -1.215370 -0.160903  1.456282\n",
       "H -0.303001 -1.543416  1.207911"
      ]
     },
     "execution_count": 53,
     "metadata": {},
     "output_type": "execute_result"
    }
   ],
   "source": [
    "xyz_test"
   ]
  },
  {
   "cell_type": "code",
   "execution_count": null,
   "metadata": {},
   "outputs": [],
   "source": []
  }
 ],
 "metadata": {
  "kernelspec": {
   "display_name": "Python 3",
   "language": "python",
   "name": "python3"
  },
  "language_info": {
   "codemirror_mode": {
    "name": "ipython",
    "version": 3
   },
   "file_extension": ".py",
   "mimetype": "text/x-python",
   "name": "python",
   "nbconvert_exporter": "python",
   "pygments_lexer": "ipython3",
   "version": "3.7.1"
  }
 },
 "nbformat": 4,
 "nbformat_minor": 2
}
