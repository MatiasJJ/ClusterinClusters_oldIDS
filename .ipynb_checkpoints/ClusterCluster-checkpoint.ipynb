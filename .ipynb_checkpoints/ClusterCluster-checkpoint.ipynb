{
 "cells": [
  {
   "cell_type": "code",
   "execution_count": 1,
   "metadata": {},
   "outputs": [],
   "source": [
    "import numpy as np\n",
    "import pandas as pd\n",
    "import matplotlib.pyplot as plt\n",
    "import seaborn as sns\n",
    "import scipy as scp\n",
    "import nltk\n",
    "import imageio\n",
    "import sklearn\n",
    "\n",
    "from timeit import default_timer as timer\n",
    "%matplotlib inline\n",
    "\n",
    "import json as js"
   ]
  },
  {
   "cell_type": "markdown",
   "metadata": {},
   "source": [
    "# Project\n",
    "### Stages"
   ]
  },
  {
   "cell_type": "markdown",
   "metadata": {},
   "source": [
    "**Timetable**\n",
    "\n",
    "| Time | Task |\n",
    "|----|----|\n",
    "|9.9. | Groups deadline |\n",
    "|16.9.| Topics deadline |\n",
    "| here | EDA, clean data, do project |\n",
    "|vk42 | presentation |\n",
    "|vk43 | projektit |"
   ]
  },
  {
   "cell_type": "markdown",
   "metadata": {},
   "source": [
    "## Project\n",
    "```\n",
    "A. Title of the project\t\n",
    "            \n",
    "B. Elevator pitch [max 400 characters]\n",
    " \n",
    "Describe the data science challenges related to the following themes. \n",
    "A good project should include interesting challenges under most of \n",
    "the themes. So for example, a project that begins with a single clean\n",
    "data set and a clear task (e.g., predict a given response), isn't a good \n",
    "choice for your project.\t\t\n",
    "            \n",
    "C. Data: sources, wrangling, management\t\t\n",
    "            \n",
    "D. Data analysis: statistics, machine learning\t\n",
    "            \n",
    "E. Communication of results: summarization & visualization\n",
    "            \n",
    "F. Operationalization: creating added value, end-user point of view\n",
    "```"
   ]
  },
  {
   "cell_type": "markdown",
   "metadata": {},
   "source": [
    "- 4x20x10000 stuctures with 19-30 atoms in a cluster\n",
    "    - coordinates\n",
    "    - dipole moment\n",
    "    - energy\n",
    "- Goals\n",
    "    - End user\n",
    "        - Configuration Sampling \n",
    "            - Find one structure with the lowest energy\n",
    "    - Eliminate redundant structures\n",
    "    - Find descriptors\n",
    "        - reduce dimensions\n",
    "    "
   ]
  },
  {
   "cell_type": "markdown",
   "metadata": {},
   "source": [
    "## Pitch talk 3min\n",
    "\n",
    "- Sell oriented\n",
    "    - Not technical\n",
    "- Slides, picures, figures\n",
    "    - Why useful\n",
    "    - Why interesting\n",
    "- Any person or all\n",
    "\n",
    "> We could make video from screenshots describing the problem\n",
    "\n",
    "> Check project-instructions for deadlines (tue 22.10. klo 23.59)"
   ]
  },
  {
   "cell_type": "markdown",
   "metadata": {},
   "source": [
    "#### Read data in"
   ]
  },
  {
   "cell_type": "markdown",
   "metadata": {},
   "source": [
    "Data must have a `.csv`-file that contains:\n",
    "\n",
    "| col1 | col2 | col3 | col4 | col5 |\n",
    "|------|------|------|------|------|\n",
    "| Filename | path to .log-file | path to .xyz-file | Dipole moment | Energy |"
   ]
  },
  {
   "cell_type": "markdown",
   "metadata": {},
   "source": [
    "Make the csv-file \n",
    "> Maybe later"
   ]
  },
  {
   "cell_type": "code",
   "execution_count": 68,
   "metadata": {},
   "outputs": [],
   "source": [
    "files = pd.read_csv(\"Data_Collection.csv\")\n",
    "#files.iloc[:,0]"
   ]
  },
  {
   "cell_type": "code",
   "execution_count": null,
   "metadata": {},
   "outputs": [],
   "source": []
  },
  {
   "cell_type": "code",
   "execution_count": null,
   "metadata": {},
   "outputs": [],
   "source": []
  },
  {
   "cell_type": "markdown",
   "metadata": {},
   "source": [
    "Should read one sample xyz-file to construct headers and get shapes to an array"
   ]
  },
  {
   "cell_type": "code",
   "execution_count": 74,
   "metadata": {},
   "outputs": [],
   "source": [
    "def init_DF(filescsv):\n",
    "    \"Reads a xyz-file and initializes the dataframe.\"\n",
    "    \n",
    "    xyz_temp = filescsv.iloc[0,2]  # to get one xyz(path) as a reference\n",
    "    \n",
    "    xyz_test = read_xyz(xyz_temp,False) # Read it to a DF\n",
    "    \n",
    "    filenames = filescsv.iloc[:,0]\n",
    "    n_atoms = xyz_test.index.size\n",
    "    atomnames = np.array(xyz_test.index)\n",
    "    \n",
    "    list_atomnames = []\n",
    "    for i,j in enumerate(atomnames):\n",
    "        list_atomnames.append(\"{} {}\".format(j,i))\n",
    "    arr_atomnames = np.array(list_atomnames)\n",
    "    \n",
    "    col_names = makeMultiIndexs(arr_atomnames)\n",
    "\n",
    "    coord_df = pd.DataFrame(xyz_flat,index=filenames,columns=col_names)\n",
    "    return coord_df"
   ]
  },
  {
   "cell_type": "code",
   "execution_count": 35,
   "metadata": {},
   "outputs": [],
   "source": [
    "#xyzarr = np.empty()"
   ]
  },
  {
   "cell_type": "code",
   "execution_count": null,
   "metadata": {},
   "outputs": [],
   "source": [
    "def init_xyz_array(xyzfile):\n",
    "    "
   ]
  },
  {
   "cell_type": "code",
   "execution_count": 56,
   "metadata": {},
   "outputs": [],
   "source": [
    "def read_xyz(xyzfile,flatten=True):\n",
    "    \"\"\"\n",
    "    usage: read_xyz(xyzfile,flatten#Boolean)\n",
    "    \n",
    "    Reads a xyz-file and returns the coordinates as DF\n",
    "    or flattened to a Numpy-array\n",
    "    \"\"\"\n",
    "    xyz_temp = pd.read_csv(xyzfile, \\\n",
    "                       sep='\\s+', \\\n",
    "                       skiprows=2, \\\n",
    "                       header=None, \\\n",
    "                       index_col=0, \\\n",
    "                       names=['x','y','z']\\\n",
    "                      ).sort_index(ascending=False)\n",
    "    \n",
    "    if flatten==True:\n",
    "        xyz_flat = xyz_temp.values.flatten().reshape(1,57)\n",
    "        return xyz_flat\n",
    "    else:\n",
    "        return xyz_temp"
   ]
  },
  {
   "cell_type": "code",
   "execution_count": 73,
   "metadata": {},
   "outputs": [],
   "source": [
    "def makeMultiIndexs(arr):\n",
    "    top_arr = np.empty((arr.size * 3)).astype(str)\n",
    "    top_arr[0::3] = arr\n",
    "    top_arr[1::3] = arr\n",
    "    top_arr[2::3] = arr\n",
    "    butt_arr = np.empty((arr_atomnames.size * 3)).astype(str)\n",
    "    butt_arr[0::3] = \"x\"\n",
    "    butt_arr[1::3] = \"y\"\n",
    "    butt_arr[2::3] = \"z\"\n",
    "    col_arr = np.vstack((top_arr,butt_arr))\n",
    "    #col_arr.transpose()\n",
    "    col_arr_tuples = list(zip(*col_arr))\n",
    "    col_names = pd.MultiIndex.from_tuples(col_arr_tuples, names=[\"Atom\",\"Coord\"])\n",
    "    return col_names"
   ]
  },
  {
   "cell_type": "markdown",
   "metadata": {},
   "source": [
    "Load a coord into a DataFrame"
   ]
  },
  {
   "cell_type": "code",
   "execution_count": 3,
   "metadata": {},
   "outputs": [],
   "source": [
    "xyz_test = pd.read_csv(\"Data1/0.xyz\", \\\n",
    "                       sep='\\s+', \\\n",
    "                       skiprows=2, \\\n",
    "                       header=None, \\\n",
    "                       index_col=0, \\\n",
    "                       names=['x','y','z']\\\n",
    "                      ).sort_index(ascending=False)\n",
    "# Atom names in indexes"
   ]
  },
  {
   "cell_type": "markdown",
   "metadata": {},
   "source": [
    "```python\n",
    "xyz_test = pd.read_csv(\"Data1/0.xyz\", \\\n",
    "                       sep='\\s+',\\\n",
    "                       skiprows=2, \\\n",
    "                       header=None, \\\n",
    "                       names=['atom','x','y','z']\\\n",
    "                      ).sort_values(by='atom',ascending=False).reset_index(drop=True)\n",
    "# Atom names in col 0\n",
    "```\n"
   ]
  },
  {
   "cell_type": "markdown",
   "metadata": {},
   "source": [
    "Print the names of the atoms"
   ]
  },
  {
   "cell_type": "markdown",
   "metadata": {},
   "source": [
    "> How is order handled under one label?\n",
    "- what is the order of other coord files?"
   ]
  },
  {
   "cell_type": "markdown",
   "metadata": {},
   "source": [
    "Save the names of the atoms to an array"
   ]
  },
  {
   "cell_type": "code",
   "execution_count": 5,
   "metadata": {},
   "outputs": [],
   "source": [
    "arr_indexes = np.array(xyz_test.index)"
   ]
  },
  {
   "cell_type": "code",
   "execution_count": 6,
   "metadata": {},
   "outputs": [
    {
     "data": {
      "text/plain": [
       "19"
      ]
     },
     "execution_count": 6,
     "metadata": {},
     "output_type": "execute_result"
    }
   ],
   "source": [
    "arr_indexes.shape[0]"
   ]
  },
  {
   "cell_type": "markdown",
   "metadata": {},
   "source": [
    "Get numbers for the atoms and concatenate them with the labels"
   ]
  },
  {
   "cell_type": "code",
   "execution_count": 7,
   "metadata": {},
   "outputs": [],
   "source": [
    "list_atomnames = []\n",
    "\n",
    "for i,j in enumerate(arr_indexes):\n",
    "    list_atomnames.append(\"{} {}\".format(j,i))\n",
    "\n",
    "arr_atomnames = np.array(list_atomnames)"
   ]
  },
  {
   "cell_type": "markdown",
   "metadata": {},
   "source": [
    "Make the multi-index array of tuples"
   ]
  },
  {
   "cell_type": "code",
   "execution_count": 69,
   "metadata": {},
   "outputs": [],
   "source": [
    "top_arr = np.empty((arr_atomnames.size * 3)).astype(str)\n",
    "top_arr[0::3] = arr_atomnames\n",
    "top_arr[1::3] = arr_atomnames\n",
    "top_arr[2::3] = arr_atomnames\n",
    "#top_arr"
   ]
  },
  {
   "cell_type": "code",
   "execution_count": 70,
   "metadata": {},
   "outputs": [],
   "source": [
    "butt_arr = np.empty((arr_atomnames.size * 3)).astype(str)\n",
    "butt_arr[0::3] = \"x\"\n",
    "butt_arr[1::3] = \"y\"\n",
    "butt_arr[2::3] = \"z\"\n",
    "#butt_arr"
   ]
  },
  {
   "cell_type": "code",
   "execution_count": 10,
   "metadata": {},
   "outputs": [
    {
     "data": {
      "text/plain": [
       "[('S 0', 'x'), ('S 0', 'y'), ('S 0', 'z'), ('O 1', 'x'), ('O 1', 'y')]"
      ]
     },
     "execution_count": 10,
     "metadata": {},
     "output_type": "execute_result"
    }
   ],
   "source": [
    "col_arr = np.vstack((top_arr,butt_arr))\n",
    "#col_arr.transpose()\n",
    "col_arr_tuples = list(zip(*col_arr))\n",
    "col_arr_tuples[:5]"
   ]
  },
  {
   "cell_type": "markdown",
   "metadata": {},
   "source": [
    "Multi-index column names"
   ]
  },
  {
   "cell_type": "code",
   "execution_count": 11,
   "metadata": {},
   "outputs": [
    {
     "data": {
      "text/plain": [
       "MultiIndex(levels=[['H 10', 'H 11', 'H 12', 'H 13', 'H 14', 'H 15', 'H 16', 'H 17', 'H 18', 'H 9', 'O 1', 'O 2', 'O 3', 'O 4', 'O 5', 'O 6', 'O 7', 'O 8', 'S 0'], ['x', 'y', 'z']],\n",
       "           labels=[[18, 18, 18, 10, 10, 10, 11, 11, 11, 12, 12, 12, 13, 13, 13, 14, 14, 14, 15, 15, 15, 16, 16, 16, 17, 17, 17, 9, 9, 9, 0, 0, 0, 1, 1, 1, 2, 2, 2, 3, 3, 3, 4, 4, 4, 5, 5, 5, 6, 6, 6, 7, 7, 7, 8, 8, 8], [0, 1, 2, 0, 1, 2, 0, 1, 2, 0, 1, 2, 0, 1, 2, 0, 1, 2, 0, 1, 2, 0, 1, 2, 0, 1, 2, 0, 1, 2, 0, 1, 2, 0, 1, 2, 0, 1, 2, 0, 1, 2, 0, 1, 2, 0, 1, 2, 0, 1, 2, 0, 1, 2, 0, 1, 2]],\n",
       "           names=['Atom', 'Coord'])"
      ]
     },
     "execution_count": 11,
     "metadata": {},
     "output_type": "execute_result"
    }
   ],
   "source": [
    "col_names = pd.MultiIndex.from_tuples(col_arr_tuples, names=[\"Atom\",\"Coord\"])\n",
    "col_names"
   ]
  },
  {
   "cell_type": "markdown",
   "metadata": {},
   "source": []
  },
  {
   "cell_type": "code",
   "execution_count": 12,
   "metadata": {},
   "outputs": [
    {
     "data": {
      "text/plain": [
       "57"
      ]
     },
     "execution_count": 12,
     "metadata": {},
     "output_type": "execute_result"
    }
   ],
   "source": [
    "3*19"
   ]
  },
  {
   "cell_type": "code",
   "execution_count": 13,
   "metadata": {},
   "outputs": [
    {
     "data": {
      "text/plain": [
       "(57,)"
      ]
     },
     "execution_count": 13,
     "metadata": {},
     "output_type": "execute_result"
    }
   ],
   "source": [
    "xyz_test.values.flatten().shape"
   ]
  },
  {
   "cell_type": "code",
   "execution_count": 14,
   "metadata": {},
   "outputs": [],
   "source": [
    "xyz_flat = xyz_test.values.flatten().reshape(1,57)"
   ]
  },
  {
   "cell_type": "code",
   "execution_count": 17,
   "metadata": {},
   "outputs": [
    {
     "data": {
      "text/plain": [
       "numpy.ndarray"
      ]
     },
     "execution_count": 17,
     "metadata": {},
     "output_type": "execute_result"
    }
   ],
   "source": [
    "type(xyz_flat)"
   ]
  },
  {
   "cell_type": "code",
   "execution_count": 60,
   "metadata": {},
   "outputs": [
    {
     "data": {
      "text/html": [
       "<div>\n",
       "<style scoped>\n",
       "    .dataframe tbody tr th:only-of-type {\n",
       "        vertical-align: middle;\n",
       "    }\n",
       "\n",
       "    .dataframe tbody tr th {\n",
       "        vertical-align: top;\n",
       "    }\n",
       "\n",
       "    .dataframe thead tr th {\n",
       "        text-align: left;\n",
       "    }\n",
       "</style>\n",
       "<table border=\"1\" class=\"dataframe\">\n",
       "  <thead>\n",
       "    <tr>\n",
       "      <th>Atom</th>\n",
       "      <th colspan=\"3\" halign=\"left\">S 0</th>\n",
       "      <th colspan=\"3\" halign=\"left\">O 1</th>\n",
       "      <th colspan=\"3\" halign=\"left\">O 2</th>\n",
       "      <th>O 3</th>\n",
       "      <th>...</th>\n",
       "      <th>H 15</th>\n",
       "      <th colspan=\"3\" halign=\"left\">H 16</th>\n",
       "      <th colspan=\"3\" halign=\"left\">H 17</th>\n",
       "      <th colspan=\"3\" halign=\"left\">H 18</th>\n",
       "    </tr>\n",
       "    <tr>\n",
       "      <th>Coord</th>\n",
       "      <th>x</th>\n",
       "      <th>y</th>\n",
       "      <th>z</th>\n",
       "      <th>x</th>\n",
       "      <th>y</th>\n",
       "      <th>z</th>\n",
       "      <th>x</th>\n",
       "      <th>y</th>\n",
       "      <th>z</th>\n",
       "      <th>x</th>\n",
       "      <th>...</th>\n",
       "      <th>z</th>\n",
       "      <th>x</th>\n",
       "      <th>y</th>\n",
       "      <th>z</th>\n",
       "      <th>x</th>\n",
       "      <th>y</th>\n",
       "      <th>z</th>\n",
       "      <th>x</th>\n",
       "      <th>y</th>\n",
       "      <th>z</th>\n",
       "    </tr>\n",
       "  </thead>\n",
       "  <tbody>\n",
       "    <tr>\n",
       "      <th>a</th>\n",
       "      <td>0.141169</td>\n",
       "      <td>0.586462</td>\n",
       "      <td>-1.579178</td>\n",
       "      <td>1.571959</td>\n",
       "      <td>0.634674</td>\n",
       "      <td>1.58739</td>\n",
       "      <td>-0.496376</td>\n",
       "      <td>-0.79309</td>\n",
       "      <td>1.912224</td>\n",
       "      <td>0.122061</td>\n",
       "      <td>...</td>\n",
       "      <td>-0.603801</td>\n",
       "      <td>0.369601</td>\n",
       "      <td>-0.238477</td>\n",
       "      <td>1.922843</td>\n",
       "      <td>-1.21537</td>\n",
       "      <td>-0.160903</td>\n",
       "      <td>1.456282</td>\n",
       "      <td>-0.303001</td>\n",
       "      <td>-1.543416</td>\n",
       "      <td>1.207911</td>\n",
       "    </tr>\n",
       "  </tbody>\n",
       "</table>\n",
       "<p>1 rows × 57 columns</p>\n",
       "</div>"
      ],
      "text/plain": [
       "Atom        S 0                           O 1                          O 2  \\\n",
       "Coord         x         y         z         x         y        z         x   \n",
       "a      0.141169  0.586462 -1.579178  1.571959  0.634674  1.58739 -0.496376   \n",
       "\n",
       "Atom                           O 3    ...         H 15      H 16            \\\n",
       "Coord        y         z         x    ...            z         x         y   \n",
       "a     -0.79309  1.912224  0.122061    ...    -0.603801  0.369601 -0.238477   \n",
       "\n",
       "Atom                H 17                          H 18                      \n",
       "Coord         z        x         y         z         x         y         z  \n",
       "a      1.922843 -1.21537 -0.160903  1.456282 -0.303001 -1.543416  1.207911  \n",
       "\n",
       "[1 rows x 57 columns]"
      ]
     },
     "execution_count": 60,
     "metadata": {},
     "output_type": "execute_result"
    }
   ],
   "source": [
    "coord_df"
   ]
  },
  {
   "cell_type": "code",
   "execution_count": 15,
   "metadata": {},
   "outputs": [
    {
     "name": "stdout",
     "output_type": "stream",
     "text": [
      "Atom        S 0                           O 1                          O 2  \\\n",
      "Coord         x         y         z         x         y        z         x   \n",
      "a      0.141169  0.586462 -1.579178  1.571959  0.634674  1.58739 -0.496376   \n",
      "\n",
      "Atom                           O 3                          O 4            \\\n",
      "Coord        y         z         x         y         z        x         y   \n",
      "a     -0.79309  1.912224  0.122061 -2.393288  0.079677  1.01335 -0.572018   \n",
      "\n",
      "Atom                  O 5                          O 6                      \\\n",
      "Coord         z         x         y        z         x         y         z   \n",
      "a     -1.481227 -1.989939  0.798705  0.68009  0.522933  1.346199 -2.915277   \n",
      "\n",
      "Atom        O 7                           O 8                          H 9  \\\n",
      "Coord         x         y         z         x        y         z         x   \n",
      "a      0.369189  1.535905 -0.499852 -1.256258  0.20951 -1.702193  0.192515   \n",
      "\n",
      "Atom                           H 10                          H 11            \\\n",
      "Coord         y         z         x         y         z         x         y   \n",
      "a      0.757764 -3.586885  1.779578  1.401354  2.124928  1.251429  0.984936   \n",
      "\n",
      "Atom                 H 12                          H 13                      \\\n",
      "Coord         z         x         y         z         x         y         z   \n",
      "a      0.710985 -1.489374  1.623473  0.682714 -1.897694  0.492448 -0.263903   \n",
      "\n",
      "Atom       H 14                          H 15                          H 16  \\\n",
      "Coord         x         y         z         x         y         z         x   \n",
      "a      0.886638 -2.942662  0.267271  0.427588 -1.727576 -0.603801  0.369601   \n",
      "\n",
      "Atom                          H 17                          H 18            \\\n",
      "Coord         y         z        x         y         z         x         y   \n",
      "a     -0.238477  1.922843 -1.21537 -0.160903  1.456282 -0.303001 -1.543416   \n",
      "\n",
      "Atom             \n",
      "Coord         z  \n",
      "a      1.207911  \n"
     ]
    }
   ],
   "source": [
    "coord_df = pd.DataFrame(xyz_flat,index=['a'],columns=col_names)\n",
    "with pd.option_context('display.max_rows',None,'display.max_columns',None):\n",
    "    print(coord_df)"
   ]
  },
  {
   "cell_type": "code",
   "execution_count": null,
   "metadata": {},
   "outputs": [],
   "source": []
  }
 ],
 "metadata": {
  "kernelspec": {
   "display_name": "Python 3",
   "language": "python",
   "name": "python3"
  },
  "language_info": {
   "codemirror_mode": {
    "name": "ipython",
    "version": 3
   },
   "file_extension": ".py",
   "mimetype": "text/x-python",
   "name": "python",
   "nbconvert_exporter": "python",
   "pygments_lexer": "ipython3",
   "version": "3.7.1"
  }
 },
 "nbformat": 4,
 "nbformat_minor": 2
}
