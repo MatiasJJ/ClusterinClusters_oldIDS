{
 "cells": [
  {
   "cell_type": "code",
   "execution_count": 36,
   "metadata": {},
   "outputs": [],
   "source": [
    "import numpy as np\n",
    "import pandas as pd\n",
    "import matplotlib.pyplot as plt\n",
    "import seaborn as sns\n",
    "import scipy as scp\n",
    "import nltk\n",
    "import imageio\n",
    "import sklearn\n",
    "\n",
    "from sklearn.model_selection import train_test_split\n",
    "from sklearn.linear_model import LinearRegression\n",
    "from sklearn.feature_selection import RFE\n",
    "from sklearn.svm import SVR\n",
    "from sklearn.decomposition import PCA\n",
    "from sklearn.cluster import KMeans\n",
    "from sklearn.manifold import TSNE\n",
    "\n",
    "from timeit import default_timer as timer\n",
    "%matplotlib inline\n",
    "\n",
    "import json as js"
   ]
  },
  {
   "cell_type": "markdown",
   "metadata": {},
   "source": [
    "# Project\n",
    "### Stages"
   ]
  },
  {
   "cell_type": "markdown",
   "metadata": {},
   "source": [
    "**Timetable**\n",
    "\n",
    "| Time | Task |\n",
    "|----|----|\n",
    "|9.9. | Groups deadline |\n",
    "|16.9.| Topics deadline |\n",
    "| here | EDA, clean data, do project |\n",
    "|vk42 | presentation |\n",
    "|vk43 | projektit |"
   ]
  },
  {
   "cell_type": "markdown",
   "metadata": {},
   "source": [
    "## Project\n",
    "```\n",
    "A. Title of the project\t\n",
    "            \n",
    "B. Elevator pitch [max 400 characters]\n",
    " \n",
    "Describe the data science challenges related to the following themes. \n",
    "A good project should include interesting challenges under most of \n",
    "the themes. So for example, a project that begins with a single clean\n",
    "data set and a clear task (e.g., predict a given response), isn't a good \n",
    "choice for your project.\t\t\n",
    "            \n",
    "C. Data: sources, wrangling, management\t\t\n",
    "            \n",
    "D. Data analysis: statistics, machine learning\t\n",
    "            \n",
    "E. Communication of results: summarization & visualization\n",
    "            \n",
    "F. Operationalization: creating added value, end-user point of view\n",
    "```"
   ]
  },
  {
   "cell_type": "markdown",
   "metadata": {},
   "source": [
    "- 4x20x10000 stuctures with 19-30 atoms in a cluster\n",
    "    - coordinates\n",
    "    - dipole moment\n",
    "    - energy\n",
    "- Goals\n",
    "    - End user\n",
    "        - Configuration Sampling \n",
    "            - Find one structure with the lowest energy\n",
    "    - Eliminate redundant structures\n",
    "    - Find descriptors\n",
    "        - reduce dimensions\n",
    "    "
   ]
  },
  {
   "cell_type": "markdown",
   "metadata": {},
   "source": [
    "## Pitch talk 3min\n",
    "\n",
    "- Sell oriented\n",
    "    - Not technical\n",
    "- Slides, picures, figures\n",
    "    - Why useful\n",
    "    - Why interesting\n",
    "- Any person or all\n",
    "\n",
    "> We could make video from screenshots describing the problem\n",
    "\n",
    "> Check project-instructions for deadlines (tue 22.10. klo 23.59)"
   ]
  },
  {
   "cell_type": "markdown",
   "metadata": {},
   "source": [
    "# How to Cluster"
   ]
  },
  {
   "cell_type": "markdown",
   "metadata": {},
   "source": [
    "#### Read data in"
   ]
  },
  {
   "cell_type": "markdown",
   "metadata": {},
   "source": [
    "Data must have a `.csv`-file that contains:  \n",
    "Header row: ``` Filename,LogPath,XYZPath,Dipole,Energy ```\n",
    "\n",
    "\n",
    "| Filename | LogPath | XYZPath | Dipole| Energy |\n",
    "|------|------|------|------|------|\n",
    "| Name of the cluster | path to .log-file | path to .xyz-file | Dipole moment value | Energy value |"
   ]
  },
  {
   "cell_type": "markdown",
   "metadata": {},
   "source": [
    "> Here we either require the .log-file or remove it from the code"
   ]
  },
  {
   "cell_type": "markdown",
   "metadata": {},
   "source": [
    "#### Make the csv-file \n",
    "> Instructions how to make the .csv-file from the actual data using the script"
   ]
  },
  {
   "cell_type": "markdown",
   "metadata": {},
   "source": [
    "#### Run these cells with ```shift+enter```"
   ]
  },
  {
   "cell_type": "code",
   "execution_count": 2,
   "metadata": {},
   "outputs": [],
   "source": [
    "def init_DF(csvfile):\n",
    "    \"Reads a xyz-file and initializes the dataframe.\"\n",
    "    \n",
    "    filescsv = pd.read_csv(csvfile)                    # Read tthe .csv-file to a DataFrame\n",
    "    xyz_temp = filescsv.iloc[0,2]                      # Get one .xyz-file as a reference\n",
    "    \n",
    "    xyz_test = read_xyz(xyz_temp,flatten=False)        # Read coordinates to a DF (no flattening)\n",
    "    \n",
    "    #filenames = filescsv.iloc[:,0]                    # Get the names for files as a Series (This one not used here)\n",
    "    n_atoms = xyz_test.index.size                      # Number of atoms from the reference .xyz-file\n",
    "    atomnames = np.array(xyz_test.index)               # Names of all the atoms as ndarray\n",
    "    \n",
    "    list_atomnames = []\n",
    "    for i,j in enumerate(atomnames):                   # Give numbers for the atoms\n",
    "        list_atomnames.append(\"{}_{}\".format(j,i))\n",
    "    arr_atomnames = np.array(list_atomnames)           # Enumerated atomnames as an ndarray\n",
    "    \n",
    "    col_names = makeMultiIndexs(arr_atomnames)         # Make column names (multi-index)\n",
    "\n",
    "    arr_clusters,filenames = init_xyz_array(filescsv,n_atoms) # Read the actual coordinate data\n",
    "    \n",
    "    coord_df = pd.DataFrame(arr_clusters,index=filenames,columns=col_names) # Save the data in nice DF-fornat\n",
    "    \n",
    "    \n",
    "    return coord_df"
   ]
  },
  {
   "cell_type": "code",
   "execution_count": 3,
   "metadata": {},
   "outputs": [],
   "source": [
    "def init_xyz_array(filecsv, n_atoms):\n",
    "    \"\"\"Reads .xyz-file paths from .csv-file and returns \n",
    "    an array with all xyz-coords in rows, and the filenames for DF indexes\"\"\"\n",
    "    \n",
    "    arr_clusters = np.zeros((1,3*n_atoms+2))             # cols of coord array should be of shape [clusters,atoms*[x,y,z]]\n",
    "    filenames = np.array(filecsv.Filename)               # Get the names of the clusters from the .csv-file\n",
    "\n",
    "    for index, row in filecsv.iterrows():                # Iterate through clusters and save their attributes\n",
    "        dipole = row.Dipole                              # find the dipole value\n",
    "        energy = row.Energy                              # find the energy value\n",
    "        metarr = np.array([energy,dipole])               # put dipole and energy to an array\n",
    "        path = row.XYZPath                               # find the path for .xyz-file\n",
    "        xyzs = read_xyz(path)                            # Read coordinates to an ndarray with flatten=True (default)\n",
    "\n",
    "        #if index == None:                               # print stuff for debugging purposes of this function\n",
    "        #    print(\"Filename:\",filename)\n",
    "        #    print(\"metarr:\",metarr)\n",
    "        #    print(\"shape:\",metarr.shape)\n",
    "        #    print(\"type:\",type(metarr))\n",
    "        #    print(\"path:\",path)\n",
    "        #    print(\"coordshape:\",xyzs.shape)\n",
    "        #    print(\"coords:\",xyzs)\n",
    "        \n",
    "        arrr = np.array(list(metarr)+list(xyzs))         # concatenate one cluster info\n",
    "        arr_clusters = np.vstack((arr_clusters,arrr))    # concatenate clusters to one array\n",
    "    return arr_clusters[1:,:], filenames"
   ]
  },
  {
   "cell_type": "code",
   "execution_count": 4,
   "metadata": {},
   "outputs": [],
   "source": [
    "def read_xyz(xyzfile,flatten=True):\n",
    "    \"\"\"\n",
    "    usage: read_xyz(xyzfile,flatten(Default=True))\n",
    "    \n",
    "    Reads a xyz-file and returns the coordinates as DF\n",
    "    or flattened to a Numpy-array\n",
    "    \"\"\"\n",
    "    xyz_temp = pd.read_csv(xyzfile, \\\n",
    "                       sep='\\s+', \\\n",
    "                       skiprows=2, \\\n",
    "                       header=None, \\\n",
    "                       index_col=0, \\\n",
    "                       names=['x','y','z']\\\n",
    "                      ).sort_index(ascending=False)       # Reads coordinates from an xyz-file\n",
    "    \n",
    "    atoms3 = xyz_temp.shape[0]*3                          # multiply n of atoms with 3 dimensions\n",
    "    \n",
    "    if flatten==True:\n",
    "        xyz_flat = xyz_temp.values.flatten().reshape(1,atoms3)#.astype(np.float)\n",
    "        return xyz_flat[0]                                # returns coordinates as ndarray of shape [1,atoms*3]\n",
    "    else:\n",
    "        return xyz_temp                                   # returns coordinates as a DF"
   ]
  },
  {
   "cell_type": "code",
   "execution_count": 5,
   "metadata": {},
   "outputs": [],
   "source": [
    "def makeMultiIndexs(arr):\n",
    "    \"\"\"\n",
    "    Gets names of atoms as array and makes a pandas multi-indexing structure\n",
    "    with x-, y- and z- columns for each atom.\n",
    "    \"\"\"\n",
    "    top_arr = np.empty((arr.size * 3 +2)).astype(str)\n",
    "    top_arr[0] = \"Properties\"\n",
    "    top_arr[1] = \"Properties\"\n",
    "    top_arr[2::3] = arr\n",
    "    top_arr[3::3] = arr\n",
    "    top_arr[4::3] = arr\n",
    "    butt_arr = np.empty((arr.size * 3 +2)).astype(str)\n",
    "    butt_arr[0] = \"Energy\"\n",
    "    butt_arr[1] = \"Dipole\"\n",
    "    butt_arr[2::3] = \"x\"\n",
    "    butt_arr[3::3] = \"y\"\n",
    "    butt_arr[4::3] = \"z\"\n",
    "    col_arr = np.vstack((top_arr,butt_arr))\n",
    "    #col_arr.transpose()\n",
    "    col_arr_tuples = list(zip(*col_arr))\n",
    "    col_names = pd.MultiIndex.from_tuples(col_arr_tuples, names=[\"Atom\",\"Coord\"])\n",
    "    return col_names"
   ]
  },
  {
   "cell_type": "code",
   "execution_count": 6,
   "metadata": {},
   "outputs": [],
   "source": [
    "clusters_df = init_DF(\"Data2/Data_Collection.csv\")"
   ]
  },
  {
   "cell_type": "code",
   "execution_count": 7,
   "metadata": {},
   "outputs": [],
   "source": [
    "#from multi-index to one index\n",
    "clusters_df.columns = ['_'.join(col) for col in clusters_df.columns.values]"
   ]
  },
  {
   "cell_type": "code",
   "execution_count": 8,
   "metadata": {},
   "outputs": [
    {
     "data": {
      "text/plain": [
       "(46000, 80)"
      ]
     },
     "execution_count": 8,
     "metadata": {},
     "output_type": "execute_result"
    }
   ],
   "source": [
    "clusters_df.shape"
   ]
  },
  {
   "cell_type": "markdown",
   "metadata": {},
   "source": [
    "## Data exploration / EDA"
   ]
  },
  {
   "cell_type": "markdown",
   "metadata": {},
   "source": [
    "We start by looking at the correlation among our variables. The correlation betwwen two variables is a measure of the linear dependecy among them:\n",
    "$$ Cor(X,Y)=\\frac{Cov(X,Y)}{\\sqrt{Var(X)Var(Y)}}$$\n",
    "In order to apply a linear model to predict the energy wrt the other variables, is important to check that there is a small correlation  between the variables we are using as predictors, since we will predict the response by an approprate linear combination of the predictors. In our data, there is no particoularly high correlation."
   ]
  },
  {
   "cell_type": "code",
   "execution_count": 9,
   "metadata": {},
   "outputs": [
    {
     "data": {
      "text/plain": [
       "<matplotlib.axes._subplots.AxesSubplot at 0x1a1ccddf28>"
      ]
     },
     "execution_count": 9,
     "metadata": {},
     "output_type": "execute_result"
    },
    {
     "data": {
      "image/png": "[encoded data removed]",
      "text/plain": [
       "<Figure size 792x648 with 2 Axes>"
      ]
     },
     "metadata": {},
     "output_type": "display_data"
    }
   ],
   "source": [
    "sns.set(style=\"white\")\n",
    "\n",
    "# Compute the correlation matrix\n",
    "corr = clusters_df.corr()\n",
    "\n",
    "# Generate a mask for the upper triangle\n",
    "mask = np.zeros_like(corr, dtype=np.bool)\n",
    "mask[np.triu_indices_from(mask)] = True\n",
    "\n",
    "# Set up the matplotlib figure\n",
    "f, ax = plt.subplots(figsize=(11,9))\n",
    "\n",
    "# Generate a custom diverging colormap\n",
    "cmap = sns.diverging_palette(220, 10, as_cmap=True)\n",
    "\n",
    "# Draw the heatmap with the mask and correct aspect ratio\n",
    "sns.heatmap(corr, mask=mask, cmap=cmap, vmax=.3, center=0,\n",
    "            square=True, linewidths=.5, cbar_kws={\"shrink\": .5})"
   ]
  },
  {
   "cell_type": "markdown",
   "metadata": {},
   "source": [
    "The correlations among data are not really high, hence we can consider all of hem as independent variables.   \n",
    "Having a look on the distributions of the energy variable, it is asymmetric, with a tail on the right. "
   ]
  },
  {
   "cell_type": "code",
   "execution_count": 10,
   "metadata": {},
   "outputs": [
    {
     "name": "stderr",
     "output_type": "stream",
     "text": [
      "/anaconda3/lib/python3.7/site-packages/scipy/stats/stats.py:1713: FutureWarning: Using a non-tuple sequence for multidimensional indexing is deprecated; use `arr[tuple(seq)]` instead of `arr[seq]`. In the future this will be interpreted as an array index, `arr[np.array(seq)]`, which will result either in an error or a different result.\n",
      "  return np.add.reduce(sorted[indexer] * weights, axis=axis) / sumval\n"
     ]
    },
    {
     "data": {
      "text/plain": [
       "<seaborn.axisgrid.PairGrid at 0x1a1db03be0>"
      ]
     },
     "execution_count": 10,
     "metadata": {},
     "output_type": "execute_result"
    },
    {
     "data": {
      "image/png": "[encoded data removed]",
      "text/plain": [
       "<Figure size 360x360 with 6 Axes>"
      ]
     },
     "metadata": {},
     "output_type": "display_data"
    }
   ],
   "source": [
    "sns.set(style=\"ticks\", color_codes=True)\n",
    "sns.pairplot(clusters_df,  kind=\"reg\",vars=['Properties_Energy','Properties_Dipole'])"
   ]
  },
  {
   "cell_type": "markdown",
   "metadata": {},
   "source": [
    "Energy and dipole don't have significant correlation"
   ]
  },
  {
   "cell_type": "code",
   "execution_count": 11,
   "metadata": {},
   "outputs": [
    {
     "data": {
      "text/plain": [
       "<matplotlib.lines.Line2D at 0x1a1c003fd0>"
      ]
     },
     "execution_count": 11,
     "metadata": {},
     "output_type": "execute_result"
    },
    {
     "data": {
      "image/png": "[encoded data removed]",
      "text/plain": [
       "<Figure size 432x288 with 1 Axes>"
      ]
     },
     "metadata": {},
     "output_type": "display_data"
    }
   ],
   "source": [
    "clusters_df['Properties_Energy'].hist()\n",
    "plt.title(\"Energy\")\n",
    "plt.axvline(np.mean(clusters_df['Properties_Energy']), color='k', linestyle='dashed', linewidth=2)"
   ]
  },
  {
   "cell_type": "markdown",
   "metadata": {},
   "source": [
    "Difference between min and max energies is very small"
   ]
  },
  {
   "cell_type": "code",
   "execution_count": 12,
   "metadata": {},
   "outputs": [
    {
     "data": {
      "text/plain": [
       "<seaborn.axisgrid.FacetGrid at 0x1a1db035f8>"
      ]
     },
     "execution_count": 12,
     "metadata": {},
     "output_type": "execute_result"
    },
    {
     "data": {
      "image/png": "[encoded data removed]",
      "text/plain": [
       "<Figure size 360x360 with 1 Axes>"
      ]
     },
     "metadata": {},
     "output_type": "display_data"
    }
   ],
   "source": [
    "sns.catplot( y=\"Properties_Energy\", kind=\"box\", data=clusters_df)"
   ]
  },
  {
   "cell_type": "markdown",
   "metadata": {},
   "source": [
    "The algorithm in ABCluster tries to make the energies as small as possible hich can be seen here"
   ]
  },
  {
   "cell_type": "code",
   "execution_count": 13,
   "metadata": {},
   "outputs": [
    {
     "data": {
      "text/html": [
       "<div>\n",
       "<style scoped>\n",
       "    .dataframe tbody tr th:only-of-type {\n",
       "        vertical-align: middle;\n",
       "    }\n",
       "\n",
       "    .dataframe tbody tr th {\n",
       "        vertical-align: top;\n",
       "    }\n",
       "\n",
       "    .dataframe thead th {\n",
       "        text-align: right;\n",
       "    }\n",
       "</style>\n",
       "<table border=\"1\" class=\"dataframe\">\n",
       "  <thead>\n",
       "    <tr style=\"text-align: right;\">\n",
       "      <th></th>\n",
       "      <th>Properties_Energy</th>\n",
       "      <th>Properties_Dipole</th>\n",
       "      <th>S_0_x</th>\n",
       "      <th>S_0_y</th>\n",
       "      <th>S_0_z</th>\n",
       "      <th>O_1_x</th>\n",
       "      <th>O_1_y</th>\n",
       "      <th>O_1_z</th>\n",
       "      <th>O_2_x</th>\n",
       "      <th>O_2_y</th>\n",
       "      <th>...</th>\n",
       "      <th>H_22_z</th>\n",
       "      <th>H_23_x</th>\n",
       "      <th>H_23_y</th>\n",
       "      <th>H_23_z</th>\n",
       "      <th>H_24_x</th>\n",
       "      <th>H_24_y</th>\n",
       "      <th>H_24_z</th>\n",
       "      <th>H_25_x</th>\n",
       "      <th>H_25_y</th>\n",
       "      <th>H_25_z</th>\n",
       "    </tr>\n",
       "  </thead>\n",
       "  <tbody>\n",
       "    <tr>\n",
       "      <th>0</th>\n",
       "      <td>-50.468145</td>\n",
       "      <td>4.356</td>\n",
       "      <td>-1.379895</td>\n",
       "      <td>0.061807</td>\n",
       "      <td>-0.182111</td>\n",
       "      <td>0.833224</td>\n",
       "      <td>-2.280608</td>\n",
       "      <td>1.259301</td>\n",
       "      <td>-0.682875</td>\n",
       "      <td>0.984043</td>\n",
       "      <td>...</td>\n",
       "      <td>-0.509070</td>\n",
       "      <td>0.255694</td>\n",
       "      <td>-1.867411</td>\n",
       "      <td>0.572017</td>\n",
       "      <td>0.584763</td>\n",
       "      <td>-3.206009</td>\n",
       "      <td>1.292245</td>\n",
       "      <td>1.863612</td>\n",
       "      <td>2.127057</td>\n",
       "      <td>-1.606021</td>\n",
       "    </tr>\n",
       "    <tr>\n",
       "      <th>10000</th>\n",
       "      <td>-50.457607</td>\n",
       "      <td>2.750</td>\n",
       "      <td>0.798500</td>\n",
       "      <td>0.836092</td>\n",
       "      <td>0.827934</td>\n",
       "      <td>-0.154249</td>\n",
       "      <td>-2.626647</td>\n",
       "      <td>1.372386</td>\n",
       "      <td>-2.453504</td>\n",
       "      <td>-0.806170</td>\n",
       "      <td>...</td>\n",
       "      <td>1.891598</td>\n",
       "      <td>0.033223</td>\n",
       "      <td>-1.684598</td>\n",
       "      <td>1.578384</td>\n",
       "      <td>1.966529</td>\n",
       "      <td>2.451897</td>\n",
       "      <td>0.970348</td>\n",
       "      <td>2.605926</td>\n",
       "      <td>1.759835</td>\n",
       "      <td>-0.742523</td>\n",
       "    </tr>\n",
       "    <tr>\n",
       "      <th>10001</th>\n",
       "      <td>-50.465552</td>\n",
       "      <td>6.214</td>\n",
       "      <td>-0.288598</td>\n",
       "      <td>-2.171093</td>\n",
       "      <td>0.563159</td>\n",
       "      <td>-0.632725</td>\n",
       "      <td>0.717265</td>\n",
       "      <td>2.203356</td>\n",
       "      <td>1.180794</td>\n",
       "      <td>1.990274</td>\n",
       "      <td>...</td>\n",
       "      <td>3.153432</td>\n",
       "      <td>-0.708250</td>\n",
       "      <td>-0.272533</td>\n",
       "      <td>2.054326</td>\n",
       "      <td>0.037828</td>\n",
       "      <td>-4.056000</td>\n",
       "      <td>1.075719</td>\n",
       "      <td>-0.734545</td>\n",
       "      <td>2.556864</td>\n",
       "      <td>-2.136832</td>\n",
       "    </tr>\n",
       "    <tr>\n",
       "      <th>10002</th>\n",
       "      <td>-50.465552</td>\n",
       "      <td>6.213</td>\n",
       "      <td>1.626512</td>\n",
       "      <td>1.411786</td>\n",
       "      <td>0.689068</td>\n",
       "      <td>-2.189124</td>\n",
       "      <td>0.004796</td>\n",
       "      <td>-1.029754</td>\n",
       "      <td>-1.640830</td>\n",
       "      <td>1.150459</td>\n",
       "      <td>...</td>\n",
       "      <td>-0.190639</td>\n",
       "      <td>-2.982469</td>\n",
       "      <td>0.418140</td>\n",
       "      <td>-1.372406</td>\n",
       "      <td>2.966937</td>\n",
       "      <td>2.867822</td>\n",
       "      <td>0.762887</td>\n",
       "      <td>-1.451448</td>\n",
       "      <td>-1.608632</td>\n",
       "      <td>-0.716312</td>\n",
       "    </tr>\n",
       "    <tr>\n",
       "      <th>10003</th>\n",
       "      <td>-50.461850</td>\n",
       "      <td>4.325</td>\n",
       "      <td>-0.135050</td>\n",
       "      <td>1.694351</td>\n",
       "      <td>-0.653021</td>\n",
       "      <td>1.417901</td>\n",
       "      <td>-1.183480</td>\n",
       "      <td>0.336841</td>\n",
       "      <td>-0.964465</td>\n",
       "      <td>-1.903038</td>\n",
       "      <td>...</td>\n",
       "      <td>-0.255785</td>\n",
       "      <td>1.600258</td>\n",
       "      <td>-0.796789</td>\n",
       "      <td>1.236348</td>\n",
       "      <td>0.862813</td>\n",
       "      <td>3.382070</td>\n",
       "      <td>-1.040802</td>\n",
       "      <td>1.089250</td>\n",
       "      <td>0.964558</td>\n",
       "      <td>2.143423</td>\n",
       "    </tr>\n",
       "  </tbody>\n",
       "</table>\n",
       "<p>5 rows × 80 columns</p>\n",
       "</div>"
      ],
      "text/plain": [
       "       Properties_Energy  Properties_Dipole     S_0_x     S_0_y     S_0_z  \\\n",
       "0             -50.468145              4.356 -1.379895  0.061807 -0.182111   \n",
       "10000         -50.457607              2.750  0.798500  0.836092  0.827934   \n",
       "10001         -50.465552              6.214 -0.288598 -2.171093  0.563159   \n",
       "10002         -50.465552              6.213  1.626512  1.411786  0.689068   \n",
       "10003         -50.461850              4.325 -0.135050  1.694351 -0.653021   \n",
       "\n",
       "          O_1_x     O_1_y     O_1_z     O_2_x     O_2_y    ...       H_22_z  \\\n",
       "0      0.833224 -2.280608  1.259301 -0.682875  0.984043    ...    -0.509070   \n",
       "10000 -0.154249 -2.626647  1.372386 -2.453504 -0.806170    ...     1.891598   \n",
       "10001 -0.632725  0.717265  2.203356  1.180794  1.990274    ...     3.153432   \n",
       "10002 -2.189124  0.004796 -1.029754 -1.640830  1.150459    ...    -0.190639   \n",
       "10003  1.417901 -1.183480  0.336841 -0.964465 -1.903038    ...    -0.255785   \n",
       "\n",
       "         H_23_x    H_23_y    H_23_z    H_24_x    H_24_y    H_24_z    H_25_x  \\\n",
       "0      0.255694 -1.867411  0.572017  0.584763 -3.206009  1.292245  1.863612   \n",
       "10000  0.033223 -1.684598  1.578384  1.966529  2.451897  0.970348  2.605926   \n",
       "10001 -0.708250 -0.272533  2.054326  0.037828 -4.056000  1.075719 -0.734545   \n",
       "10002 -2.982469  0.418140 -1.372406  2.966937  2.867822  0.762887 -1.451448   \n",
       "10003  1.600258 -0.796789  1.236348  0.862813  3.382070 -1.040802  1.089250   \n",
       "\n",
       "         H_25_y    H_25_z  \n",
       "0      2.127057 -1.606021  \n",
       "10000  1.759835 -0.742523  \n",
       "10001  2.556864 -2.136832  \n",
       "10002 -1.608632 -0.716312  \n",
       "10003  0.964558  2.143423  \n",
       "\n",
       "[5 rows x 80 columns]"
      ]
     },
     "execution_count": 13,
     "metadata": {},
     "output_type": "execute_result"
    }
   ],
   "source": [
    "clusters_df.head(5)"
   ]
  },
  {
   "cell_type": "code",
   "execution_count": 14,
   "metadata": {},
   "outputs": [],
   "source": [
    "energy=clusters_df['Properties_Energy'] # %1 should take only the decimals but does it?\n",
    "coord=clusters_df.drop(['Properties_Energy','Properties_Dipole'],1) # dipoles and energy out"
   ]
  },
  {
   "cell_type": "code",
   "execution_count": 15,
   "metadata": {},
   "outputs": [
    {
     "data": {
      "text/plain": [
       "0       -50.468145\n",
       "10000   -50.457607\n",
       "10001   -50.465552\n",
       "10002   -50.465552\n",
       "10003   -50.461850\n",
       "Name: Properties_Energy, dtype: float64"
      ]
     },
     "execution_count": 15,
     "metadata": {},
     "output_type": "execute_result"
    }
   ],
   "source": [
    "energy.head()"
   ]
  },
  {
   "cell_type": "code",
   "execution_count": 16,
   "metadata": {},
   "outputs": [
    {
     "data": {
      "text/html": [
       "<div>\n",
       "<style scoped>\n",
       "    .dataframe tbody tr th:only-of-type {\n",
       "        vertical-align: middle;\n",
       "    }\n",
       "\n",
       "    .dataframe tbody tr th {\n",
       "        vertical-align: top;\n",
       "    }\n",
       "\n",
       "    .dataframe thead th {\n",
       "        text-align: right;\n",
       "    }\n",
       "</style>\n",
       "<table border=\"1\" class=\"dataframe\">\n",
       "  <thead>\n",
       "    <tr style=\"text-align: right;\">\n",
       "      <th></th>\n",
       "      <th>S_0_x</th>\n",
       "      <th>S_0_y</th>\n",
       "      <th>S_0_z</th>\n",
       "      <th>O_1_x</th>\n",
       "      <th>O_1_y</th>\n",
       "      <th>O_1_z</th>\n",
       "      <th>O_2_x</th>\n",
       "      <th>O_2_y</th>\n",
       "      <th>O_2_z</th>\n",
       "      <th>O_3_x</th>\n",
       "      <th>...</th>\n",
       "      <th>H_22_z</th>\n",
       "      <th>H_23_x</th>\n",
       "      <th>H_23_y</th>\n",
       "      <th>H_23_z</th>\n",
       "      <th>H_24_x</th>\n",
       "      <th>H_24_y</th>\n",
       "      <th>H_24_z</th>\n",
       "      <th>H_25_x</th>\n",
       "      <th>H_25_y</th>\n",
       "      <th>H_25_z</th>\n",
       "    </tr>\n",
       "  </thead>\n",
       "  <tbody>\n",
       "    <tr>\n",
       "      <th>0</th>\n",
       "      <td>-1.379895</td>\n",
       "      <td>0.061807</td>\n",
       "      <td>-0.182111</td>\n",
       "      <td>0.833224</td>\n",
       "      <td>-2.280608</td>\n",
       "      <td>1.259301</td>\n",
       "      <td>-0.682875</td>\n",
       "      <td>0.984043</td>\n",
       "      <td>-3.337186</td>\n",
       "      <td>-2.308828</td>\n",
       "      <td>...</td>\n",
       "      <td>-0.509070</td>\n",
       "      <td>0.255694</td>\n",
       "      <td>-1.867411</td>\n",
       "      <td>0.572017</td>\n",
       "      <td>0.584763</td>\n",
       "      <td>-3.206009</td>\n",
       "      <td>1.292245</td>\n",
       "      <td>1.863612</td>\n",
       "      <td>2.127057</td>\n",
       "      <td>-1.606021</td>\n",
       "    </tr>\n",
       "    <tr>\n",
       "      <th>10000</th>\n",
       "      <td>0.798500</td>\n",
       "      <td>0.836092</td>\n",
       "      <td>0.827934</td>\n",
       "      <td>-0.154249</td>\n",
       "      <td>-2.626647</td>\n",
       "      <td>1.372386</td>\n",
       "      <td>-2.453504</td>\n",
       "      <td>-0.806170</td>\n",
       "      <td>1.581223</td>\n",
       "      <td>1.814587</td>\n",
       "      <td>...</td>\n",
       "      <td>1.891598</td>\n",
       "      <td>0.033223</td>\n",
       "      <td>-1.684598</td>\n",
       "      <td>1.578384</td>\n",
       "      <td>1.966529</td>\n",
       "      <td>2.451897</td>\n",
       "      <td>0.970348</td>\n",
       "      <td>2.605926</td>\n",
       "      <td>1.759835</td>\n",
       "      <td>-0.742523</td>\n",
       "    </tr>\n",
       "    <tr>\n",
       "      <th>10001</th>\n",
       "      <td>-0.288598</td>\n",
       "      <td>-2.171093</td>\n",
       "      <td>0.563159</td>\n",
       "      <td>-0.632725</td>\n",
       "      <td>0.717265</td>\n",
       "      <td>2.203356</td>\n",
       "      <td>1.180794</td>\n",
       "      <td>1.990274</td>\n",
       "      <td>0.705587</td>\n",
       "      <td>1.145537</td>\n",
       "      <td>...</td>\n",
       "      <td>3.153432</td>\n",
       "      <td>-0.708250</td>\n",
       "      <td>-0.272533</td>\n",
       "      <td>2.054326</td>\n",
       "      <td>0.037828</td>\n",
       "      <td>-4.056000</td>\n",
       "      <td>1.075719</td>\n",
       "      <td>-0.734545</td>\n",
       "      <td>2.556864</td>\n",
       "      <td>-2.136832</td>\n",
       "    </tr>\n",
       "    <tr>\n",
       "      <th>10002</th>\n",
       "      <td>1.626512</td>\n",
       "      <td>1.411786</td>\n",
       "      <td>0.689068</td>\n",
       "      <td>-2.189124</td>\n",
       "      <td>0.004796</td>\n",
       "      <td>-1.029754</td>\n",
       "      <td>-1.640830</td>\n",
       "      <td>1.150459</td>\n",
       "      <td>1.323925</td>\n",
       "      <td>1.291682</td>\n",
       "      <td>...</td>\n",
       "      <td>-0.190639</td>\n",
       "      <td>-2.982469</td>\n",
       "      <td>0.418140</td>\n",
       "      <td>-1.372406</td>\n",
       "      <td>2.966937</td>\n",
       "      <td>2.867822</td>\n",
       "      <td>0.762887</td>\n",
       "      <td>-1.451448</td>\n",
       "      <td>-1.608632</td>\n",
       "      <td>-0.716312</td>\n",
       "    </tr>\n",
       "    <tr>\n",
       "      <th>10003</th>\n",
       "      <td>-0.135050</td>\n",
       "      <td>1.694351</td>\n",
       "      <td>-0.653021</td>\n",
       "      <td>1.417901</td>\n",
       "      <td>-1.183480</td>\n",
       "      <td>0.336841</td>\n",
       "      <td>-0.964465</td>\n",
       "      <td>-1.903038</td>\n",
       "      <td>0.512459</td>\n",
       "      <td>0.049028</td>\n",
       "      <td>...</td>\n",
       "      <td>-0.255785</td>\n",
       "      <td>1.600258</td>\n",
       "      <td>-0.796789</td>\n",
       "      <td>1.236348</td>\n",
       "      <td>0.862813</td>\n",
       "      <td>3.382070</td>\n",
       "      <td>-1.040802</td>\n",
       "      <td>1.089250</td>\n",
       "      <td>0.964558</td>\n",
       "      <td>2.143423</td>\n",
       "    </tr>\n",
       "  </tbody>\n",
       "</table>\n",
       "<p>5 rows × 78 columns</p>\n",
       "</div>"
      ],
      "text/plain": [
       "          S_0_x     S_0_y     S_0_z     O_1_x     O_1_y     O_1_z     O_2_x  \\\n",
       "0     -1.379895  0.061807 -0.182111  0.833224 -2.280608  1.259301 -0.682875   \n",
       "10000  0.798500  0.836092  0.827934 -0.154249 -2.626647  1.372386 -2.453504   \n",
       "10001 -0.288598 -2.171093  0.563159 -0.632725  0.717265  2.203356  1.180794   \n",
       "10002  1.626512  1.411786  0.689068 -2.189124  0.004796 -1.029754 -1.640830   \n",
       "10003 -0.135050  1.694351 -0.653021  1.417901 -1.183480  0.336841 -0.964465   \n",
       "\n",
       "          O_2_y     O_2_z     O_3_x    ...       H_22_z    H_23_x    H_23_y  \\\n",
       "0      0.984043 -3.337186 -2.308828    ...    -0.509070  0.255694 -1.867411   \n",
       "10000 -0.806170  1.581223  1.814587    ...     1.891598  0.033223 -1.684598   \n",
       "10001  1.990274  0.705587  1.145537    ...     3.153432 -0.708250 -0.272533   \n",
       "10002  1.150459  1.323925  1.291682    ...    -0.190639 -2.982469  0.418140   \n",
       "10003 -1.903038  0.512459  0.049028    ...    -0.255785  1.600258 -0.796789   \n",
       "\n",
       "         H_23_z    H_24_x    H_24_y    H_24_z    H_25_x    H_25_y    H_25_z  \n",
       "0      0.572017  0.584763 -3.206009  1.292245  1.863612  2.127057 -1.606021  \n",
       "10000  1.578384  1.966529  2.451897  0.970348  2.605926  1.759835 -0.742523  \n",
       "10001  2.054326  0.037828 -4.056000  1.075719 -0.734545  2.556864 -2.136832  \n",
       "10002 -1.372406  2.966937  2.867822  0.762887 -1.451448 -1.608632 -0.716312  \n",
       "10003  1.236348  0.862813  3.382070 -1.040802  1.089250  0.964558  2.143423  \n",
       "\n",
       "[5 rows x 78 columns]"
      ]
     },
     "execution_count": 16,
     "metadata": {},
     "output_type": "execute_result"
    }
   ],
   "source": [
    "coord.head()"
   ]
  },
  {
   "cell_type": "markdown",
   "metadata": {},
   "source": [
    "## Linear regression\n",
    "\n",
    "In statistics we define as \"supervised learning\" the set of models that are ment to evaluate an output $y$ (answer variable) as a function of a set of known indipendent variables taken as input $(X_1,...,X_k)$ .   \n",
    "Furthermore, if we assume that $Y$ has a known probability law, we use parametric models. When $Y$ is a continuous variable, the mainly used model is the regression, that is a method that allows to estimate the conditional average of the answer $ E (Y | X_1 = x_1, ..., X_k = x_k) $ or its transformed as a linear combination of the explanatory $\\eta=X '\\beta $.\n",
    "We have a simple linear regression, when using a model of the type:\n",
    "$$ Y_i = x_i '\\beta + \\varepsilon_i $$ with $i = 1, ..., n $ number of observations, such that $ n> k $. Equivalently, in compact form:\n",
    "$$ Y = X \\beta + \\varepsilon $$ where $ Y_ {nx1} = (Y_1, ..., Y_n) '$ is the vector of n v.c. of independent outputs, $ X_ {nx (k + 1)} $ is the matrix of the drawing, which together with the vector of coefficients $ \\beta = (\\beta_0, ..., \\beta_k) '$ constitutes the deterministic component of the model, while $ \\varepsilon = (\\varepsilon_1, ..., \\varepsilon_n) '$ is the erratic component, where $ \\varepsilon_i \\sim N (0, \\sigma ^ 2 _ {\\varepsilon}) $ for each $ i $ are unknown errors with zero mean and constant variance.\n",
    "\n",
    "We can implement a linear regression model to predict the energy ($y$) of our cluster with rrespect to the coordinates variables ($X$). As we saw above, our response takes all values around -40.9, what makes the difference is the centesimal portion, hence we will focus our attention on predicting this part.\n"
   ]
  },
  {
   "cell_type": "code",
   "execution_count": 17,
   "metadata": {},
   "outputs": [],
   "source": [
    "#divide the dataset in train and test\n",
    "\n",
    "x_train,x_test,y_train,y_test = train_test_split(coord,energy,test_size=0.20)"
   ]
  },
  {
   "cell_type": "code",
   "execution_count": 18,
   "metadata": {},
   "outputs": [
    {
     "data": {
      "text/plain": [
       "LinearRegression(copy_X=True, fit_intercept=True, n_jobs=None,\n",
       "         normalize=False)"
      ]
     },
     "execution_count": 18,
     "metadata": {},
     "output_type": "execute_result"
    }
   ],
   "source": [
    "#linear regression model on train set\n",
    "\n",
    "model = LinearRegression()\n",
    "model.fit(x_train, y_train)"
   ]
  },
  {
   "cell_type": "code",
   "execution_count": 19,
   "metadata": {},
   "outputs": [
    {
     "data": {
      "text/plain": [
       "0.06846450429807327"
      ]
     },
     "execution_count": 19,
     "metadata": {},
     "output_type": "execute_result"
    }
   ],
   "source": [
    "#model.coeff\n",
    "r_sq = model.score(x_train, y_train)\n",
    "r_sq #pretty bad"
   ]
  },
  {
   "cell_type": "code",
   "execution_count": 20,
   "metadata": {},
   "outputs": [
    {
     "data": {
      "text/html": [
       "<div>\n",
       "<style scoped>\n",
       "    .dataframe tbody tr th:only-of-type {\n",
       "        vertical-align: middle;\n",
       "    }\n",
       "\n",
       "    .dataframe tbody tr th {\n",
       "        vertical-align: top;\n",
       "    }\n",
       "\n",
       "    .dataframe thead th {\n",
       "        text-align: right;\n",
       "    }\n",
       "</style>\n",
       "<table border=\"1\" class=\"dataframe\">\n",
       "  <thead>\n",
       "    <tr style=\"text-align: right;\">\n",
       "      <th></th>\n",
       "      <th>Actual</th>\n",
       "      <th>Predicted</th>\n",
       "    </tr>\n",
       "  </thead>\n",
       "  <tbody>\n",
       "    <tr>\n",
       "      <th>0</th>\n",
       "      <td>-50.472017</td>\n",
       "      <td>-50.459624</td>\n",
       "    </tr>\n",
       "    <tr>\n",
       "      <th>1</th>\n",
       "      <td>-50.454509</td>\n",
       "      <td>-50.458711</td>\n",
       "    </tr>\n",
       "    <tr>\n",
       "      <th>2</th>\n",
       "      <td>-50.446396</td>\n",
       "      <td>-50.462659</td>\n",
       "    </tr>\n",
       "    <tr>\n",
       "      <th>3</th>\n",
       "      <td>-50.463613</td>\n",
       "      <td>-50.460996</td>\n",
       "    </tr>\n",
       "    <tr>\n",
       "      <th>4</th>\n",
       "      <td>-50.452341</td>\n",
       "      <td>-50.457270</td>\n",
       "    </tr>\n",
       "    <tr>\n",
       "      <th>5</th>\n",
       "      <td>-50.453164</td>\n",
       "      <td>-50.458632</td>\n",
       "    </tr>\n",
       "  </tbody>\n",
       "</table>\n",
       "</div>"
      ],
      "text/plain": [
       "      Actual  Predicted\n",
       "0 -50.472017 -50.459624\n",
       "1 -50.454509 -50.458711\n",
       "2 -50.446396 -50.462659\n",
       "3 -50.463613 -50.460996\n",
       "4 -50.452341 -50.457270\n",
       "5 -50.453164 -50.458632"
      ]
     },
     "execution_count": 20,
     "metadata": {},
     "output_type": "execute_result"
    }
   ],
   "source": [
    "#predict from the test\n",
    "y_pred = model.predict(x_test)\n",
    "pred_test = pd.DataFrame({'Actual': y_test.values.flatten(), 'Predicted': y_pred.flatten()})\n",
    "pred_test.head(6)"
   ]
  },
  {
   "cell_type": "code",
   "execution_count": 21,
   "metadata": {},
   "outputs": [],
   "source": [
    "#divide the dataset in train and test\n",
    "\n",
    "coord_train,coord_test,energy_train,energy_test = train_test_split(coord,energy,test_size=0.20)"
   ]
  },
  {
   "cell_type": "code",
   "execution_count": 22,
   "metadata": {},
   "outputs": [
    {
     "data": {
      "text/plain": [
       "LinearRegression(copy_X=True, fit_intercept=True, n_jobs=None,\n",
       "         normalize=False)"
      ]
     },
     "execution_count": 22,
     "metadata": {},
     "output_type": "execute_result"
    }
   ],
   "source": [
    "#linear regression model on train set\n",
    "\n",
    "model = LinearRegression()\n",
    "model.fit(coord_train, energy_train)"
   ]
  },
  {
   "cell_type": "code",
   "execution_count": 23,
   "metadata": {},
   "outputs": [
    {
     "data": {
      "text/plain": [
       "0.06640416294940787"
      ]
     },
     "execution_count": 23,
     "metadata": {},
     "output_type": "execute_result"
    }
   ],
   "source": [
    "#model.coeff\n",
    "r_sq = model.score(coord_train, energy_train)\n",
    "r_sq #pretty bad"
   ]
  },
  {
   "cell_type": "markdown",
   "metadata": {},
   "source": [
    "Linear regression works poorly which means that the conformation in general doesn't correlate with the energy"
   ]
  },
  {
   "cell_type": "code",
   "execution_count": 24,
   "metadata": {},
   "outputs": [
    {
     "data": {
      "text/html": [
       "<div>\n",
       "<style scoped>\n",
       "    .dataframe tbody tr th:only-of-type {\n",
       "        vertical-align: middle;\n",
       "    }\n",
       "\n",
       "    .dataframe tbody tr th {\n",
       "        vertical-align: top;\n",
       "    }\n",
       "\n",
       "    .dataframe thead th {\n",
       "        text-align: right;\n",
       "    }\n",
       "</style>\n",
       "<table border=\"1\" class=\"dataframe\">\n",
       "  <thead>\n",
       "    <tr style=\"text-align: right;\">\n",
       "      <th></th>\n",
       "      <th>Actual</th>\n",
       "      <th>Predicted</th>\n",
       "    </tr>\n",
       "  </thead>\n",
       "  <tbody>\n",
       "    <tr>\n",
       "      <th>0</th>\n",
       "      <td>-50.473921</td>\n",
       "      <td>-50.463166</td>\n",
       "    </tr>\n",
       "    <tr>\n",
       "      <th>1</th>\n",
       "      <td>-50.450647</td>\n",
       "      <td>-50.457226</td>\n",
       "    </tr>\n",
       "    <tr>\n",
       "      <th>2</th>\n",
       "      <td>-50.458822</td>\n",
       "      <td>-50.458865</td>\n",
       "    </tr>\n",
       "    <tr>\n",
       "      <th>3</th>\n",
       "      <td>-50.467751</td>\n",
       "      <td>-50.462950</td>\n",
       "    </tr>\n",
       "    <tr>\n",
       "      <th>4</th>\n",
       "      <td>-50.465465</td>\n",
       "      <td>-50.462234</td>\n",
       "    </tr>\n",
       "    <tr>\n",
       "      <th>5</th>\n",
       "      <td>-50.458998</td>\n",
       "      <td>-50.459540</td>\n",
       "    </tr>\n",
       "  </tbody>\n",
       "</table>\n",
       "</div>"
      ],
      "text/plain": [
       "      Actual  Predicted\n",
       "0 -50.473921 -50.463166\n",
       "1 -50.450647 -50.457226\n",
       "2 -50.458822 -50.458865\n",
       "3 -50.467751 -50.462950\n",
       "4 -50.465465 -50.462234\n",
       "5 -50.458998 -50.459540"
      ]
     },
     "execution_count": 24,
     "metadata": {},
     "output_type": "execute_result"
    }
   ],
   "source": [
    "#predict from the test\n",
    "energy_pred = model.predict(coord_test)\n",
    "predictions = pd.DataFrame({'Actual': energy_test.values.flatten(), 'Predicted': energy_pred.flatten()})\n",
    "predictions.head(6)"
   ]
  },
  {
   "cell_type": "markdown",
   "metadata": {},
   "source": [
    "### Linear Regression with Feature selection"
   ]
  },
  {
   "cell_type": "code",
   "execution_count": 25,
   "metadata": {},
   "outputs": [
    {
     "name": "stdout",
     "output_type": "stream",
     "text": [
      "[74 73 72 71 70 69 68 67 66 65 64 63 62 61 60 59 58 57 56 55 54 53 52 51\n",
      " 50 49 48 47 46 45 44 43 42 41 40 39 38 37 36 35 34 33 32 31 30 29 28 27\n",
      " 26 25 24 23 22 21 20 19 18 17 16 15 14 13 12 11 10  9  8  7  6  5  4  3\n",
      "  2  1  1  1  1  1]\n"
     ]
    }
   ],
   "source": [
    "#feature selection alternative\n",
    "#https://scikit-learn.org/stable/modules/generated/sklearn.feature_selection.RFE.html\n",
    "\n",
    "estimator = SVR(kernel=\"linear\")\n",
    "selector = RFE(estimator, 5, step=1)\n",
    "selector = selector.fit(coord_train, energy_train)\n",
    "#print(selector.support_) \n",
    "print(selector.ranking_)"
   ]
  },
  {
   "cell_type": "markdown",
   "metadata": {},
   "source": [
    "> But what is this then selecting?"
   ]
  },
  {
   "cell_type": "code",
   "execution_count": 26,
   "metadata": {},
   "outputs": [
    {
     "data": {
      "text/plain": [
       "Index(['S_0_x', 'S_0_y', 'S_0_z', 'O_1_x', 'O_1_y', 'O_1_z', 'O_2_x', 'O_2_y',\n",
       "       'O_2_z', 'O_3_x', 'O_3_y', 'O_3_z', 'O_4_x', 'O_4_y', 'O_4_z', 'O_5_x',\n",
       "       'O_5_y', 'O_5_z', 'O_6_x', 'O_6_y', 'O_6_z', 'O_7_x', 'O_7_y', 'O_7_z',\n",
       "       'O_8_x', 'O_8_y', 'O_8_z', 'O_9_x', 'O_9_y', 'O_9_z', 'N_10_x',\n",
       "       'N_10_y', 'N_10_z', 'H_11_x', 'H_11_y', 'H_11_z', 'H_12_x', 'H_12_y',\n",
       "       'H_12_z', 'H_13_x', 'H_13_y', 'H_13_z', 'H_14_x', 'H_14_y', 'H_14_z',\n",
       "       'H_15_x', 'H_15_y', 'H_15_z', 'H_16_x', 'H_16_y', 'H_16_z', 'H_17_x',\n",
       "       'H_17_y', 'H_17_z', 'H_18_x', 'H_18_y', 'H_18_z', 'H_19_x', 'H_19_y',\n",
       "       'H_19_z', 'H_20_x', 'H_20_y', 'H_20_z', 'H_21_x', 'H_21_y', 'H_21_z',\n",
       "       'H_22_x', 'H_22_y', 'H_22_z', 'H_23_x', 'H_23_y', 'H_23_z', 'H_24_x',\n",
       "       'H_24_y', 'H_24_z', 'H_25_x', 'H_25_y', 'H_25_z'],\n",
       "      dtype='object')"
      ]
     },
     "execution_count": 26,
     "metadata": {},
     "output_type": "execute_result"
    }
   ],
   "source": [
    "coord_train.columns"
   ]
  },
  {
   "cell_type": "markdown",
   "metadata": {},
   "source": [
    "With only 2 hydrogens the $R^2$ value is smaller than with all the atoms"
   ]
  },
  {
   "cell_type": "code",
   "execution_count": 27,
   "metadata": {},
   "outputs": [
    {
     "name": "stdout",
     "output_type": "stream",
     "text": [
      "R2 simple reg 0.0016082195750102282\n"
     ]
    }
   ],
   "source": [
    "#oxigen O8 seems the most significant variable in our model\n",
    "model1 = LinearRegression().fit(x_train.loc[:,('H_17_x','H_17_y','H_17_z','H_18_x','H_18_y','H_18_z')], y_train) #select the most significant variables...\n",
    "print('R2 simple reg',model1.score(x_train.loc[:,('H_17_x','H_17_y','H_17_z','H_18_x','H_18_y','H_18_z')], y_train))"
   ]
  },
  {
   "cell_type": "markdown",
   "metadata": {},
   "source": [
    "With all the other atoms than hydrogens:"
   ]
  },
  {
   "cell_type": "code",
   "execution_count": 28,
   "metadata": {},
   "outputs": [
    {
     "data": {
      "text/html": [
       "<div>\n",
       "<style scoped>\n",
       "    .dataframe tbody tr th:only-of-type {\n",
       "        vertical-align: middle;\n",
       "    }\n",
       "\n",
       "    .dataframe tbody tr th {\n",
       "        vertical-align: top;\n",
       "    }\n",
       "\n",
       "    .dataframe thead th {\n",
       "        text-align: right;\n",
       "    }\n",
       "</style>\n",
       "<table border=\"1\" class=\"dataframe\">\n",
       "  <thead>\n",
       "    <tr style=\"text-align: right;\">\n",
       "      <th></th>\n",
       "      <th>S_0_x</th>\n",
       "      <th>S_0_y</th>\n",
       "      <th>S_0_z</th>\n",
       "      <th>O_1_x</th>\n",
       "      <th>O_1_y</th>\n",
       "      <th>O_1_z</th>\n",
       "      <th>O_2_x</th>\n",
       "      <th>O_2_y</th>\n",
       "      <th>O_2_z</th>\n",
       "      <th>O_3_x</th>\n",
       "      <th>...</th>\n",
       "      <th>O_7_z</th>\n",
       "      <th>O_8_x</th>\n",
       "      <th>O_8_y</th>\n",
       "      <th>O_8_z</th>\n",
       "      <th>O_9_x</th>\n",
       "      <th>O_9_y</th>\n",
       "      <th>O_9_z</th>\n",
       "      <th>N_10_x</th>\n",
       "      <th>N_10_y</th>\n",
       "      <th>N_10_z</th>\n",
       "    </tr>\n",
       "  </thead>\n",
       "  <tbody>\n",
       "    <tr>\n",
       "      <th>5088</th>\n",
       "      <td>0.677791</td>\n",
       "      <td>-0.767955</td>\n",
       "      <td>-0.733395</td>\n",
       "      <td>-2.199339</td>\n",
       "      <td>0.393248</td>\n",
       "      <td>-2.211429</td>\n",
       "      <td>-0.982092</td>\n",
       "      <td>-1.848287</td>\n",
       "      <td>-3.108313</td>\n",
       "      <td>1.790192</td>\n",
       "      <td>...</td>\n",
       "      <td>-0.489886</td>\n",
       "      <td>1.237853</td>\n",
       "      <td>-0.924508</td>\n",
       "      <td>-2.168354</td>\n",
       "      <td>-0.075812</td>\n",
       "      <td>0.495852</td>\n",
       "      <td>-0.681277</td>\n",
       "      <td>-1.510320</td>\n",
       "      <td>-0.641242</td>\n",
       "      <td>1.390416</td>\n",
       "    </tr>\n",
       "    <tr>\n",
       "      <th>6266</th>\n",
       "      <td>1.486766</td>\n",
       "      <td>-0.847170</td>\n",
       "      <td>-0.857376</td>\n",
       "      <td>3.176639</td>\n",
       "      <td>1.306052</td>\n",
       "      <td>0.618502</td>\n",
       "      <td>-1.922616</td>\n",
       "      <td>-1.400649</td>\n",
       "      <td>1.045455</td>\n",
       "      <td>2.880520</td>\n",
       "      <td>...</td>\n",
       "      <td>-1.025236</td>\n",
       "      <td>-1.592929</td>\n",
       "      <td>1.170634</td>\n",
       "      <td>1.511297</td>\n",
       "      <td>0.728658</td>\n",
       "      <td>-1.236378</td>\n",
       "      <td>0.473850</td>\n",
       "      <td>-1.234978</td>\n",
       "      <td>1.157835</td>\n",
       "      <td>-1.165974</td>\n",
       "    </tr>\n",
       "    <tr>\n",
       "      <th>37225</th>\n",
       "      <td>1.039163</td>\n",
       "      <td>-1.589517</td>\n",
       "      <td>-1.051010</td>\n",
       "      <td>-0.406220</td>\n",
       "      <td>-1.682465</td>\n",
       "      <td>1.700306</td>\n",
       "      <td>-1.967210</td>\n",
       "      <td>0.544208</td>\n",
       "      <td>-1.672820</td>\n",
       "      <td>1.624091</td>\n",
       "      <td>...</td>\n",
       "      <td>-2.348505</td>\n",
       "      <td>1.290425</td>\n",
       "      <td>-2.600926</td>\n",
       "      <td>-0.051204</td>\n",
       "      <td>-0.344303</td>\n",
       "      <td>-1.451223</td>\n",
       "      <td>-1.442080</td>\n",
       "      <td>0.258020</td>\n",
       "      <td>1.938708</td>\n",
       "      <td>-0.968106</td>\n",
       "    </tr>\n",
       "    <tr>\n",
       "      <th>24278</th>\n",
       "      <td>0.359199</td>\n",
       "      <td>0.077300</td>\n",
       "      <td>-1.954605</td>\n",
       "      <td>1.408683</td>\n",
       "      <td>-1.373938</td>\n",
       "      <td>0.918048</td>\n",
       "      <td>2.709434</td>\n",
       "      <td>1.032116</td>\n",
       "      <td>0.323640</td>\n",
       "      <td>1.439467</td>\n",
       "      <td>...</td>\n",
       "      <td>-0.735501</td>\n",
       "      <td>0.924407</td>\n",
       "      <td>-1.308985</td>\n",
       "      <td>-1.573826</td>\n",
       "      <td>-0.494144</td>\n",
       "      <td>-0.103063</td>\n",
       "      <td>-3.079032</td>\n",
       "      <td>-1.872734</td>\n",
       "      <td>0.933436</td>\n",
       "      <td>1.925075</td>\n",
       "    </tr>\n",
       "    <tr>\n",
       "      <th>28973</th>\n",
       "      <td>1.535472</td>\n",
       "      <td>-0.785809</td>\n",
       "      <td>1.338807</td>\n",
       "      <td>0.556720</td>\n",
       "      <td>-2.165580</td>\n",
       "      <td>-1.624806</td>\n",
       "      <td>1.006919</td>\n",
       "      <td>0.360857</td>\n",
       "      <td>-2.820501</td>\n",
       "      <td>0.145160</td>\n",
       "      <td>...</td>\n",
       "      <td>2.020687</td>\n",
       "      <td>1.742918</td>\n",
       "      <td>-0.388009</td>\n",
       "      <td>-0.171362</td>\n",
       "      <td>2.481545</td>\n",
       "      <td>-1.771813</td>\n",
       "      <td>1.709490</td>\n",
       "      <td>-2.110061</td>\n",
       "      <td>0.619749</td>\n",
       "      <td>2.576131</td>\n",
       "    </tr>\n",
       "  </tbody>\n",
       "</table>\n",
       "<p>5 rows × 33 columns</p>\n",
       "</div>"
      ],
      "text/plain": [
       "          S_0_x     S_0_y     S_0_z     O_1_x     O_1_y     O_1_z     O_2_x  \\\n",
       "5088   0.677791 -0.767955 -0.733395 -2.199339  0.393248 -2.211429 -0.982092   \n",
       "6266   1.486766 -0.847170 -0.857376  3.176639  1.306052  0.618502 -1.922616   \n",
       "37225  1.039163 -1.589517 -1.051010 -0.406220 -1.682465  1.700306 -1.967210   \n",
       "24278  0.359199  0.077300 -1.954605  1.408683 -1.373938  0.918048  2.709434   \n",
       "28973  1.535472 -0.785809  1.338807  0.556720 -2.165580 -1.624806  1.006919   \n",
       "\n",
       "          O_2_y     O_2_z     O_3_x    ...        O_7_z     O_8_x     O_8_y  \\\n",
       "5088  -1.848287 -3.108313  1.790192    ...    -0.489886  1.237853 -0.924508   \n",
       "6266  -1.400649  1.045455  2.880520    ...    -1.025236 -1.592929  1.170634   \n",
       "37225  0.544208 -1.672820  1.624091    ...    -2.348505  1.290425 -2.600926   \n",
       "24278  1.032116  0.323640  1.439467    ...    -0.735501  0.924407 -1.308985   \n",
       "28973  0.360857 -2.820501  0.145160    ...     2.020687  1.742918 -0.388009   \n",
       "\n",
       "          O_8_z     O_9_x     O_9_y     O_9_z    N_10_x    N_10_y    N_10_z  \n",
       "5088  -2.168354 -0.075812  0.495852 -0.681277 -1.510320 -0.641242  1.390416  \n",
       "6266   1.511297  0.728658 -1.236378  0.473850 -1.234978  1.157835 -1.165974  \n",
       "37225 -0.051204 -0.344303 -1.451223 -1.442080  0.258020  1.938708 -0.968106  \n",
       "24278 -1.573826 -0.494144 -0.103063 -3.079032 -1.872734  0.933436  1.925075  \n",
       "28973 -0.171362  2.481545 -1.771813  1.709490 -2.110061  0.619749  2.576131  \n",
       "\n",
       "[5 rows x 33 columns]"
      ]
     },
     "execution_count": 28,
     "metadata": {},
     "output_type": "execute_result"
    }
   ],
   "source": [
    "coord_train.iloc[:5,:33]"
   ]
  },
  {
   "cell_type": "code",
   "execution_count": 29,
   "metadata": {},
   "outputs": [
    {
     "name": "stdout",
     "output_type": "stream",
     "text": [
      "R2 simple reg 0.03813448752034032\n"
     ]
    }
   ],
   "source": [
    "# omit hydrogens\n",
    "model2 = LinearRegression().fit(coord_train.iloc[:,:33], energy_train) #select the most significant variables...\n",
    "print('R2 simple reg',model2.score(coord_train.iloc[:,:33], energy_train))"
   ]
  },
  {
   "cell_type": "markdown",
   "metadata": {},
   "source": [
    "## Principal Component Analysis\n",
    "The PCA is a tool used to reduce the dimensionality of the data.\n",
    "It tries to preserve as much information as possible.  \n",
    "These two goals in PCA are pursued by means of a transformation of the original variables into new variables, called Principal Components (PCs).  \n",
    "They consists of a linear combination of the original variables.\n",
    "PCs are uncorrelated and arranged in order of decreasing variance, so that the first PCs account for most of the variation in the sample.   "
   ]
  },
  {
   "cell_type": "markdown",
   "metadata": {},
   "source": [
    "Assuming we want to reduce the number of our original p variables to $k<p$ variables, the PCA method can be formalized as follows:  \n",
    "• 1st PC: determine the coeffcients of the linear combination\n",
    "$$Z_{1j} = a_1^T X = \\sum_{i=0}^p a_{1i} X_i $$ \n",
    "that maximize $ Var(Z_1) = a_1^T \\Sigma a_1 $ under the constraint $ a_1^T a_1 = 1 $   "
   ]
  },
  {
   "cell_type": "markdown",
   "metadata": {},
   "source": [
    "> The formula $ Var(Z_1) = a_1^T \\Sigma a_1 $ looks weird"
   ]
  },
  {
   "cell_type": "markdown",
   "metadata": {},
   "source": [
    "• 2nd PC: determine coeffcients of the linear combination\n",
    "$$ Z_{2j} = a_2^T X = \\sum_{i=0}^p a_{2i} X_i $$\n",
    "that maximize $ Var(Z_2) = a_2^T \\Sigma a_2$ under the constraint $ a_2^T a_2=1$ and $Cov(Z_1,Z_2)=0$   "
   ]
  },
  {
   "cell_type": "markdown",
   "metadata": {},
   "source": [
    "• proceed in a similar fashion for all other components.   \n",
    "\n",
    "• Final output: $Z_1, \\dots ,Z_p $such that $Var (Z1) > Var (Z2) > \\dots > Var (Zp)$ and $cov(Zj ; Zk ) = 0$ for $j \\neq k$  \n",
    "\n",
    "We will apply PCA to our coordinates variable, in order to select new variables, that explain at least 80% of the variability of our data."
   ]
  },
  {
   "cell_type": "code",
   "execution_count": 30,
   "metadata": {},
   "outputs": [
    {
     "name": "stdout",
     "output_type": "stream",
     "text": [
      "Explained variance : 80.21909698485126 %\n"
     ]
    }
   ],
   "source": [
    "pca = PCA(n_components=0.8,svd_solver='full')   # from docstring: this should include PCs so that 80% of variance is explained\n",
    "PCs_coord = pca.fit_transform(coord)\n",
    "PCs_df = pd.DataFrame(data = PCs_coord, columns=[\"PC{}\".format(i) for i in range(PCs_coord.shape[1])])\n",
    "print('Explained variance :', np.sum(pca.explained_variance_ratio_)*100, '%')    # It seems that it is 80% :D"
   ]
  },
  {
   "cell_type": "code",
   "execution_count": 35,
   "metadata": {},
   "outputs": [
    {
     "name": "stdout",
     "output_type": "stream",
     "text": [
      "Explained variance PC1 : 5.7587319555172645 %\n",
      "Explained variance PC2 : 5.449759951285687 %\n"
     ]
    },
    {
     "data": {
      "image/png": "[encoded data removed]",
      "text/plain": [
       "<Figure size 432x288 with 1 Axes>"
      ]
     },
     "metadata": {},
     "output_type": "display_data"
    }
   ],
   "source": [
    "#2D graph of first two PCs\n",
    "print('Explained variance PC1 :', pca.explained_variance_ratio_[0]*100, '%')\n",
    "print('Explained variance PC2 :', pca.explained_variance_ratio_[1]*100, '%')\n",
    "\n",
    "sns.scatterplot(x=PCs_df['PC1'], y=PCs_df['PC2'], hue=energy,  alpha=0.3)\n",
    "plt.title(\"2 first PCs of PCA\")\n",
    "plt.ylabel('PC2')\n",
    "plt.xlabel('PC1')\n",
    "plt.show()"
   ]
  },
  {
   "cell_type": "markdown",
   "metadata": {},
   "source": [
    "## K-means\n",
    "In order to reduce the variety of our observations we are clustering our data, by using a k-mean algorith.  \n",
    "This algorithm is a non-hierarchical methods of clustering, i.e. we assume the number $k$ of groups is assumed to be fixed.\n",
    "Algorithm introduced by MacQueen (1967): each statistical unit is assigned to the cluster whose centroid (i.e. vector of means) is the closest one. The metric used to measure the distance among groups is typically the Euclidean one.\n",
    "1. Initial partition into K clusters, (possibly randomly generated)\n",
    "2. For each of the K clusters, compute the cluster centroid.\n",
    "3. Assign each observation to the cluster whose centroid is closest\n",
    "4. Recompute centroids for all clusters\n",
    "5. Repeat 3. - 4. until reaching a maximum number of iterations or when it is not possible to redistribute observations\n",
    "\n",
    "In order to chose the optimal number of groups, a good criteria is to find a balance between low within-cluster variation $WSS$ and number of groups.  \n",
    "We start by clustering our original dataset, a clustering of the PCs dtaset is also shown."
   ]
  },
  {
   "cell_type": "code",
   "execution_count": null,
   "metadata": {},
   "outputs": [],
   "source": [
    "kmeans = KMeans(n_clusters=4)  #we should chose the number of clusters\n",
    "kmeans.fit(clusters_df)\n",
    "y_kmeans = kmeans.predict(clusters_df)"
   ]
  },
  {
   "cell_type": "code",
   "execution_count": null,
   "metadata": {},
   "outputs": [],
   "source": [
    "plt.scatter(clusters_df['Properties_Energy'], clusters_df['Properties_Dipole'], c=y_kmeans,s=50, cmap='viridis')\n",
    "centers = kmeans.cluster_centers_\n",
    "plt.scatter(centers[:, 0], centers[:, 1], c='black', s=100, alpha=0.5)\n",
    "plt.xlabel('Energy')\n",
    "plt.ylabel('Dipole')\n",
    "plt.show()"
   ]
  },
  {
   "cell_type": "code",
   "execution_count": null,
   "metadata": {},
   "outputs": [],
   "source": [
    "finalDf = pd.concat([principalDf, clusters_df[['Properties_Energy']]], axis = 1)\n",
    "finalDf = pd.concat([finalDf, clusters_df[['Properties_Dipole']]], axis = 1)"
   ]
  },
  {
   "cell_type": "code",
   "execution_count": null,
   "metadata": {},
   "outputs": [],
   "source": [
    "#clustering using PCS as variables\n",
    "\n",
    "kmeans.fit(finalDf)\n",
    "y_kmeans = kmeans.predict(finalDf)\n",
    "plt.scatter(finalDf['PC1'], finalDf['PC2'], c=y_kmeans,s=3, cmap='viridis', alpha=0.3)\n",
    "centers = kmeans.cluster_centers_\n",
    "plt.scatter(centers[:, 0], centers[:, 1], c='black', s=200, alpha=0.5)\n",
    "plt.ylabel('PC2')\n",
    "plt.xlabel('PC1')\n",
    "plt.show()"
   ]
  },
  {
   "cell_type": "code",
   "execution_count": null,
   "metadata": {},
   "outputs": [],
   "source": [
    "#clustering using PCS as variables\n",
    "\n",
    "kmeans.fit(finalDf)\n",
    "y_kmeans = kmeans.predict(finalDf)\n",
    "plt.scatter(finalDf['PC3'], finalDf['PC4'], c=y_kmeans,s=3, cmap='viridis', alpha=0.3)\n",
    "centers = kmeans.cluster_centers_\n",
    "plt.scatter(centers[:, 0], centers[:, 1], c='black', s=200, alpha=0.5)\n",
    "plt.ylabel('PC4')\n",
    "plt.xlabel('PC3')\n",
    "plt.show()"
   ]
  },
  {
   "cell_type": "markdown",
   "metadata": {},
   "source": [
    "We could try tSNE for visualization"
   ]
  },
  {
   "cell_type": "markdown",
   "metadata": {},
   "source": [
    "***"
   ]
  },
  {
   "cell_type": "code",
   "execution_count": null,
   "metadata": {},
   "outputs": [],
   "source": [
    "DF_embedded = TSNE(n_components=2).fit_transform(finalDf)"
   ]
  },
  {
   "cell_type": "code",
   "execution_count": null,
   "metadata": {},
   "outputs": [],
   "source": [
    "print(DF_embedded.shape)\n",
    "print(type(DF_embedded))\n",
    "print(DF_embedded[:5,:])"
   ]
  },
  {
   "cell_type": "code",
   "execution_count": null,
   "metadata": {},
   "outputs": [],
   "source": [
    "#clustering using PCS as variables\n",
    "\n",
    "kmeans.fit(DF_embedded)\n",
    "y_kmeans = kmeans.predict(DF_embedded)\n",
    "plt.scatter(DF_embedded[:,0],DF_embedded[:,1], c=y_kmeans,s=3, cmap='viridis', alpha=0.3)\n",
    "centers = kmeans.cluster_centers_\n",
    "plt.scatter(centers[:, 0], centers[:, 1], c='black', s=200, alpha=0.5)\n",
    "plt.ylabel('tsne1')\n",
    "plt.xlabel('tnse0')\n",
    "plt.show()"
   ]
  },
  {
   "cell_type": "markdown",
   "metadata": {},
   "source": [
    "***"
   ]
  },
  {
   "cell_type": "markdown",
   "metadata": {},
   "source": [
    "***"
   ]
  },
  {
   "cell_type": "markdown",
   "metadata": {},
   "source": [
    "***"
   ]
  },
  {
   "cell_type": "markdown",
   "metadata": {},
   "source": [
    "> The stuff forslecting the structures\n",
    "\n",
    "```python\n",
    "import numpy as np \n",
    "import sklearn.datasets, sklearn.decomposition \n",
    " \n",
    "X = sklearn.datasets.load_iris().data \n",
    "mu = np.mean(X, axis=0) \n",
    " \n",
    "pca = sklearn.decomposition.PCA() \n",
    "pca.fit(X) \n",
    " \n",
    "nComp = 2 \n",
    "Xhat = np.dot(pca.transform(X)[:,:nComp], pca.components_[:nComp,:]) \n",
    "Xhat += mu \n",
    " \n",
    "print(Xhat[0,])\n",
    "\n",
    "to determin the optimal k inmkmeans algo, we can choose the indicator that mazimize this index (Kalinkski and harabatz)\n",
    "\n",
    "from sklearn import metrics \n",
    "from sklearn.metrics import pairwise_distances \n",
    "from sklearn import datasets \n",
    "dataset = finalDf \n",
    "X = dataset.data \n",
    "y = dataset.target \n",
    "import numpy as np \n",
    "from sklearn.cluster import KMeans \n",
    "kmeans_model = KMeans(n_clusters=3, random_state=1).fit(X) \n",
    "labels = kmeans_model.labels_ \n",
    "metrics.calinski_harabaz_score(X, labels) \n",
    "for k in range(2, 21): \n",
    "    kmeans_model = KMeans(n_clusters=k, random_state=1).fit(X) \n",
    "    labels = kmeans_model.labels_ \n",
    "    labels = kmeans_model.labels_ \n",
    "    print( k, metrics.calinski_harabaz_score(X, labels))\n",
    "```\n"
   ]
  },
  {
   "cell_type": "markdown",
   "metadata": {},
   "source": [
    "***"
   ]
  },
  {
   "cell_type": "markdown",
   "metadata": {},
   "source": [
    "***"
   ]
  },
  {
   "cell_type": "markdown",
   "metadata": {},
   "source": [
    "***"
   ]
  },
  {
   "cell_type": "markdown",
   "metadata": {},
   "source": [
    "***"
   ]
  },
  {
   "cell_type": "markdown",
   "metadata": {},
   "source": [
    "***"
   ]
  },
  {
   "cell_type": "markdown",
   "metadata": {},
   "source": [
    "***"
   ]
  },
  {
   "cell_type": "markdown",
   "metadata": {},
   "source": [
    "***"
   ]
  },
  {
   "cell_type": "markdown",
   "metadata": {},
   "source": [
    "***"
   ]
  },
  {
   "cell_type": "markdown",
   "metadata": {},
   "source": [
    "***"
   ]
  },
  {
   "cell_type": "markdown",
   "metadata": {},
   "source": [
    "***"
   ]
  },
  {
   "cell_type": "code",
   "execution_count": null,
   "metadata": {},
   "outputs": [],
   "source": [
    "files = pd.read_csv(\"Data_Collection.csv\")\n",
    "np.array(files.Filename)"
   ]
  },
  {
   "cell_type": "code",
   "execution_count": null,
   "metadata": {},
   "outputs": [],
   "source": [
    "test = next(files.iterrows())[1]\n",
    "print(test)\n",
    "type(test.Filename)"
   ]
  },
  {
   "cell_type": "code",
   "execution_count": null,
   "metadata": {},
   "outputs": [],
   "source": [
    "xyz_test = pd.read_csv(\"Data1/coord/0.xyz\", \\\n",
    "                       sep='\\s+', \\\n",
    "                       skiprows=2, \\\n",
    "                       header=None, \\\n",
    "                       index_col=0, \\\n",
    "                       names=['x','y','z']\\\n",
    "                      ).sort_index(ascending=False)\n",
    "# Atom names in indexes"
   ]
  },
  {
   "cell_type": "markdown",
   "metadata": {},
   "source": [
    "```python\n",
    "xyz_test = pd.read_csv(\"Data1/0.xyz\", \\\n",
    "                       sep='\\s+',\\\n",
    "                       skiprows=2, \\\n",
    "                       header=None, \\\n",
    "                       names=['atom','x','y','z']\\\n",
    "                      ).sort_values(by='atom',ascending=False).reset_index(drop=True)\n",
    "# Atom names in col 0\n",
    "```\n"
   ]
  },
  {
   "cell_type": "markdown",
   "metadata": {},
   "source": [
    "Print the names of the atoms"
   ]
  },
  {
   "cell_type": "markdown",
   "metadata": {},
   "source": [
    "> How is order handled under one label?\n",
    "- what is the order of other coord files?"
   ]
  },
  {
   "cell_type": "markdown",
   "metadata": {},
   "source": [
    "Save the names of the atoms to an array"
   ]
  },
  {
   "cell_type": "code",
   "execution_count": null,
   "metadata": {},
   "outputs": [],
   "source": [
    "arr_indexes = np.array(xyz_test.index)"
   ]
  },
  {
   "cell_type": "code",
   "execution_count": null,
   "metadata": {},
   "outputs": [],
   "source": [
    "arr_indexes.shape[0]"
   ]
  },
  {
   "cell_type": "markdown",
   "metadata": {},
   "source": [
    "Get numbers for the atoms and concatenate them with the labels"
   ]
  },
  {
   "cell_type": "code",
   "execution_count": null,
   "metadata": {},
   "outputs": [],
   "source": [
    "list_atomnames = []\n",
    "\n",
    "for i,j in enumerate(arr_indexes):\n",
    "    list_atomnames.append(\"{} {}\".format(j,i))\n",
    "\n",
    "arr_atomnames = np.array(list_atomnames)"
   ]
  },
  {
   "cell_type": "markdown",
   "metadata": {},
   "source": [
    "Make the multi-index array of tuples"
   ]
  },
  {
   "cell_type": "code",
   "execution_count": null,
   "metadata": {},
   "outputs": [],
   "source": [
    "top_arr = np.empty((arr_atomnames.size * 3)).astype(str)\n",
    "top_arr[0::3] = arr_atomnames\n",
    "top_arr[1::3] = arr_atomnames\n",
    "top_arr[2::3] = arr_atomnames\n",
    "#top_arr"
   ]
  },
  {
   "cell_type": "code",
   "execution_count": null,
   "metadata": {},
   "outputs": [],
   "source": [
    "butt_arr = np.empty((arr_atomnames.size * 3)).astype(str)\n",
    "butt_arr[0::3] = \"x\"\n",
    "butt_arr[1::3] = \"y\"\n",
    "butt_arr[2::3] = \"z\"\n",
    "#butt_arr"
   ]
  },
  {
   "cell_type": "code",
   "execution_count": null,
   "metadata": {},
   "outputs": [],
   "source": [
    "col_arr = np.vstack((top_arr,butt_arr))\n",
    "#col_arr.transpose()\n",
    "col_arr_tuples = list(zip(*col_arr))\n",
    "col_arr_tuples[:5]"
   ]
  },
  {
   "cell_type": "markdown",
   "metadata": {},
   "source": [
    "Multi-index column names"
   ]
  },
  {
   "cell_type": "code",
   "execution_count": null,
   "metadata": {},
   "outputs": [],
   "source": [
    "col_names = pd.MultiIndex.from_tuples(col_arr_tuples, names=[\"Atom\",\"Coord\"])\n",
    "col_names"
   ]
  },
  {
   "cell_type": "markdown",
   "metadata": {},
   "source": []
  },
  {
   "cell_type": "code",
   "execution_count": null,
   "metadata": {},
   "outputs": [],
   "source": [
    "3*19"
   ]
  },
  {
   "cell_type": "code",
   "execution_count": null,
   "metadata": {},
   "outputs": [],
   "source": [
    "xyz_test.values.flatten().shape"
   ]
  },
  {
   "cell_type": "code",
   "execution_count": null,
   "metadata": {},
   "outputs": [],
   "source": [
    "xyz_flat = xyz_test.values.flatten().reshape(1,57)"
   ]
  },
  {
   "cell_type": "code",
   "execution_count": null,
   "metadata": {},
   "outputs": [],
   "source": [
    "type(xyz_flat)"
   ]
  },
  {
   "cell_type": "code",
   "execution_count": null,
   "metadata": {},
   "outputs": [],
   "source": [
    "coord_df = pd.DataFrame(xyz_flat,index=['a'],columns=col_names)\n",
    "with pd.option_context('display.max_rows',None,'display.max_columns',None):\n",
    "    print(coord_df)"
   ]
  },
  {
   "cell_type": "code",
   "execution_count": null,
   "metadata": {},
   "outputs": [],
   "source": [
    "coord_df"
   ]
  },
  {
   "cell_type": "code",
   "execution_count": null,
   "metadata": {},
   "outputs": [],
   "source": []
  },
  {
   "cell_type": "code",
   "execution_count": null,
   "metadata": {},
   "outputs": [],
   "source": []
  },
  {
   "cell_type": "code",
   "execution_count": null,
   "metadata": {},
   "outputs": [],
   "source": []
  }
 ],
 "metadata": {
  "kernelspec": {
   "display_name": "Python 3",
   "language": "python",
   "name": "python3"
  },
  "language_info": {
   "codemirror_mode": {
    "name": "ipython",
    "version": 3
   },
   "file_extension": ".py",
   "mimetype": "text/x-python",
   "name": "python",
   "nbconvert_exporter": "python",
   "pygments_lexer": "ipython3",
   "version": "3.7.1"
  }
 },
 "nbformat": 4,
 "nbformat_minor": 2
}
