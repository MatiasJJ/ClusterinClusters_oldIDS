{
 "cells": [
  {
   "cell_type": "code",
   "execution_count": 26,
   "metadata": {},
   "outputs": [],
   "source": [
    "import numpy as np\n",
    "import pandas as pd\n",
    "import matplotlib.pyplot as plt\n",
    "import seaborn as sns\n",
    "import scipy as scp\n",
    "import nltk\n",
    "import imageio\n",
    "import sklearn\n",
    "\n",
    "from timeit import default_timer as timer\n",
    "%matplotlib inline\n",
    "\n",
    "import json as js\n",
    "\n",
    "from nltk.corpus import stopwords\n",
    "from nltk.stem import PorterStemmer\n",
    "stops = stopwords.words('english')\n",
    "porter = PorterStemmer()\n",
    "\n",
    "import geopandas as gp"
   ]
  },
  {
   "cell_type": "markdown",
   "metadata": {},
   "source": [
    "# Project\n",
    "### Stages"
   ]
  },
  {
   "cell_type": "markdown",
   "metadata": {},
   "source": [
    "**Timetable**\n",
    "\n",
    "| Time | Task |\n",
    "|----|----|\n",
    "|9.9. | Groups deadline |\n",
    "|16.9.| Topics deadline |\n",
    "| here | EDA, clean data, do project |\n",
    "|vk42 | presentation |\n",
    "|vk43 | projektit |"
   ]
  },
  {
   "cell_type": "markdown",
   "metadata": {},
   "source": [
    "## Project\n",
    "```\n",
    "A. Title of the project\t\n",
    "            \n",
    "B. Elevator pitch [max 400 characters]\n",
    " \n",
    "Describe the data science challenges related to the following themes. \n",
    "A good project should include interesting challenges under most of \n",
    "the themes. So for example, a project that begins with a single clean\n",
    "data set and a clear task (e.g., predict a given response), isn't a good \n",
    "choice for your project.\t\t\n",
    "            \n",
    "C. Data: sources, wrangling, management\t\t\n",
    "            \n",
    "D. Data analysis: statistics, machine learning\t\n",
    "            \n",
    "E. Communication of results: summarization & visualization\n",
    "            \n",
    "F. Operationalization: creating added value, end-user point of view\n",
    "```"
   ]
  },
  {
   "cell_type": "markdown",
   "metadata": {},
   "source": [
    "- 4x20x10000 stuctures with 19-30 atoms in a cluster\n",
    "    - coordinates\n",
    "    - dipole moment\n",
    "    - energy\n",
    "- Goals\n",
    "    - End user\n",
    "        - Configuration Sampling \n",
    "            - Find one structure with the lowest energy\n",
    "    - Eliminate redundant structures\n",
    "    - Find descriptors\n",
    "        - reduce dimensions\n",
    "    "
   ]
  },
  {
   "cell_type": "markdown",
   "metadata": {},
   "source": [
    "asd"
   ]
  },
  {
   "cell_type": "code",
   "execution_count": null,
   "metadata": {},
   "outputs": [],
   "source": [
    "xyz_test = pd.read"
   ]
  }
 ],
 "metadata": {
  "kernelspec": {
   "display_name": "Python 3",
   "language": "python",
   "name": "python3"
  },
  "language_info": {
   "codemirror_mode": {
    "name": "ipython",
    "version": 3
   },
   "file_extension": ".py",
   "mimetype": "text/x-python",
   "name": "python",
   "nbconvert_exporter": "python",
   "pygments_lexer": "ipython3",
   "version": "3.7.1"
  }
 },
 "nbformat": 4,
 "nbformat_minor": 2
}
