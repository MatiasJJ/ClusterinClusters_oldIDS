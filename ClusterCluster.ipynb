{
 "cells": [
  {
   "cell_type": "code",
   "execution_count": 1,
   "metadata": {},
   "outputs": [],
   "source": [
    "import numpy as np\n",
    "import pandas as pd\n",
    "import matplotlib.pyplot as plt\n",
    "import seaborn as sns\n",
    "import scipy as scp\n",
    "import nltk\n",
    "import imageio\n",
    "import sklearn\n",
    "\n",
    "from timeit import default_timer as timer\n",
    "%matplotlib inline\n",
    "\n",
    "import json as js"
   ]
  },
  {
   "cell_type": "markdown",
   "metadata": {},
   "source": [
    "# Project\n",
    "### Stages"
   ]
  },
  {
   "cell_type": "markdown",
   "metadata": {},
   "source": [
    "**Timetable**\n",
    "\n",
    "| Time | Task |\n",
    "|----|----|\n",
    "|9.9. | Groups deadline |\n",
    "|16.9.| Topics deadline |\n",
    "| here | EDA, clean data, do project |\n",
    "|vk42 | presentation |\n",
    "|vk43 | projektit |"
   ]
  },
  {
   "cell_type": "markdown",
   "metadata": {},
   "source": [
    "## Project\n",
    "```\n",
    "A. Title of the project\t\n",
    "            \n",
    "B. Elevator pitch [max 400 characters]\n",
    " \n",
    "Describe the data science challenges related to the following themes. \n",
    "A good project should include interesting challenges under most of \n",
    "the themes. So for example, a project that begins with a single clean\n",
    "data set and a clear task (e.g., predict a given response), isn't a good \n",
    "choice for your project.\t\t\n",
    "            \n",
    "C. Data: sources, wrangling, management\t\t\n",
    "            \n",
    "D. Data analysis: statistics, machine learning\t\n",
    "            \n",
    "E. Communication of results: summarization & visualization\n",
    "            \n",
    "F. Operationalization: creating added value, end-user point of view\n",
    "```"
   ]
  },
  {
   "cell_type": "markdown",
   "metadata": {},
   "source": [
    "- 4x20x10000 stuctures with 19-30 atoms in a cluster\n",
    "    - coordinates\n",
    "    - dipole moment\n",
    "    - energy\n",
    "- Goals\n",
    "    - End user\n",
    "        - Configuration Sampling \n",
    "            - Find one structure with the lowest energy\n",
    "    - Eliminate redundant structures\n",
    "    - Find descriptors\n",
    "        - reduce dimensions\n",
    "    "
   ]
  },
  {
   "cell_type": "markdown",
   "metadata": {},
   "source": [
    "#### Read data in"
   ]
  },
  {
   "cell_type": "markdown",
   "metadata": {},
   "source": [
    "Data must have a `.csv`-file that contains:\n",
    "\n",
    "| col1 | col2 | col3 | col4 |\n",
    "|------|------|------|------|\n",
    "| path to .log-file | path to .xyz-file | Dipole moment | Energy |"
   ]
  },
  {
   "cell_type": "markdown",
   "metadata": {},
   "source": [
    "Make the csv-file \n",
    "> Maybe later"
   ]
  },
  {
   "cell_type": "markdown",
   "metadata": {},
   "source": [
    "import os\n",
    "os.system('bash .DataExtractor.sh')"
   ]
  },
  {
   "cell_type": "markdown",
   "metadata": {},
   "source": [
    "import subprocess as sb\n",
    "sb.call(\"./DataExtractor.sh\")"
   ]
  },
  {
   "cell_type": "markdown",
   "metadata": {},
   "source": [
    "!./DataExtractor.sh"
   ]
  },
  {
   "cell_type": "code",
   "execution_count": 46,
   "metadata": {},
   "outputs": [
    {
     "data": {
      "text/html": [
       "<div>\n",
       "<style scoped>\n",
       "    .dataframe tbody tr th:only-of-type {\n",
       "        vertical-align: middle;\n",
       "    }\n",
       "\n",
       "    .dataframe tbody tr th {\n",
       "        vertical-align: top;\n",
       "    }\n",
       "\n",
       "    .dataframe thead th {\n",
       "        text-align: right;\n",
       "    }\n",
       "</style>\n",
       "<table border=\"1\" class=\"dataframe\">\n",
       "  <thead>\n",
       "    <tr style=\"text-align: right;\">\n",
       "      <th></th>\n",
       "      <th>./Data1/logs/0.log</th>\n",
       "      <th>./Data1/coord/0.xyz</th>\n",
       "      <th>2.402</th>\n",
       "      <th>-40.9179241</th>\n",
       "    </tr>\n",
       "  </thead>\n",
       "  <tbody>\n",
       "    <tr>\n",
       "      <th>0</th>\n",
       "      <td>./Data1/logs/10.log</td>\n",
       "      <td>./Data1/coord/10.xyz</td>\n",
       "      <td>2.326</td>\n",
       "      <td>-40.918934</td>\n",
       "    </tr>\n",
       "    <tr>\n",
       "      <th>1</th>\n",
       "      <td>./Data1/logs/11.log</td>\n",
       "      <td>./Data1/coord/11.xyz</td>\n",
       "      <td>2.327</td>\n",
       "      <td>-40.918934</td>\n",
       "    </tr>\n",
       "    <tr>\n",
       "      <th>2</th>\n",
       "      <td>./Data1/logs/12.log</td>\n",
       "      <td>./Data1/coord/12.xyz</td>\n",
       "      <td>2.326</td>\n",
       "      <td>-40.918934</td>\n",
       "    </tr>\n",
       "    <tr>\n",
       "      <th>3</th>\n",
       "      <td>./Data1/logs/13.log</td>\n",
       "      <td>./Data1/coord/13.xyz</td>\n",
       "      <td>2.328</td>\n",
       "      <td>-40.918934</td>\n",
       "    </tr>\n",
       "    <tr>\n",
       "      <th>4</th>\n",
       "      <td>./Data1/logs/14.log</td>\n",
       "      <td>./Data1/coord/14.xyz</td>\n",
       "      <td>2.328</td>\n",
       "      <td>-40.918934</td>\n",
       "    </tr>\n",
       "    <tr>\n",
       "      <th>5</th>\n",
       "      <td>./Data1/logs/15.log</td>\n",
       "      <td>./Data1/coord/15.xyz</td>\n",
       "      <td>2.597</td>\n",
       "      <td>-40.917931</td>\n",
       "    </tr>\n",
       "    <tr>\n",
       "      <th>6</th>\n",
       "      <td>./Data1/logs/16.log</td>\n",
       "      <td>./Data1/coord/16.xyz</td>\n",
       "      <td>2.598</td>\n",
       "      <td>-40.917931</td>\n",
       "    </tr>\n",
       "    <tr>\n",
       "      <th>7</th>\n",
       "      <td>./Data1/logs/17.log</td>\n",
       "      <td>./Data1/coord/17.xyz</td>\n",
       "      <td>2.600</td>\n",
       "      <td>-40.917931</td>\n",
       "    </tr>\n",
       "    <tr>\n",
       "      <th>8</th>\n",
       "      <td>./Data1/logs/18.log</td>\n",
       "      <td>./Data1/coord/18.xyz</td>\n",
       "      <td>2.603</td>\n",
       "      <td>-40.917931</td>\n",
       "    </tr>\n",
       "    <tr>\n",
       "      <th>9</th>\n",
       "      <td>./Data1/logs/19.log</td>\n",
       "      <td>./Data1/coord/19.xyz</td>\n",
       "      <td>2.598</td>\n",
       "      <td>-40.917931</td>\n",
       "    </tr>\n",
       "    <tr>\n",
       "      <th>10</th>\n",
       "      <td>./Data1/logs/1.log</td>\n",
       "      <td>./Data1/coord/1.xyz</td>\n",
       "      <td>2.607</td>\n",
       "      <td>-40.916876</td>\n",
       "    </tr>\n",
       "    <tr>\n",
       "      <th>11</th>\n",
       "      <td>./Data1/logs/20.log</td>\n",
       "      <td>./Data1/coord/20.xyz</td>\n",
       "      <td>2.599</td>\n",
       "      <td>-40.917931</td>\n",
       "    </tr>\n",
       "    <tr>\n",
       "      <th>12</th>\n",
       "      <td>./Data1/logs/21.log</td>\n",
       "      <td>./Data1/coord/21.xyz</td>\n",
       "      <td>2.613</td>\n",
       "      <td>-40.922190</td>\n",
       "    </tr>\n",
       "    <tr>\n",
       "      <th>13</th>\n",
       "      <td>./Data1/logs/22.log</td>\n",
       "      <td>./Data1/coord/22.xyz</td>\n",
       "      <td>2.613</td>\n",
       "      <td>-40.922190</td>\n",
       "    </tr>\n",
       "    <tr>\n",
       "      <th>14</th>\n",
       "      <td>./Data1/logs/23.log</td>\n",
       "      <td>./Data1/coord/23.xyz</td>\n",
       "      <td>2.614</td>\n",
       "      <td>-40.922190</td>\n",
       "    </tr>\n",
       "    <tr>\n",
       "      <th>15</th>\n",
       "      <td>./Data1/logs/24.log</td>\n",
       "      <td>./Data1/coord/24.xyz</td>\n",
       "      <td>2.612</td>\n",
       "      <td>-40.922190</td>\n",
       "    </tr>\n",
       "    <tr>\n",
       "      <th>16</th>\n",
       "      <td>./Data1/logs/25.log</td>\n",
       "      <td>./Data1/coord/25.xyz</td>\n",
       "      <td>2.613</td>\n",
       "      <td>-40.922190</td>\n",
       "    </tr>\n",
       "    <tr>\n",
       "      <th>17</th>\n",
       "      <td>./Data1/logs/26.log</td>\n",
       "      <td>./Data1/coord/26.xyz</td>\n",
       "      <td>2.613</td>\n",
       "      <td>-40.922190</td>\n",
       "    </tr>\n",
       "    <tr>\n",
       "      <th>18</th>\n",
       "      <td>./Data1/logs/27.log</td>\n",
       "      <td>./Data1/coord/27.xyz</td>\n",
       "      <td>2.760</td>\n",
       "      <td>-40.921741</td>\n",
       "    </tr>\n",
       "    <tr>\n",
       "      <th>19</th>\n",
       "      <td>./Data1/logs/28.log</td>\n",
       "      <td>./Data1/coord/28.xyz</td>\n",
       "      <td>2.761</td>\n",
       "      <td>-40.921741</td>\n",
       "    </tr>\n",
       "    <tr>\n",
       "      <th>20</th>\n",
       "      <td>./Data1/logs/29.log</td>\n",
       "      <td>./Data1/coord/29.xyz</td>\n",
       "      <td>2.765</td>\n",
       "      <td>-40.921741</td>\n",
       "    </tr>\n",
       "    <tr>\n",
       "      <th>21</th>\n",
       "      <td>./Data1/logs/2.log</td>\n",
       "      <td>./Data1/coord/2.xyz</td>\n",
       "      <td>2.399</td>\n",
       "      <td>-40.917924</td>\n",
       "    </tr>\n",
       "    <tr>\n",
       "      <th>22</th>\n",
       "      <td>./Data1/logs/30.log</td>\n",
       "      <td>./Data1/coord/30.xyz</td>\n",
       "      <td>2.764</td>\n",
       "      <td>-40.921741</td>\n",
       "    </tr>\n",
       "    <tr>\n",
       "      <th>23</th>\n",
       "      <td>./Data1/logs/31.log</td>\n",
       "      <td>./Data1/coord/31.xyz</td>\n",
       "      <td>2.766</td>\n",
       "      <td>-40.921741</td>\n",
       "    </tr>\n",
       "    <tr>\n",
       "      <th>24</th>\n",
       "      <td>./Data1/logs/32.log</td>\n",
       "      <td>./Data1/coord/32.xyz</td>\n",
       "      <td>2.766</td>\n",
       "      <td>-40.921741</td>\n",
       "    </tr>\n",
       "    <tr>\n",
       "      <th>25</th>\n",
       "      <td>./Data1/logs/33.log</td>\n",
       "      <td>./Data1/coord/33.xyz</td>\n",
       "      <td>2.594</td>\n",
       "      <td>-40.916876</td>\n",
       "    </tr>\n",
       "    <tr>\n",
       "      <th>26</th>\n",
       "      <td>./Data1/logs/34.log</td>\n",
       "      <td>./Data1/coord/34.xyz</td>\n",
       "      <td>1.690</td>\n",
       "      <td>-40.923437</td>\n",
       "    </tr>\n",
       "    <tr>\n",
       "      <th>27</th>\n",
       "      <td>./Data1/logs/35.log</td>\n",
       "      <td>./Data1/coord/35.xyz</td>\n",
       "      <td>1.691</td>\n",
       "      <td>-40.923437</td>\n",
       "    </tr>\n",
       "    <tr>\n",
       "      <th>28</th>\n",
       "      <td>./Data1/logs/36.log</td>\n",
       "      <td>./Data1/coord/36.xyz</td>\n",
       "      <td>1.691</td>\n",
       "      <td>-40.923437</td>\n",
       "    </tr>\n",
       "    <tr>\n",
       "      <th>29</th>\n",
       "      <td>./Data1/logs/37.log</td>\n",
       "      <td>./Data1/coord/37.xyz</td>\n",
       "      <td>1.692</td>\n",
       "      <td>-40.923437</td>\n",
       "    </tr>\n",
       "    <tr>\n",
       "      <th>30</th>\n",
       "      <td>./Data1/logs/38.log</td>\n",
       "      <td>./Data1/coord/38.xyz</td>\n",
       "      <td>1.691</td>\n",
       "      <td>-40.923437</td>\n",
       "    </tr>\n",
       "    <tr>\n",
       "      <th>31</th>\n",
       "      <td>./Data1/logs/39.log</td>\n",
       "      <td>./Data1/coord/39.xyz</td>\n",
       "      <td>1.692</td>\n",
       "      <td>-40.923437</td>\n",
       "    </tr>\n",
       "    <tr>\n",
       "      <th>32</th>\n",
       "      <td>./Data1/logs/3.log</td>\n",
       "      <td>./Data1/coord/3.xyz</td>\n",
       "      <td>2.307</td>\n",
       "      <td>-40.918934</td>\n",
       "    </tr>\n",
       "    <tr>\n",
       "      <th>33</th>\n",
       "      <td>./Data1/logs/40.log</td>\n",
       "      <td>./Data1/coord/40.xyz</td>\n",
       "      <td>2.824</td>\n",
       "      <td>-40.922677</td>\n",
       "    </tr>\n",
       "    <tr>\n",
       "      <th>34</th>\n",
       "      <td>./Data1/logs/41.log</td>\n",
       "      <td>./Data1/coord/41.xyz</td>\n",
       "      <td>2.822</td>\n",
       "      <td>-40.922677</td>\n",
       "    </tr>\n",
       "    <tr>\n",
       "      <th>35</th>\n",
       "      <td>./Data1/logs/42.log</td>\n",
       "      <td>./Data1/coord/42.xyz</td>\n",
       "      <td>2.822</td>\n",
       "      <td>-40.922677</td>\n",
       "    </tr>\n",
       "    <tr>\n",
       "      <th>36</th>\n",
       "      <td>./Data1/logs/43.log</td>\n",
       "      <td>./Data1/coord/43.xyz</td>\n",
       "      <td>2.825</td>\n",
       "      <td>-40.922677</td>\n",
       "    </tr>\n",
       "    <tr>\n",
       "      <th>37</th>\n",
       "      <td>./Data1/logs/44.log</td>\n",
       "      <td>./Data1/coord/44.xyz</td>\n",
       "      <td>2.822</td>\n",
       "      <td>-40.922677</td>\n",
       "    </tr>\n",
       "    <tr>\n",
       "      <th>38</th>\n",
       "      <td>./Data1/logs/45.log</td>\n",
       "      <td>./Data1/coord/45.xyz</td>\n",
       "      <td>2.823</td>\n",
       "      <td>-40.922677</td>\n",
       "    </tr>\n",
       "    <tr>\n",
       "      <th>39</th>\n",
       "      <td>./Data1/logs/46.log</td>\n",
       "      <td>./Data1/coord/46.xyz</td>\n",
       "      <td>3.559</td>\n",
       "      <td>-40.919661</td>\n",
       "    </tr>\n",
       "    <tr>\n",
       "      <th>40</th>\n",
       "      <td>./Data1/logs/47.log</td>\n",
       "      <td>./Data1/coord/47.xyz</td>\n",
       "      <td>3.559</td>\n",
       "      <td>-40.919661</td>\n",
       "    </tr>\n",
       "    <tr>\n",
       "      <th>41</th>\n",
       "      <td>./Data1/logs/48.log</td>\n",
       "      <td>./Data1/coord/48.xyz</td>\n",
       "      <td>3.555</td>\n",
       "      <td>-40.919661</td>\n",
       "    </tr>\n",
       "    <tr>\n",
       "      <th>42</th>\n",
       "      <td>./Data1/logs/49.log</td>\n",
       "      <td>./Data1/coord/49.xyz</td>\n",
       "      <td>3.559</td>\n",
       "      <td>-40.919661</td>\n",
       "    </tr>\n",
       "    <tr>\n",
       "      <th>43</th>\n",
       "      <td>./Data1/logs/4.log</td>\n",
       "      <td>./Data1/coord/4.xyz</td>\n",
       "      <td>2.307</td>\n",
       "      <td>-40.918934</td>\n",
       "    </tr>\n",
       "    <tr>\n",
       "      <th>44</th>\n",
       "      <td>./Data1/logs/5.log</td>\n",
       "      <td>./Data1/coord/5.xyz</td>\n",
       "      <td>2.305</td>\n",
       "      <td>-40.918934</td>\n",
       "    </tr>\n",
       "    <tr>\n",
       "      <th>45</th>\n",
       "      <td>./Data1/logs/6.log</td>\n",
       "      <td>./Data1/coord/6.xyz</td>\n",
       "      <td>2.309</td>\n",
       "      <td>-40.918934</td>\n",
       "    </tr>\n",
       "    <tr>\n",
       "      <th>46</th>\n",
       "      <td>./Data1/logs/7.log</td>\n",
       "      <td>./Data1/coord/7.xyz</td>\n",
       "      <td>2.313</td>\n",
       "      <td>-40.918934</td>\n",
       "    </tr>\n",
       "    <tr>\n",
       "      <th>47</th>\n",
       "      <td>./Data1/logs/8.log</td>\n",
       "      <td>./Data1/coord/8.xyz</td>\n",
       "      <td>2.306</td>\n",
       "      <td>-40.918934</td>\n",
       "    </tr>\n",
       "    <tr>\n",
       "      <th>48</th>\n",
       "      <td>./Data1/logs/9.log</td>\n",
       "      <td>./Data1/coord/9.xyz</td>\n",
       "      <td>2.324</td>\n",
       "      <td>-40.918934</td>\n",
       "    </tr>\n",
       "  </tbody>\n",
       "</table>\n",
       "</div>"
      ],
      "text/plain": [
       "     ./Data1/logs/0.log   ./Data1/coord/0.xyz  2.402  -40.9179241\n",
       "0   ./Data1/logs/10.log  ./Data1/coord/10.xyz  2.326   -40.918934\n",
       "1   ./Data1/logs/11.log  ./Data1/coord/11.xyz  2.327   -40.918934\n",
       "2   ./Data1/logs/12.log  ./Data1/coord/12.xyz  2.326   -40.918934\n",
       "3   ./Data1/logs/13.log  ./Data1/coord/13.xyz  2.328   -40.918934\n",
       "4   ./Data1/logs/14.log  ./Data1/coord/14.xyz  2.328   -40.918934\n",
       "5   ./Data1/logs/15.log  ./Data1/coord/15.xyz  2.597   -40.917931\n",
       "6   ./Data1/logs/16.log  ./Data1/coord/16.xyz  2.598   -40.917931\n",
       "7   ./Data1/logs/17.log  ./Data1/coord/17.xyz  2.600   -40.917931\n",
       "8   ./Data1/logs/18.log  ./Data1/coord/18.xyz  2.603   -40.917931\n",
       "9   ./Data1/logs/19.log  ./Data1/coord/19.xyz  2.598   -40.917931\n",
       "10   ./Data1/logs/1.log   ./Data1/coord/1.xyz  2.607   -40.916876\n",
       "11  ./Data1/logs/20.log  ./Data1/coord/20.xyz  2.599   -40.917931\n",
       "12  ./Data1/logs/21.log  ./Data1/coord/21.xyz  2.613   -40.922190\n",
       "13  ./Data1/logs/22.log  ./Data1/coord/22.xyz  2.613   -40.922190\n",
       "14  ./Data1/logs/23.log  ./Data1/coord/23.xyz  2.614   -40.922190\n",
       "15  ./Data1/logs/24.log  ./Data1/coord/24.xyz  2.612   -40.922190\n",
       "16  ./Data1/logs/25.log  ./Data1/coord/25.xyz  2.613   -40.922190\n",
       "17  ./Data1/logs/26.log  ./Data1/coord/26.xyz  2.613   -40.922190\n",
       "18  ./Data1/logs/27.log  ./Data1/coord/27.xyz  2.760   -40.921741\n",
       "19  ./Data1/logs/28.log  ./Data1/coord/28.xyz  2.761   -40.921741\n",
       "20  ./Data1/logs/29.log  ./Data1/coord/29.xyz  2.765   -40.921741\n",
       "21   ./Data1/logs/2.log   ./Data1/coord/2.xyz  2.399   -40.917924\n",
       "22  ./Data1/logs/30.log  ./Data1/coord/30.xyz  2.764   -40.921741\n",
       "23  ./Data1/logs/31.log  ./Data1/coord/31.xyz  2.766   -40.921741\n",
       "24  ./Data1/logs/32.log  ./Data1/coord/32.xyz  2.766   -40.921741\n",
       "25  ./Data1/logs/33.log  ./Data1/coord/33.xyz  2.594   -40.916876\n",
       "26  ./Data1/logs/34.log  ./Data1/coord/34.xyz  1.690   -40.923437\n",
       "27  ./Data1/logs/35.log  ./Data1/coord/35.xyz  1.691   -40.923437\n",
       "28  ./Data1/logs/36.log  ./Data1/coord/36.xyz  1.691   -40.923437\n",
       "29  ./Data1/logs/37.log  ./Data1/coord/37.xyz  1.692   -40.923437\n",
       "30  ./Data1/logs/38.log  ./Data1/coord/38.xyz  1.691   -40.923437\n",
       "31  ./Data1/logs/39.log  ./Data1/coord/39.xyz  1.692   -40.923437\n",
       "32   ./Data1/logs/3.log   ./Data1/coord/3.xyz  2.307   -40.918934\n",
       "33  ./Data1/logs/40.log  ./Data1/coord/40.xyz  2.824   -40.922677\n",
       "34  ./Data1/logs/41.log  ./Data1/coord/41.xyz  2.822   -40.922677\n",
       "35  ./Data1/logs/42.log  ./Data1/coord/42.xyz  2.822   -40.922677\n",
       "36  ./Data1/logs/43.log  ./Data1/coord/43.xyz  2.825   -40.922677\n",
       "37  ./Data1/logs/44.log  ./Data1/coord/44.xyz  2.822   -40.922677\n",
       "38  ./Data1/logs/45.log  ./Data1/coord/45.xyz  2.823   -40.922677\n",
       "39  ./Data1/logs/46.log  ./Data1/coord/46.xyz  3.559   -40.919661\n",
       "40  ./Data1/logs/47.log  ./Data1/coord/47.xyz  3.559   -40.919661\n",
       "41  ./Data1/logs/48.log  ./Data1/coord/48.xyz  3.555   -40.919661\n",
       "42  ./Data1/logs/49.log  ./Data1/coord/49.xyz  3.559   -40.919661\n",
       "43   ./Data1/logs/4.log   ./Data1/coord/4.xyz  2.307   -40.918934\n",
       "44   ./Data1/logs/5.log   ./Data1/coord/5.xyz  2.305   -40.918934\n",
       "45   ./Data1/logs/6.log   ./Data1/coord/6.xyz  2.309   -40.918934\n",
       "46   ./Data1/logs/7.log   ./Data1/coord/7.xyz  2.313   -40.918934\n",
       "47   ./Data1/logs/8.log   ./Data1/coord/8.xyz  2.306   -40.918934\n",
       "48   ./Data1/logs/9.log   ./Data1/coord/9.xyz  2.324   -40.918934"
      ]
     },
     "execution_count": 46,
     "metadata": {},
     "output_type": "execute_result"
    }
   ],
   "source": [
    "files = pd.read_csv(\"Data_Collection.csv\")\n",
    "files"
   ]
  },
  {
   "cell_type": "markdown",
   "metadata": {},
   "source": [
    "Should read one sample xyz-file to construct headers and get shapes to an array"
   ]
  },
  {
   "cell_type": "code",
   "execution_count": 35,
   "metadata": {},
   "outputs": [],
   "source": [
    "#xyzarr = np.empty()"
   ]
  },
  {
   "cell_type": "code",
   "execution_count": 31,
   "metadata": {},
   "outputs": [],
   "source": [
    "def read_xyz2flat(xyzfile):\n",
    "    \"Reads a xyz-file and returns the coordinates flattened to a Numpy-array\"\n",
    "    xyz_temp = pd.read_csv(xyzfile, \\\n",
    "                       sep='\\s+', \\\n",
    "                       skiprows=2, \\\n",
    "                       header=None, \\\n",
    "                       index_col=0, \\\n",
    "                       names=['x','y','z']\\\n",
    "                      ).sort_index(ascending=False)\n",
    "    xyz_flat = xyz_temp.values.flatten().reshape(1,57)\n",
    "    return xyz_flat"
   ]
  },
  {
   "cell_type": "code",
   "execution_count": null,
   "metadata": {},
   "outputs": [],
   "source": [
    "def xyz2df():\n",
    "    \n",
    "    coord_df = pd.DataFrame(xyz_flat,index=['a'],columns=col_names)"
   ]
  },
  {
   "cell_type": "code",
   "execution_count": 30,
   "metadata": {},
   "outputs": [
    {
     "name": "stdout",
     "output_type": "stream",
     "text": [
      "/Users/matthew/OneDrive - University of Helsinki/HY/Comp_TCM/Data/IDS/ClusterDataIDS/Data1/coord\n",
      "0.xyz  13.xyz 18.xyz 22.xyz 27.xyz 31.xyz 36.xyz 40.xyz 45.xyz 5.xyz\n",
      "1.xyz  14.xyz 19.xyz 23.xyz 28.xyz 32.xyz 37.xyz 41.xyz 46.xyz 6.xyz\n",
      "10.xyz 15.xyz 2.xyz  24.xyz 29.xyz 33.xyz 38.xyz 42.xyz 47.xyz 7.xyz\n",
      "11.xyz 16.xyz 20.xyz 25.xyz 3.xyz  34.xyz 39.xyz 43.xyz 48.xyz 8.xyz\n",
      "12.xyz 17.xyz 21.xyz 26.xyz 30.xyz 35.xyz 4.xyz  44.xyz 49.xyz 9.xyz\n",
      "/Users/matthew/OneDrive - University of Helsinki/HY/Comp_TCM/Data/IDS/ClusterDataIDS\n",
      "/Users/matthew/OneDrive - University of Helsinki/HY/Comp_TCM/Data/IDS/ClusterDataIDS\n"
     ]
    }
   ],
   "source": [
    "folder_wrk = !pwd\n",
    "!cd ./Data1/coord/; pwd; ls\n",
    "!pwd\n",
    "!cd ..\n",
    "!pwd"
   ]
  },
  {
   "cell_type": "markdown",
   "metadata": {},
   "source": [
    "Load a coord into a DataFrame"
   ]
  },
  {
   "cell_type": "code",
   "execution_count": 3,
   "metadata": {},
   "outputs": [],
   "source": [
    "xyz_test = pd.read_csv(\"Data1/0.xyz\", \\\n",
    "                       sep='\\s+', \\\n",
    "                       skiprows=2, \\\n",
    "                       header=None, \\\n",
    "                       index_col=0, \\\n",
    "                       names=['x','y','z']\\\n",
    "                      ).sort_index(ascending=False)\n",
    "# Atom names in indexes"
   ]
  },
  {
   "cell_type": "markdown",
   "metadata": {},
   "source": [
    "```python\n",
    "xyz_test = pd.read_csv(\"Data1/0.xyz\", \\\n",
    "                       sep='\\s+',\\\n",
    "                       skiprows=2, \\\n",
    "                       header=None, \\\n",
    "                       names=['atom','x','y','z']\\\n",
    "                      ).sort_values(by='atom',ascending=False).reset_index(drop=True)\n",
    "# Atom names in col 0\n",
    "```\n"
   ]
  },
  {
   "cell_type": "markdown",
   "metadata": {},
   "source": [
    "Print the names of the atoms"
   ]
  },
  {
   "cell_type": "code",
   "execution_count": 4,
   "metadata": {},
   "outputs": [
    {
     "data": {
      "text/plain": [
       "Index(['S', 'O', 'O', 'O', 'O', 'O', 'O', 'O', 'O', 'H', 'H', 'H', 'H', 'H',\n",
       "       'H', 'H', 'H', 'H', 'H'],\n",
       "      dtype='object')"
      ]
     },
     "execution_count": 4,
     "metadata": {},
     "output_type": "execute_result"
    }
   ],
   "source": [
    "xyz_test.index"
   ]
  },
  {
   "cell_type": "markdown",
   "metadata": {},
   "source": [
    "> How is order handled under one label?\n",
    "- what is the order of other coord files?"
   ]
  },
  {
   "cell_type": "markdown",
   "metadata": {},
   "source": [
    "Save the names of the atoms to an array"
   ]
  },
  {
   "cell_type": "code",
   "execution_count": 5,
   "metadata": {},
   "outputs": [],
   "source": [
    "arr_indexes = np.array(xyz_test.index)"
   ]
  },
  {
   "cell_type": "code",
   "execution_count": 6,
   "metadata": {},
   "outputs": [
    {
     "data": {
      "text/plain": [
       "19"
      ]
     },
     "execution_count": 6,
     "metadata": {},
     "output_type": "execute_result"
    }
   ],
   "source": [
    "arr_indexes.shape[0]"
   ]
  },
  {
   "cell_type": "markdown",
   "metadata": {},
   "source": [
    "Get numbers for the atoms and concatenate them with the labels"
   ]
  },
  {
   "cell_type": "code",
   "execution_count": 7,
   "metadata": {},
   "outputs": [],
   "source": [
    "list_atomnames = []\n",
    "\n",
    "for i,j in enumerate(arr_indexes):\n",
    "    list_atomnames.append(\"{} {}\".format(j,i))\n",
    "\n",
    "arr_atomnames = np.array(list_atomnames)"
   ]
  },
  {
   "cell_type": "markdown",
   "metadata": {},
   "source": [
    "Make the multi-index array of tuples"
   ]
  },
  {
   "cell_type": "code",
   "execution_count": 8,
   "metadata": {},
   "outputs": [
    {
     "data": {
      "text/plain": [
       "array(['S 0', 'S 0', 'S 0', 'O 1', 'O 1', 'O 1', 'O 2', 'O 2', 'O 2',\n",
       "       'O 3', 'O 3', 'O 3', 'O 4', 'O 4', 'O 4', 'O 5', 'O 5', 'O 5',\n",
       "       'O 6', 'O 6', 'O 6', 'O 7', 'O 7', 'O 7', 'O 8', 'O 8', 'O 8',\n",
       "       'H 9', 'H 9', 'H 9', 'H 10', 'H 10', 'H 10', 'H 11', 'H 11',\n",
       "       'H 11', 'H 12', 'H 12', 'H 12', 'H 13', 'H 13', 'H 13', 'H 14',\n",
       "       'H 14', 'H 14', 'H 15', 'H 15', 'H 15', 'H 16', 'H 16', 'H 16',\n",
       "       'H 17', 'H 17', 'H 17', 'H 18', 'H 18', 'H 18'], dtype='<U32')"
      ]
     },
     "execution_count": 8,
     "metadata": {},
     "output_type": "execute_result"
    }
   ],
   "source": [
    "top_arr = np.empty((arr_atomnames.size * 3)).astype(str)\n",
    "top_arr[0::3] = arr_atomnames\n",
    "top_arr[1::3] = arr_atomnames\n",
    "top_arr[2::3] = arr_atomnames\n",
    "top_arr"
   ]
  },
  {
   "cell_type": "code",
   "execution_count": 9,
   "metadata": {},
   "outputs": [
    {
     "data": {
      "text/plain": [
       "array(['x', 'y', 'z', 'x', 'y', 'z', 'x', 'y', 'z', 'x', 'y', 'z', 'x',\n",
       "       'y', 'z', 'x', 'y', 'z', 'x', 'y', 'z', 'x', 'y', 'z', 'x', 'y',\n",
       "       'z', 'x', 'y', 'z', 'x', 'y', 'z', 'x', 'y', 'z', 'x', 'y', 'z',\n",
       "       'x', 'y', 'z', 'x', 'y', 'z', 'x', 'y', 'z', 'x', 'y', 'z', 'x',\n",
       "       'y', 'z', 'x', 'y', 'z'], dtype='<U32')"
      ]
     },
     "execution_count": 9,
     "metadata": {},
     "output_type": "execute_result"
    }
   ],
   "source": [
    "butt_arr = np.empty((arr_atomnames.size * 3)).astype(str)\n",
    "butt_arr[0::3] = \"x\"\n",
    "butt_arr[1::3] = \"y\"\n",
    "butt_arr[2::3] = \"z\"\n",
    "butt_arr"
   ]
  },
  {
   "cell_type": "code",
   "execution_count": 10,
   "metadata": {},
   "outputs": [
    {
     "data": {
      "text/plain": [
       "[('S 0', 'x'), ('S 0', 'y'), ('S 0', 'z'), ('O 1', 'x'), ('O 1', 'y')]"
      ]
     },
     "execution_count": 10,
     "metadata": {},
     "output_type": "execute_result"
    }
   ],
   "source": [
    "col_arr = np.vstack((top_arr,butt_arr))\n",
    "#col_arr.transpose()\n",
    "col_arr_tuples = list(zip(*col_arr))\n",
    "col_arr_tuples[:5]"
   ]
  },
  {
   "cell_type": "markdown",
   "metadata": {},
   "source": [
    "Multi-index column names"
   ]
  },
  {
   "cell_type": "code",
   "execution_count": 11,
   "metadata": {},
   "outputs": [
    {
     "data": {
      "text/plain": [
       "MultiIndex(levels=[['H 10', 'H 11', 'H 12', 'H 13', 'H 14', 'H 15', 'H 16', 'H 17', 'H 18', 'H 9', 'O 1', 'O 2', 'O 3', 'O 4', 'O 5', 'O 6', 'O 7', 'O 8', 'S 0'], ['x', 'y', 'z']],\n",
       "           labels=[[18, 18, 18, 10, 10, 10, 11, 11, 11, 12, 12, 12, 13, 13, 13, 14, 14, 14, 15, 15, 15, 16, 16, 16, 17, 17, 17, 9, 9, 9, 0, 0, 0, 1, 1, 1, 2, 2, 2, 3, 3, 3, 4, 4, 4, 5, 5, 5, 6, 6, 6, 7, 7, 7, 8, 8, 8], [0, 1, 2, 0, 1, 2, 0, 1, 2, 0, 1, 2, 0, 1, 2, 0, 1, 2, 0, 1, 2, 0, 1, 2, 0, 1, 2, 0, 1, 2, 0, 1, 2, 0, 1, 2, 0, 1, 2, 0, 1, 2, 0, 1, 2, 0, 1, 2, 0, 1, 2, 0, 1, 2, 0, 1, 2]],\n",
       "           names=['Atom', 'Coord'])"
      ]
     },
     "execution_count": 11,
     "metadata": {},
     "output_type": "execute_result"
    }
   ],
   "source": [
    "col_names = pd.MultiIndex.from_tuples(col_arr_tuples, names=[\"Atom\",\"Coord\"])\n",
    "col_names"
   ]
  },
  {
   "cell_type": "markdown",
   "metadata": {},
   "source": []
  },
  {
   "cell_type": "code",
   "execution_count": 12,
   "metadata": {},
   "outputs": [
    {
     "data": {
      "text/plain": [
       "57"
      ]
     },
     "execution_count": 12,
     "metadata": {},
     "output_type": "execute_result"
    }
   ],
   "source": [
    "3*19"
   ]
  },
  {
   "cell_type": "code",
   "execution_count": 13,
   "metadata": {},
   "outputs": [
    {
     "data": {
      "text/plain": [
       "(57,)"
      ]
     },
     "execution_count": 13,
     "metadata": {},
     "output_type": "execute_result"
    }
   ],
   "source": [
    "xyz_test.values.flatten().shape"
   ]
  },
  {
   "cell_type": "code",
   "execution_count": 14,
   "metadata": {},
   "outputs": [],
   "source": [
    "xyz_flat = xyz_test.values.flatten().reshape(1,57)"
   ]
  },
  {
   "cell_type": "code",
   "execution_count": 17,
   "metadata": {},
   "outputs": [
    {
     "data": {
      "text/plain": [
       "numpy.ndarray"
      ]
     },
     "execution_count": 17,
     "metadata": {},
     "output_type": "execute_result"
    }
   ],
   "source": [
    "type(xyz_flat)"
   ]
  },
  {
   "cell_type": "code",
   "execution_count": 15,
   "metadata": {},
   "outputs": [
    {
     "name": "stdout",
     "output_type": "stream",
     "text": [
      "Atom        S 0                           O 1                          O 2  \\\n",
      "Coord         x         y         z         x         y        z         x   \n",
      "a      0.141169  0.586462 -1.579178  1.571959  0.634674  1.58739 -0.496376   \n",
      "\n",
      "Atom                           O 3                          O 4            \\\n",
      "Coord        y         z         x         y         z        x         y   \n",
      "a     -0.79309  1.912224  0.122061 -2.393288  0.079677  1.01335 -0.572018   \n",
      "\n",
      "Atom                  O 5                          O 6                      \\\n",
      "Coord         z         x         y        z         x         y         z   \n",
      "a     -1.481227 -1.989939  0.798705  0.68009  0.522933  1.346199 -2.915277   \n",
      "\n",
      "Atom        O 7                           O 8                          H 9  \\\n",
      "Coord         x         y         z         x        y         z         x   \n",
      "a      0.369189  1.535905 -0.499852 -1.256258  0.20951 -1.702193  0.192515   \n",
      "\n",
      "Atom                           H 10                          H 11            \\\n",
      "Coord         y         z         x         y         z         x         y   \n",
      "a      0.757764 -3.586885  1.779578  1.401354  2.124928  1.251429  0.984936   \n",
      "\n",
      "Atom                 H 12                          H 13                      \\\n",
      "Coord         z         x         y         z         x         y         z   \n",
      "a      0.710985 -1.489374  1.623473  0.682714 -1.897694  0.492448 -0.263903   \n",
      "\n",
      "Atom       H 14                          H 15                          H 16  \\\n",
      "Coord         x         y         z         x         y         z         x   \n",
      "a      0.886638 -2.942662  0.267271  0.427588 -1.727576 -0.603801  0.369601   \n",
      "\n",
      "Atom                          H 17                          H 18            \\\n",
      "Coord         y         z        x         y         z         x         y   \n",
      "a     -0.238477  1.922843 -1.21537 -0.160903  1.456282 -0.303001 -1.543416   \n",
      "\n",
      "Atom             \n",
      "Coord         z  \n",
      "a      1.207911  \n"
     ]
    }
   ],
   "source": [
    "coord_df = pd.DataFrame(xyz_flat,index=['a'],columns=col_names)\n",
    "with pd.option_context('display.max_rows',None,'display.max_columns',None):\n",
    "    print(coord_df)"
   ]
  },
  {
   "cell_type": "code",
   "execution_count": null,
   "metadata": {},
   "outputs": [],
   "source": []
  }
 ],
 "metadata": {
  "kernelspec": {
   "display_name": "Python 3",
   "language": "python",
   "name": "python3"
  },
  "language_info": {
   "codemirror_mode": {
    "name": "ipython",
    "version": 3
   },
   "file_extension": ".py",
   "mimetype": "text/x-python",
   "name": "python",
   "nbconvert_exporter": "python",
   "pygments_lexer": "ipython3",
   "version": "3.7.1"
  }
 },
 "nbformat": 4,
 "nbformat_minor": 2
}
