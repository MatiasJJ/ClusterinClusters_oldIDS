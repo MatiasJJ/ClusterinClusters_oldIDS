{
 "cells": [
  {
   "cell_type": "code",
   "execution_count": 2,
   "metadata": {},
   "outputs": [],
   "source": [
    "import numpy as np\n",
    "import pandas as pd\n",
    "import matplotlib.pyplot as plt\n",
    "import seaborn as sns\n",
    "import scipy as scp\n",
    "import nltk\n",
    "import imageio\n",
    "import sklearn\n",
    "\n",
    "from timeit import default_timer as timer\n",
    "%matplotlib inline\n",
    "\n",
    "import json as js"
   ]
  },
  {
   "cell_type": "markdown",
   "metadata": {},
   "source": [
    "# Project\n",
    "### Stages"
   ]
  },
  {
   "cell_type": "markdown",
   "metadata": {},
   "source": [
    "**Timetable**\n",
    "\n",
    "| Time | Task |\n",
    "|----|----|\n",
    "|9.9. | Groups deadline |\n",
    "|16.9.| Topics deadline |\n",
    "| here | EDA, clean data, do project |\n",
    "|vk42 | presentation |\n",
    "|vk43 | projektit |"
   ]
  },
  {
   "cell_type": "markdown",
   "metadata": {},
   "source": [
    "## Project\n",
    "```\n",
    "A. Title of the project\t\n",
    "            \n",
    "B. Elevator pitch [max 400 characters]\n",
    " \n",
    "Describe the data science challenges related to the following themes. \n",
    "A good project should include interesting challenges under most of \n",
    "the themes. So for example, a project that begins with a single clean\n",
    "data set and a clear task (e.g., predict a given response), isn't a good \n",
    "choice for your project.\t\t\n",
    "            \n",
    "C. Data: sources, wrangling, management\t\t\n",
    "            \n",
    "D. Data analysis: statistics, machine learning\t\n",
    "            \n",
    "E. Communication of results: summarization & visualization\n",
    "            \n",
    "F. Operationalization: creating added value, end-user point of view\n",
    "```"
   ]
  },
  {
   "cell_type": "markdown",
   "metadata": {},
   "source": [
    "- 4x20x10000 stuctures with 19-30 atoms in a cluster\n",
    "    - coordinates\n",
    "    - dipole moment\n",
    "    - energy\n",
    "- Goals\n",
    "    - End user\n",
    "        - Configuration Sampling \n",
    "            - Find one structure with the lowest energy\n",
    "    - Eliminate redundant structures\n",
    "    - Find descriptors\n",
    "        - reduce dimensions\n",
    "    "
   ]
  },
  {
   "cell_type": "markdown",
   "metadata": {},
   "source": [
    "## Pitch talk 3min\n",
    "\n",
    "- Sell oriented\n",
    "    - Not technical\n",
    "- Slides, picures, figures\n",
    "    - Why useful\n",
    "    - Why interesting\n",
    "- Any person or all\n",
    "\n",
    "> We could make video from screenshots describing the problem\n",
    "\n",
    "> Check project-instructions for deadlines (tue 22.10. klo 23.59)"
   ]
  },
  {
   "cell_type": "markdown",
   "metadata": {},
   "source": [
    "#### Read data in"
   ]
  },
  {
   "cell_type": "markdown",
   "metadata": {},
   "source": [
    "Data must have a `.csv`-file that contains:\n",
    "\n",
    "| col1 | col2 | col3 | col4 | col5 |\n",
    "|------|------|------|------|------|\n",
    "| Filename | path to .log-file | path to .xyz-file | Dipole moment | Energy |"
   ]
  },
  {
   "cell_type": "markdown",
   "metadata": {},
   "source": [
    "Make the csv-file \n",
    "> Maybe later"
   ]
  },
  {
   "cell_type": "code",
   "execution_count": 166,
   "metadata": {},
   "outputs": [
    {
     "data": {
      "text/plain": [
       "array([ 0, 10, 11, 12, 13, 14, 15, 16, 17, 18, 19,  1, 20, 21, 22, 23, 24,\n",
       "       25, 26, 27, 28, 29,  2, 30, 31, 32, 33, 34, 35, 36, 37, 38, 39,  3,\n",
       "       40, 41, 42, 43, 44, 45, 46, 47, 48, 49,  4,  5,  6,  7,  8,  9])"
      ]
     },
     "execution_count": 166,
     "metadata": {},
     "output_type": "execute_result"
    }
   ],
   "source": [
    "files = pd.read_csv(\"Data_Collection.csv\")\n",
    "np.array(files.Filename)"
   ]
  },
  {
   "cell_type": "code",
   "execution_count": 43,
   "metadata": {},
   "outputs": [
    {
     "name": "stdout",
     "output_type": "stream",
     "text": [
      "Filename                      0\n",
      "LogPath      ./Data1/logs/0.log\n",
      "XYZPath     ./Data1/coord/0.xyz\n",
      "Dipole                    2.402\n",
      "Energy                 -40.9179\n",
      "Name: 0, dtype: object\n"
     ]
    },
    {
     "data": {
      "text/plain": [
       "int"
      ]
     },
     "execution_count": 43,
     "metadata": {},
     "output_type": "execute_result"
    }
   ],
   "source": [
    "test = next(files.iterrows())[1]\n",
    "print(test)\n",
    "type(test.Filename)"
   ]
  },
  {
   "cell_type": "code",
   "execution_count": null,
   "metadata": {},
   "outputs": [],
   "source": []
  },
  {
   "cell_type": "markdown",
   "metadata": {},
   "source": [
    "Should read one sample xyz-file to construct headers and get shapes to an array"
   ]
  },
  {
   "cell_type": "code",
   "execution_count": 169,
   "metadata": {},
   "outputs": [],
   "source": [
    "def init_DF(csvfile):\n",
    "    \"Reads a xyz-file and initializes the dataframe.\"\n",
    "    \n",
    "    filescsv = pd.read_csv(csvfile)\n",
    "    xyz_temp = filescsv.iloc[0,2]  # to get one xyz(path) as a reference\n",
    "    \n",
    "    xyz_test = read_xyz(xyz_temp,False) # Read it to a DF\n",
    "    \n",
    "    #filenames = filescsv.iloc[:,0] # Take this one with init_xyz_flatrray()\n",
    "    n_atoms = xyz_test.index.size\n",
    "    atomnames = np.array(xyz_test.index)\n",
    "    \n",
    "    list_atomnames = []\n",
    "    for i,j in enumerate(atomnames):\n",
    "        list_atomnames.append(\"{} {}\".format(j,i))\n",
    "    arr_atomnames = np.array(list_atomnames)\n",
    "    \n",
    "    col_names = makeMultiIndexs(arr_atomnames)\n",
    "\n",
    "    arr_clusters,filenames = init_xyz_array(filescsv,n_atoms) # to have the actual data\n",
    "    \n",
    "    coord_df = pd.DataFrame(arr_clusters,index=filenames,columns=col_names)\n",
    "    \n",
    "    \n",
    "    return coord_df"
   ]
  },
  {
   "cell_type": "code",
   "execution_count": 80,
   "metadata": {},
   "outputs": [
    {
     "data": {
      "text/plain": [
       "numpy.int64"
      ]
     },
     "execution_count": 80,
     "metadata": {},
     "output_type": "execute_result"
    }
   ],
   "source": [
    "onearr = np.array([1])\n",
    "type(onearr[0])"
   ]
  },
  {
   "cell_type": "code",
   "execution_count": 171,
   "metadata": {},
   "outputs": [],
   "source": [
    "def init_xyz_array(filecsv, n_atoms):\n",
    "    \"Reads paths from .csv and returns an array with all coords in rows, and the filenames for DF indexes\"\n",
    "    arr_clusters = np.empty((1,3*n_atoms+2))\n",
    "    filenames = np.array(filecsv.Filename)\n",
    "    for index, row in filecsv.iterrows():\n",
    "        filename = row.Filename\n",
    "        dipole = row.Dipole\n",
    "        energy = row.Energy\n",
    "        metarr = np.array([energy,dipole])\n",
    "        path = row.XYZPath\n",
    "        xyzs = read_xyz(path) #flatten=True by default\n",
    "\n",
    "        if index == None:\n",
    "            print(\"Filename:\",filename)\n",
    "            print(\"metarr:\",metarr)\n",
    "            print(\"shape:\",metarr.shape)\n",
    "            print(\"type:\",type(metarr))\n",
    "            print(\"path:\",path)\n",
    "            print(\"coordshape:\",xyzs.shape)\n",
    "            print(\"coords:\",xyzs)\n",
    "        \n",
    "        arrr = np.array(list(metarr)+list(xyzs))\n",
    "        arr_clusters = np.vstack((arr_clusters,arrr))\n",
    "    return arr_clusters[1:,:], filenames"
   ]
  },
  {
   "cell_type": "code",
   "execution_count": 142,
   "metadata": {},
   "outputs": [],
   "source": [
    "def read_xyz(xyzfile,flatten=True):\n",
    "    \"\"\"\n",
    "    usage: read_xyz(xyzfile,flatten(Default=True))\n",
    "    \n",
    "    Reads a xyz-file and returns the coordinates as DF\n",
    "    or flattened to a Numpy-array\n",
    "    \"\"\"\n",
    "    xyz_temp = pd.read_csv(xyzfile, \\\n",
    "                       sep='\\s+', \\\n",
    "                       skiprows=2, \\\n",
    "                       header=None, \\\n",
    "                       index_col=0, \\\n",
    "                       names=['x','y','z']\\\n",
    "                      ).sort_index(ascending=False)\n",
    "    \n",
    "    if flatten==True:\n",
    "        xyz_flat = xyz_temp.values.flatten().reshape(1,57)#.astype(np.float)\n",
    "        return xyz_flat[0]\n",
    "    else:\n",
    "        return xyz_temp"
   ]
  },
  {
   "cell_type": "code",
   "execution_count": 109,
   "metadata": {},
   "outputs": [],
   "source": [
    "def makeMultiIndexs(arr):\n",
    "    \"\"\"\n",
    "    Gets names of atoms as array and makes a pandas multi-indexing structure\n",
    "    with x-, y- and z- columns for each atom.\n",
    "    \"\"\"\n",
    "    top_arr = np.empty((arr.size * 3)).astype(str)\n",
    "    top_arr[0::3] = arr\n",
    "    top_arr[1::3] = arr\n",
    "    top_arr[2::3] = arr\n",
    "    butt_arr = np.empty((arr_atomnames.size * 3)).astype(str)\n",
    "    butt_arr[0::3] = \"x\"\n",
    "    butt_arr[1::3] = \"y\"\n",
    "    butt_arr[2::3] = \"z\"\n",
    "    col_arr = np.vstack((top_arr,butt_arr))\n",
    "    #col_arr.transpose()\n",
    "    col_arr_tuples = list(zip(*col_arr))\n",
    "    col_names = pd.MultiIndex.from_tuples(col_arr_tuples, names=[\"Atom\",\"Coord\"])\n",
    "    return col_names"
   ]
  },
  {
   "cell_type": "code",
   "execution_count": 172,
   "metadata": {},
   "outputs": [
    {
     "ename": "ValueError",
     "evalue": "Shape of passed values is (59, 50), indices imply (57, 50)",
     "output_type": "error",
     "traceback": [
      "\u001b[0;31m---------------------------------------------------------------------------\u001b[0m",
      "\u001b[0;31mValueError\u001b[0m                                Traceback (most recent call last)",
      "\u001b[0;32m/anaconda3/lib/python3.7/site-packages/pandas/core/internals.py\u001b[0m in \u001b[0;36mcreate_block_manager_from_blocks\u001b[0;34m(blocks, axes)\u001b[0m\n\u001b[1;32m   4856\u001b[0m                 blocks = [make_block(values=blocks[0],\n\u001b[0;32m-> 4857\u001b[0;31m                                      placement=slice(0, len(axes[0])))]\n\u001b[0m\u001b[1;32m   4858\u001b[0m \u001b[0;34m\u001b[0m\u001b[0m\n",
      "\u001b[0;32m/anaconda3/lib/python3.7/site-packages/pandas/core/internals.py\u001b[0m in \u001b[0;36mmake_block\u001b[0;34m(values, placement, klass, ndim, dtype, fastpath)\u001b[0m\n\u001b[1;32m   3204\u001b[0m \u001b[0;34m\u001b[0m\u001b[0m\n\u001b[0;32m-> 3205\u001b[0;31m     \u001b[0;32mreturn\u001b[0m \u001b[0mklass\u001b[0m\u001b[0;34m(\u001b[0m\u001b[0mvalues\u001b[0m\u001b[0;34m,\u001b[0m \u001b[0mndim\u001b[0m\u001b[0;34m=\u001b[0m\u001b[0mndim\u001b[0m\u001b[0;34m,\u001b[0m \u001b[0mplacement\u001b[0m\u001b[0;34m=\u001b[0m\u001b[0mplacement\u001b[0m\u001b[0;34m)\u001b[0m\u001b[0;34m\u001b[0m\u001b[0;34m\u001b[0m\u001b[0m\n\u001b[0m\u001b[1;32m   3206\u001b[0m \u001b[0;34m\u001b[0m\u001b[0m\n",
      "\u001b[0;32m/anaconda3/lib/python3.7/site-packages/pandas/core/internals.py\u001b[0m in \u001b[0;36m__init__\u001b[0;34m(self, values, placement, ndim)\u001b[0m\n\u001b[1;32m    124\u001b[0m                 \u001b[0;34m'Wrong number of items passed {val}, placement implies '\u001b[0m\u001b[0;34m\u001b[0m\u001b[0;34m\u001b[0m\u001b[0m\n\u001b[0;32m--> 125\u001b[0;31m                 '{mgr}'.format(val=len(self.values), mgr=len(self.mgr_locs)))\n\u001b[0m\u001b[1;32m    126\u001b[0m \u001b[0;34m\u001b[0m\u001b[0m\n",
      "\u001b[0;31mValueError\u001b[0m: Wrong number of items passed 59, placement implies 57",
      "\nDuring handling of the above exception, another exception occurred:\n",
      "\u001b[0;31mValueError\u001b[0m                                Traceback (most recent call last)",
      "\u001b[0;32m<ipython-input-172-7ba2bcc7ab32>\u001b[0m in \u001b[0;36m<module>\u001b[0;34m\u001b[0m\n\u001b[0;32m----> 1\u001b[0;31m \u001b[0mclusters_df\u001b[0m \u001b[0;34m=\u001b[0m \u001b[0minit_DF\u001b[0m\u001b[0;34m(\u001b[0m\u001b[0;34m\"Data_Collection.csv\"\u001b[0m\u001b[0;34m)\u001b[0m\u001b[0;34m\u001b[0m\u001b[0;34m\u001b[0m\u001b[0m\n\u001b[0m",
      "\u001b[0;32m<ipython-input-169-a64752b606d7>\u001b[0m in \u001b[0;36minit_DF\u001b[0;34m(csvfile)\u001b[0m\n\u001b[1;32m     20\u001b[0m     \u001b[0marr_clusters\u001b[0m\u001b[0;34m,\u001b[0m\u001b[0mfilenames\u001b[0m \u001b[0;34m=\u001b[0m \u001b[0minit_xyz_array\u001b[0m\u001b[0;34m(\u001b[0m\u001b[0mfilescsv\u001b[0m\u001b[0;34m,\u001b[0m\u001b[0mn_atoms\u001b[0m\u001b[0;34m)\u001b[0m \u001b[0;31m# to have the actual data\u001b[0m\u001b[0;34m\u001b[0m\u001b[0;34m\u001b[0m\u001b[0m\n\u001b[1;32m     21\u001b[0m \u001b[0;34m\u001b[0m\u001b[0m\n\u001b[0;32m---> 22\u001b[0;31m     \u001b[0mcoord_df\u001b[0m \u001b[0;34m=\u001b[0m \u001b[0mpd\u001b[0m\u001b[0;34m.\u001b[0m\u001b[0mDataFrame\u001b[0m\u001b[0;34m(\u001b[0m\u001b[0marr_clusters\u001b[0m\u001b[0;34m,\u001b[0m\u001b[0mindex\u001b[0m\u001b[0;34m=\u001b[0m\u001b[0mfilenames\u001b[0m\u001b[0;34m,\u001b[0m\u001b[0mcolumns\u001b[0m\u001b[0;34m=\u001b[0m\u001b[0mcol_names\u001b[0m\u001b[0;34m)\u001b[0m\u001b[0;34m\u001b[0m\u001b[0;34m\u001b[0m\u001b[0m\n\u001b[0m\u001b[1;32m     23\u001b[0m \u001b[0;34m\u001b[0m\u001b[0m\n\u001b[1;32m     24\u001b[0m \u001b[0;34m\u001b[0m\u001b[0m\n",
      "\u001b[0;32m/anaconda3/lib/python3.7/site-packages/pandas/core/frame.py\u001b[0m in \u001b[0;36m__init__\u001b[0;34m(self, data, index, columns, dtype, copy)\u001b[0m\n\u001b[1;32m    377\u001b[0m             \u001b[0;32melse\u001b[0m\u001b[0;34m:\u001b[0m\u001b[0;34m\u001b[0m\u001b[0;34m\u001b[0m\u001b[0m\n\u001b[1;32m    378\u001b[0m                 mgr = self._init_ndarray(data, index, columns, dtype=dtype,\n\u001b[0;32m--> 379\u001b[0;31m                                          copy=copy)\n\u001b[0m\u001b[1;32m    380\u001b[0m         \u001b[0;32melif\u001b[0m \u001b[0misinstance\u001b[0m\u001b[0;34m(\u001b[0m\u001b[0mdata\u001b[0m\u001b[0;34m,\u001b[0m \u001b[0;34m(\u001b[0m\u001b[0mlist\u001b[0m\u001b[0;34m,\u001b[0m \u001b[0mtypes\u001b[0m\u001b[0;34m.\u001b[0m\u001b[0mGeneratorType\u001b[0m\u001b[0;34m)\u001b[0m\u001b[0;34m)\u001b[0m\u001b[0;34m:\u001b[0m\u001b[0;34m\u001b[0m\u001b[0;34m\u001b[0m\u001b[0m\n\u001b[1;32m    381\u001b[0m             \u001b[0;32mif\u001b[0m \u001b[0misinstance\u001b[0m\u001b[0;34m(\u001b[0m\u001b[0mdata\u001b[0m\u001b[0;34m,\u001b[0m \u001b[0mtypes\u001b[0m\u001b[0;34m.\u001b[0m\u001b[0mGeneratorType\u001b[0m\u001b[0;34m)\u001b[0m\u001b[0;34m:\u001b[0m\u001b[0;34m\u001b[0m\u001b[0;34m\u001b[0m\u001b[0m\n",
      "\u001b[0;32m/anaconda3/lib/python3.7/site-packages/pandas/core/frame.py\u001b[0m in \u001b[0;36m_init_ndarray\u001b[0;34m(self, values, index, columns, dtype, copy)\u001b[0m\n\u001b[1;32m    534\u001b[0m             \u001b[0mvalues\u001b[0m \u001b[0;34m=\u001b[0m \u001b[0mmaybe_infer_to_datetimelike\u001b[0m\u001b[0;34m(\u001b[0m\u001b[0mvalues\u001b[0m\u001b[0;34m)\u001b[0m\u001b[0;34m\u001b[0m\u001b[0;34m\u001b[0m\u001b[0m\n\u001b[1;32m    535\u001b[0m \u001b[0;34m\u001b[0m\u001b[0m\n\u001b[0;32m--> 536\u001b[0;31m         \u001b[0;32mreturn\u001b[0m \u001b[0mcreate_block_manager_from_blocks\u001b[0m\u001b[0;34m(\u001b[0m\u001b[0;34m[\u001b[0m\u001b[0mvalues\u001b[0m\u001b[0;34m]\u001b[0m\u001b[0;34m,\u001b[0m \u001b[0;34m[\u001b[0m\u001b[0mcolumns\u001b[0m\u001b[0;34m,\u001b[0m \u001b[0mindex\u001b[0m\u001b[0;34m]\u001b[0m\u001b[0;34m)\u001b[0m\u001b[0;34m\u001b[0m\u001b[0;34m\u001b[0m\u001b[0m\n\u001b[0m\u001b[1;32m    537\u001b[0m \u001b[0;34m\u001b[0m\u001b[0m\n\u001b[1;32m    538\u001b[0m     \u001b[0;34m@\u001b[0m\u001b[0mproperty\u001b[0m\u001b[0;34m\u001b[0m\u001b[0;34m\u001b[0m\u001b[0m\n",
      "\u001b[0;32m/anaconda3/lib/python3.7/site-packages/pandas/core/internals.py\u001b[0m in \u001b[0;36mcreate_block_manager_from_blocks\u001b[0;34m(blocks, axes)\u001b[0m\n\u001b[1;32m   4864\u001b[0m         \u001b[0mblocks\u001b[0m \u001b[0;34m=\u001b[0m \u001b[0;34m[\u001b[0m\u001b[0mgetattr\u001b[0m\u001b[0;34m(\u001b[0m\u001b[0mb\u001b[0m\u001b[0;34m,\u001b[0m \u001b[0;34m'values'\u001b[0m\u001b[0;34m,\u001b[0m \u001b[0mb\u001b[0m\u001b[0;34m)\u001b[0m \u001b[0;32mfor\u001b[0m \u001b[0mb\u001b[0m \u001b[0;32min\u001b[0m \u001b[0mblocks\u001b[0m\u001b[0;34m]\u001b[0m\u001b[0;34m\u001b[0m\u001b[0;34m\u001b[0m\u001b[0m\n\u001b[1;32m   4865\u001b[0m         \u001b[0mtot_items\u001b[0m \u001b[0;34m=\u001b[0m \u001b[0msum\u001b[0m\u001b[0;34m(\u001b[0m\u001b[0mb\u001b[0m\u001b[0;34m.\u001b[0m\u001b[0mshape\u001b[0m\u001b[0;34m[\u001b[0m\u001b[0;36m0\u001b[0m\u001b[0;34m]\u001b[0m \u001b[0;32mfor\u001b[0m \u001b[0mb\u001b[0m \u001b[0;32min\u001b[0m \u001b[0mblocks\u001b[0m\u001b[0;34m)\u001b[0m\u001b[0;34m\u001b[0m\u001b[0;34m\u001b[0m\u001b[0m\n\u001b[0;32m-> 4866\u001b[0;31m         \u001b[0mconstruction_error\u001b[0m\u001b[0;34m(\u001b[0m\u001b[0mtot_items\u001b[0m\u001b[0;34m,\u001b[0m \u001b[0mblocks\u001b[0m\u001b[0;34m[\u001b[0m\u001b[0;36m0\u001b[0m\u001b[0;34m]\u001b[0m\u001b[0;34m.\u001b[0m\u001b[0mshape\u001b[0m\u001b[0;34m[\u001b[0m\u001b[0;36m1\u001b[0m\u001b[0;34m:\u001b[0m\u001b[0;34m]\u001b[0m\u001b[0;34m,\u001b[0m \u001b[0maxes\u001b[0m\u001b[0;34m,\u001b[0m \u001b[0me\u001b[0m\u001b[0;34m)\u001b[0m\u001b[0;34m\u001b[0m\u001b[0;34m\u001b[0m\u001b[0m\n\u001b[0m\u001b[1;32m   4867\u001b[0m \u001b[0;34m\u001b[0m\u001b[0m\n\u001b[1;32m   4868\u001b[0m \u001b[0;34m\u001b[0m\u001b[0m\n",
      "\u001b[0;32m/anaconda3/lib/python3.7/site-packages/pandas/core/internals.py\u001b[0m in \u001b[0;36mconstruction_error\u001b[0;34m(tot_items, block_shape, axes, e)\u001b[0m\n\u001b[1;32m   4841\u001b[0m         \u001b[0;32mraise\u001b[0m \u001b[0mValueError\u001b[0m\u001b[0;34m(\u001b[0m\u001b[0;34m\"Empty data passed with indices specified.\"\u001b[0m\u001b[0;34m)\u001b[0m\u001b[0;34m\u001b[0m\u001b[0;34m\u001b[0m\u001b[0m\n\u001b[1;32m   4842\u001b[0m     raise ValueError(\"Shape of passed values is {0}, indices imply {1}\".format(\n\u001b[0;32m-> 4843\u001b[0;31m         passed, implied))\n\u001b[0m\u001b[1;32m   4844\u001b[0m \u001b[0;34m\u001b[0m\u001b[0m\n\u001b[1;32m   4845\u001b[0m \u001b[0;34m\u001b[0m\u001b[0m\n",
      "\u001b[0;31mValueError\u001b[0m: Shape of passed values is (59, 50), indices imply (57, 50)"
     ]
    }
   ],
   "source": [
    "clusters_df = init_DF(\"Data_Collection.csv\")"
   ]
  },
  {
   "cell_type": "code",
   "execution_count": 112,
   "metadata": {},
   "outputs": [
    {
     "data": {
      "text/plain": [
       "array([1, 2, 3])"
      ]
     },
     "execution_count": 112,
     "metadata": {},
     "output_type": "execute_result"
    }
   ],
   "source": [
    "np.array(list([1,2,3]))"
   ]
  },
  {
   "cell_type": "code",
   "execution_count": 115,
   "metadata": {},
   "outputs": [
    {
     "name": "stdout",
     "output_type": "stream",
     "text": [
      "[0, 1, 2, 3, 4] [5, 6, 7, 8]\n"
     ]
    }
   ],
   "source": [
    "eee = np.arange(5)\n",
    "fff = np.arange(5,10)\n",
    "aaa = list(eee)\n",
    "bbb = [5,6,7,8]\n",
    "print(aaa,bbb)"
   ]
  },
  {
   "cell_type": "code",
   "execution_count": 116,
   "metadata": {},
   "outputs": [
    {
     "data": {
      "text/plain": [
       "array([0, 1, 2, 3, 4, 5, 6, 7, 8, 9])"
      ]
     },
     "execution_count": 116,
     "metadata": {},
     "output_type": "execute_result"
    }
   ],
   "source": [
    "np.array(list(eee)+list(fff))"
   ]
  },
  {
   "cell_type": "code",
   "execution_count": 163,
   "metadata": {},
   "outputs": [],
   "source": [
    "asd = [].append(3)\n",
    "asd"
   ]
  },
  {
   "cell_type": "code",
   "execution_count": null,
   "metadata": {},
   "outputs": [],
   "source": []
  },
  {
   "cell_type": "code",
   "execution_count": null,
   "metadata": {},
   "outputs": [],
   "source": []
  },
  {
   "cell_type": "code",
   "execution_count": null,
   "metadata": {},
   "outputs": [],
   "source": []
  },
  {
   "cell_type": "code",
   "execution_count": null,
   "metadata": {},
   "outputs": [],
   "source": []
  },
  {
   "cell_type": "code",
   "execution_count": null,
   "metadata": {},
   "outputs": [],
   "source": []
  },
  {
   "cell_type": "markdown",
   "metadata": {},
   "source": [
    "Load a coord into a DataFrame"
   ]
  },
  {
   "cell_type": "code",
   "execution_count": 10,
   "metadata": {},
   "outputs": [],
   "source": [
    "xyz_test = pd.read_csv(\"Data1/coord/0.xyz\", \\\n",
    "                       sep='\\s+', \\\n",
    "                       skiprows=2, \\\n",
    "                       header=None, \\\n",
    "                       index_col=0, \\\n",
    "                       names=['x','y','z']\\\n",
    "                      ).sort_index(ascending=False)\n",
    "# Atom names in indexes"
   ]
  },
  {
   "cell_type": "markdown",
   "metadata": {},
   "source": [
    "```python\n",
    "xyz_test = pd.read_csv(\"Data1/0.xyz\", \\\n",
    "                       sep='\\s+',\\\n",
    "                       skiprows=2, \\\n",
    "                       header=None, \\\n",
    "                       names=['atom','x','y','z']\\\n",
    "                      ).sort_values(by='atom',ascending=False).reset_index(drop=True)\n",
    "# Atom names in col 0\n",
    "```\n"
   ]
  },
  {
   "cell_type": "markdown",
   "metadata": {},
   "source": [
    "Print the names of the atoms"
   ]
  },
  {
   "cell_type": "markdown",
   "metadata": {},
   "source": [
    "> How is order handled under one label?\n",
    "- what is the order of other coord files?"
   ]
  },
  {
   "cell_type": "markdown",
   "metadata": {},
   "source": [
    "Save the names of the atoms to an array"
   ]
  },
  {
   "cell_type": "code",
   "execution_count": 11,
   "metadata": {},
   "outputs": [],
   "source": [
    "arr_indexes = np.array(xyz_test.index)"
   ]
  },
  {
   "cell_type": "code",
   "execution_count": 12,
   "metadata": {},
   "outputs": [
    {
     "data": {
      "text/plain": [
       "19"
      ]
     },
     "execution_count": 12,
     "metadata": {},
     "output_type": "execute_result"
    }
   ],
   "source": [
    "arr_indexes.shape[0]"
   ]
  },
  {
   "cell_type": "markdown",
   "metadata": {},
   "source": [
    "Get numbers for the atoms and concatenate them with the labels"
   ]
  },
  {
   "cell_type": "code",
   "execution_count": 13,
   "metadata": {},
   "outputs": [],
   "source": [
    "list_atomnames = []\n",
    "\n",
    "for i,j in enumerate(arr_indexes):\n",
    "    list_atomnames.append(\"{} {}\".format(j,i))\n",
    "\n",
    "arr_atomnames = np.array(list_atomnames)"
   ]
  },
  {
   "cell_type": "markdown",
   "metadata": {},
   "source": [
    "Make the multi-index array of tuples"
   ]
  },
  {
   "cell_type": "code",
   "execution_count": 14,
   "metadata": {},
   "outputs": [],
   "source": [
    "top_arr = np.empty((arr_atomnames.size * 3)).astype(str)\n",
    "top_arr[0::3] = arr_atomnames\n",
    "top_arr[1::3] = arr_atomnames\n",
    "top_arr[2::3] = arr_atomnames\n",
    "#top_arr"
   ]
  },
  {
   "cell_type": "code",
   "execution_count": 15,
   "metadata": {},
   "outputs": [],
   "source": [
    "butt_arr = np.empty((arr_atomnames.size * 3)).astype(str)\n",
    "butt_arr[0::3] = \"x\"\n",
    "butt_arr[1::3] = \"y\"\n",
    "butt_arr[2::3] = \"z\"\n",
    "#butt_arr"
   ]
  },
  {
   "cell_type": "code",
   "execution_count": 16,
   "metadata": {},
   "outputs": [
    {
     "data": {
      "text/plain": [
       "[('S 0', 'x'), ('S 0', 'y'), ('S 0', 'z'), ('O 1', 'x'), ('O 1', 'y')]"
      ]
     },
     "execution_count": 16,
     "metadata": {},
     "output_type": "execute_result"
    }
   ],
   "source": [
    "col_arr = np.vstack((top_arr,butt_arr))\n",
    "#col_arr.transpose()\n",
    "col_arr_tuples = list(zip(*col_arr))\n",
    "col_arr_tuples[:5]"
   ]
  },
  {
   "cell_type": "markdown",
   "metadata": {},
   "source": [
    "Multi-index column names"
   ]
  },
  {
   "cell_type": "code",
   "execution_count": 17,
   "metadata": {},
   "outputs": [
    {
     "data": {
      "text/plain": [
       "MultiIndex(levels=[['H 10', 'H 11', 'H 12', 'H 13', 'H 14', 'H 15', 'H 16', 'H 17', 'H 18', 'H 9', 'O 1', 'O 2', 'O 3', 'O 4', 'O 5', 'O 6', 'O 7', 'O 8', 'S 0'], ['x', 'y', 'z']],\n",
       "           labels=[[18, 18, 18, 10, 10, 10, 11, 11, 11, 12, 12, 12, 13, 13, 13, 14, 14, 14, 15, 15, 15, 16, 16, 16, 17, 17, 17, 9, 9, 9, 0, 0, 0, 1, 1, 1, 2, 2, 2, 3, 3, 3, 4, 4, 4, 5, 5, 5, 6, 6, 6, 7, 7, 7, 8, 8, 8], [0, 1, 2, 0, 1, 2, 0, 1, 2, 0, 1, 2, 0, 1, 2, 0, 1, 2, 0, 1, 2, 0, 1, 2, 0, 1, 2, 0, 1, 2, 0, 1, 2, 0, 1, 2, 0, 1, 2, 0, 1, 2, 0, 1, 2, 0, 1, 2, 0, 1, 2, 0, 1, 2, 0, 1, 2]],\n",
       "           names=['Atom', 'Coord'])"
      ]
     },
     "execution_count": 17,
     "metadata": {},
     "output_type": "execute_result"
    }
   ],
   "source": [
    "col_names = pd.MultiIndex.from_tuples(col_arr_tuples, names=[\"Atom\",\"Coord\"])\n",
    "col_names"
   ]
  },
  {
   "cell_type": "markdown",
   "metadata": {},
   "source": []
  },
  {
   "cell_type": "code",
   "execution_count": 18,
   "metadata": {},
   "outputs": [
    {
     "data": {
      "text/plain": [
       "57"
      ]
     },
     "execution_count": 18,
     "metadata": {},
     "output_type": "execute_result"
    }
   ],
   "source": [
    "3*19"
   ]
  },
  {
   "cell_type": "code",
   "execution_count": 19,
   "metadata": {},
   "outputs": [
    {
     "data": {
      "text/plain": [
       "(57,)"
      ]
     },
     "execution_count": 19,
     "metadata": {},
     "output_type": "execute_result"
    }
   ],
   "source": [
    "xyz_test.values.flatten().shape"
   ]
  },
  {
   "cell_type": "code",
   "execution_count": 20,
   "metadata": {},
   "outputs": [],
   "source": [
    "xyz_flat = xyz_test.values.flatten().reshape(1,57)"
   ]
  },
  {
   "cell_type": "code",
   "execution_count": 21,
   "metadata": {},
   "outputs": [
    {
     "data": {
      "text/plain": [
       "numpy.ndarray"
      ]
     },
     "execution_count": 21,
     "metadata": {},
     "output_type": "execute_result"
    }
   ],
   "source": [
    "type(xyz_flat)"
   ]
  },
  {
   "cell_type": "code",
   "execution_count": 23,
   "metadata": {},
   "outputs": [
    {
     "name": "stdout",
     "output_type": "stream",
     "text": [
      "Atom        S 0                           O 1                          O 2  \\\n",
      "Coord         x         y         z         x         y        z         x   \n",
      "a      0.141169  0.586462 -1.579178  1.571959  0.634674  1.58739 -0.496376   \n",
      "\n",
      "Atom                           O 3                          O 4            \\\n",
      "Coord        y         z         x         y         z        x         y   \n",
      "a     -0.79309  1.912224  0.122061 -2.393288  0.079677  1.01335 -0.572018   \n",
      "\n",
      "Atom                  O 5                          O 6                      \\\n",
      "Coord         z         x         y        z         x         y         z   \n",
      "a     -1.481227 -1.989939  0.798705  0.68009  0.522933  1.346199 -2.915277   \n",
      "\n",
      "Atom        O 7                           O 8                          H 9  \\\n",
      "Coord         x         y         z         x        y         z         x   \n",
      "a      0.369189  1.535905 -0.499852 -1.256258  0.20951 -1.702193  0.192515   \n",
      "\n",
      "Atom                           H 10                          H 11            \\\n",
      "Coord         y         z         x         y         z         x         y   \n",
      "a      0.757764 -3.586885  1.779578  1.401354  2.124928  1.251429  0.984936   \n",
      "\n",
      "Atom                 H 12                          H 13                      \\\n",
      "Coord         z         x         y         z         x         y         z   \n",
      "a      0.710985 -1.489374  1.623473  0.682714 -1.897694  0.492448 -0.263903   \n",
      "\n",
      "Atom       H 14                          H 15                          H 16  \\\n",
      "Coord         x         y         z         x         y         z         x   \n",
      "a      0.886638 -2.942662  0.267271  0.427588 -1.727576 -0.603801  0.369601   \n",
      "\n",
      "Atom                          H 17                          H 18            \\\n",
      "Coord         y         z        x         y         z         x         y   \n",
      "a     -0.238477  1.922843 -1.21537 -0.160903  1.456282 -0.303001 -1.543416   \n",
      "\n",
      "Atom             \n",
      "Coord         z  \n",
      "a      1.207911  \n"
     ]
    }
   ],
   "source": [
    "coord_df = pd.DataFrame(xyz_flat,index=['a'],columns=col_names)\n",
    "with pd.option_context('display.max_rows',None,'display.max_columns',None):\n",
    "    print(coord_df)"
   ]
  },
  {
   "cell_type": "code",
   "execution_count": 24,
   "metadata": {},
   "outputs": [
    {
     "data": {
      "text/html": [
       "<div>\n",
       "<style scoped>\n",
       "    .dataframe tbody tr th:only-of-type {\n",
       "        vertical-align: middle;\n",
       "    }\n",
       "\n",
       "    .dataframe tbody tr th {\n",
       "        vertical-align: top;\n",
       "    }\n",
       "\n",
       "    .dataframe thead tr th {\n",
       "        text-align: left;\n",
       "    }\n",
       "</style>\n",
       "<table border=\"1\" class=\"dataframe\">\n",
       "  <thead>\n",
       "    <tr>\n",
       "      <th>Atom</th>\n",
       "      <th colspan=\"3\" halign=\"left\">S 0</th>\n",
       "      <th colspan=\"3\" halign=\"left\">O 1</th>\n",
       "      <th colspan=\"3\" halign=\"left\">O 2</th>\n",
       "      <th>O 3</th>\n",
       "      <th>...</th>\n",
       "      <th>H 15</th>\n",
       "      <th colspan=\"3\" halign=\"left\">H 16</th>\n",
       "      <th colspan=\"3\" halign=\"left\">H 17</th>\n",
       "      <th colspan=\"3\" halign=\"left\">H 18</th>\n",
       "    </tr>\n",
       "    <tr>\n",
       "      <th>Coord</th>\n",
       "      <th>x</th>\n",
       "      <th>y</th>\n",
       "      <th>z</th>\n",
       "      <th>x</th>\n",
       "      <th>y</th>\n",
       "      <th>z</th>\n",
       "      <th>x</th>\n",
       "      <th>y</th>\n",
       "      <th>z</th>\n",
       "      <th>x</th>\n",
       "      <th>...</th>\n",
       "      <th>z</th>\n",
       "      <th>x</th>\n",
       "      <th>y</th>\n",
       "      <th>z</th>\n",
       "      <th>x</th>\n",
       "      <th>y</th>\n",
       "      <th>z</th>\n",
       "      <th>x</th>\n",
       "      <th>y</th>\n",
       "      <th>z</th>\n",
       "    </tr>\n",
       "  </thead>\n",
       "  <tbody>\n",
       "    <tr>\n",
       "      <th>a</th>\n",
       "      <td>0.141169</td>\n",
       "      <td>0.586462</td>\n",
       "      <td>-1.579178</td>\n",
       "      <td>1.571959</td>\n",
       "      <td>0.634674</td>\n",
       "      <td>1.58739</td>\n",
       "      <td>-0.496376</td>\n",
       "      <td>-0.79309</td>\n",
       "      <td>1.912224</td>\n",
       "      <td>0.122061</td>\n",
       "      <td>...</td>\n",
       "      <td>-0.603801</td>\n",
       "      <td>0.369601</td>\n",
       "      <td>-0.238477</td>\n",
       "      <td>1.922843</td>\n",
       "      <td>-1.21537</td>\n",
       "      <td>-0.160903</td>\n",
       "      <td>1.456282</td>\n",
       "      <td>-0.303001</td>\n",
       "      <td>-1.543416</td>\n",
       "      <td>1.207911</td>\n",
       "    </tr>\n",
       "  </tbody>\n",
       "</table>\n",
       "<p>1 rows × 57 columns</p>\n",
       "</div>"
      ],
      "text/plain": [
       "Atom        S 0                           O 1                          O 2  \\\n",
       "Coord         x         y         z         x         y        z         x   \n",
       "a      0.141169  0.586462 -1.579178  1.571959  0.634674  1.58739 -0.496376   \n",
       "\n",
       "Atom                           O 3    ...         H 15      H 16            \\\n",
       "Coord        y         z         x    ...            z         x         y   \n",
       "a     -0.79309  1.912224  0.122061    ...    -0.603801  0.369601 -0.238477   \n",
       "\n",
       "Atom                H 17                          H 18                      \n",
       "Coord         z        x         y         z         x         y         z  \n",
       "a      1.922843 -1.21537 -0.160903  1.456282 -0.303001 -1.543416  1.207911  \n",
       "\n",
       "[1 rows x 57 columns]"
      ]
     },
     "execution_count": 24,
     "metadata": {},
     "output_type": "execute_result"
    }
   ],
   "source": [
    "coord_df"
   ]
  },
  {
   "cell_type": "code",
   "execution_count": null,
   "metadata": {},
   "outputs": [],
   "source": []
  },
  {
   "cell_type": "code",
   "execution_count": null,
   "metadata": {},
   "outputs": [],
   "source": []
  },
  {
   "cell_type": "code",
   "execution_count": null,
   "metadata": {},
   "outputs": [],
   "source": []
  }
 ],
 "metadata": {
  "kernelspec": {
   "display_name": "Python 3",
   "language": "python",
   "name": "python3"
  },
  "language_info": {
   "codemirror_mode": {
    "name": "ipython",
    "version": 3
   },
   "file_extension": ".py",
   "mimetype": "text/x-python",
   "name": "python",
   "nbconvert_exporter": "python",
   "pygments_lexer": "ipython3",
   "version": "3.7.1"
  }
 },
 "nbformat": 4,
 "nbformat_minor": 2
}
