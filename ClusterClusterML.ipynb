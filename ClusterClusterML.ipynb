{
 "cells": [
  {
   "cell_type": "code",
   "execution_count": 21,
   "metadata": {},
   "outputs": [],
   "source": [
    "import numpy as np\n",
    "import pandas as pd\n",
    "import matplotlib.pyplot as plt\n",
    "import seaborn as sns\n",
    "import scipy as scp\n",
    "import nltk\n",
    "import imageio\n",
    "import sklearn\n",
    "\n",
    "from matplotlib.pyplot import imshow\n",
    "from collections import Counter\n",
    "from timeit import default_timer as timer\n",
    "\n",
    "from sklearn.linear_model import LinearRegression\n",
    "from sklearn.model_selection import train_test_split\n",
    "from sklearn.ensemble import RandomForestClassifier\n",
    "\n",
    "import json as js\n",
    "\n",
    "import geopandas as gp\n",
    "\n",
    "%matplotlib inline"
   ]
  },
  {
   "cell_type": "markdown",
   "metadata": {},
   "source": [
    "# Project\n",
    "### Stages"
   ]
  },
  {
   "cell_type": "markdown",
   "metadata": {},
   "source": [
    "**Timetable**\n",
    "\n",
    "| Time | Task |\n",
    "|----|----|\n",
    "|9.9. | Groups deadline |\n",
    "|16.9.| Topics deadline |\n",
    "| here | EDA, clean data, do project |\n",
    "|vk42 | presentation |\n",
    "|vk43 | projektit |"
   ]
  },
  {
   "cell_type": "markdown",
   "metadata": {},
   "source": [
    "## Project\n",
    "```\n",
    "A. Title of the project\t\n",
    "            \n",
    "B. Elevator pitch [max 400 characters]\n",
    " \n",
    "Describe the data science challenges related to the following themes. \n",
    "A good project should include interesting challenges under most of \n",
    "the themes. So for example, a project that begins with a single clean\n",
    "data set and a clear task (e.g., predict a given response), isn't a good \n",
    "choice for your project.\t\t\n",
    "            \n",
    "C. Data: sources, wrangling, management\t\t\n",
    "            \n",
    "D. Data analysis: statistics, machine learning\t\n",
    "            \n",
    "E. Communication of results: summarization & visualization\n",
    "            \n",
    "F. Operationalization: creating added value, end-user point of view\n",
    "```"
   ]
  },
  {
   "cell_type": "markdown",
   "metadata": {},
   "source": [
    "- 4x20x10000 stuctures with 19-30 atoms in a cluster\n",
    "    - coordinates\n",
    "    - dipole moment\n",
    "    - energy\n",
    "- Goals\n",
    "    - End user\n",
    "        - Configuration Sampling \n",
    "            - Find one structure with the lowest energy\n",
    "    - Eliminate redundant structures\n",
    "    - Find descriptors\n",
    "        - reduce dimensions\n",
    "    "
   ]
  },
  {
   "cell_type": "markdown",
   "metadata": {},
   "source": [
    "## Pitch talk 3min\n",
    "\n",
    "- Sell oriented\n",
    "    - Not technical\n",
    "- Slides, picures, figures\n",
    "    - Why useful\n",
    "    - Why interesting\n",
    "- Any person or all\n",
    "\n",
    "> We could make video from screenshots describing the problem\n",
    "\n",
    "> Check project-instructions for deadlines (tue 22.10. klo 23.59)"
   ]
  },
  {
   "cell_type": "markdown",
   "metadata": {},
   "source": [
    "#### Read data in"
   ]
  },
  {
   "cell_type": "markdown",
   "metadata": {},
   "source": [
    "Data must have a `.csv`-file that contains:\n",
    "\n",
    "| col1 | col2 | col3 | col4 | col5 |\n",
    "|------|------|------|------|------|\n",
    "| Filename | path to .log-file | path to .xyz-file | Dipole moment | Energy |"
   ]
  },
  {
   "cell_type": "markdown",
   "metadata": {},
   "source": [
    "Make the csv-file \n",
    "> Maybe later"
   ]
  },
  {
   "cell_type": "code",
   "execution_count": null,
   "metadata": {},
   "outputs": [],
   "source": []
  },
  {
   "cell_type": "markdown",
   "metadata": {},
   "source": [
    "Should read one sample xyz-file to construct headers and get shapes to an array"
   ]
  },
  {
   "cell_type": "code",
   "execution_count": 2,
   "metadata": {},
   "outputs": [],
   "source": [
    "def init_DF(csvfile):\n",
    "    \"Reads a xyz-file and initializes the dataframe.\"\n",
    "    \n",
    "    filescsv = pd.read_csv(csvfile)\n",
    "    xyz_temp = filescsv.iloc[0,2]  # to get one xyz(path) as a reference\n",
    "    \n",
    "    xyz_test = read_xyz(xyz_temp,False) # Read it to a DF\n",
    "    \n",
    "    #filenames = filescsv.iloc[:,0] # Take this one with init_xyz_flatrray()\n",
    "    n_atoms = xyz_test.index.size\n",
    "    atomnames = np.array(xyz_test.index)\n",
    "    \n",
    "    list_atomnames = []\n",
    "    for i,j in enumerate(atomnames):\n",
    "        list_atomnames.append(\"{}_{}\".format(j,i))\n",
    "    arr_atomnames = np.array(list_atomnames)\n",
    "    \n",
    "    col_names = makeMultiIndexs(arr_atomnames)\n",
    "\n",
    "    arr_clusters,filenames = init_xyz_array(filescsv,n_atoms) # to have the actual data\n",
    "    \n",
    "    coord_df = pd.DataFrame(arr_clusters,index=filenames,columns=col_names)\n",
    "    \n",
    "    \n",
    "    return coord_df"
   ]
  },
  {
   "cell_type": "code",
   "execution_count": 3,
   "metadata": {},
   "outputs": [],
   "source": [
    "def init_xyz_array(filecsv, n_atoms):\n",
    "    \"Reads paths from .csv and returns an array with all coords in rows, and the filenames for DF indexes\"\n",
    "    arr_clusters = np.zeros((1,3*n_atoms+2))\n",
    "    filenames = np.array(filecsv.Filename)\n",
    "    for index, row in filecsv.iterrows():\n",
    "        #filename = row.Filename\n",
    "        dipole = row.Dipole\n",
    "        energy = row.Energy\n",
    "        metarr = np.array([energy,dipole])\n",
    "        path = row.XYZPath\n",
    "        xyzs = read_xyz(path) #flatten=True by default\n",
    "\n",
    "        if index == None:\n",
    "            print(\"Filename:\",filename)\n",
    "            print(\"metarr:\",metarr)\n",
    "            print(\"shape:\",metarr.shape)\n",
    "            print(\"type:\",type(metarr))\n",
    "            print(\"path:\",path)\n",
    "            print(\"coordshape:\",xyzs.shape)\n",
    "            print(\"coords:\",xyzs)\n",
    "        \n",
    "        arrr = np.array(list(metarr)+list(xyzs))\n",
    "        arr_clusters = np.vstack((arr_clusters,arrr))\n",
    "    return arr_clusters[1:,:], filenames"
   ]
  },
  {
   "cell_type": "code",
   "execution_count": 4,
   "metadata": {},
   "outputs": [],
   "source": [
    "def read_xyz(xyzfile,flatten=True):\n",
    "    \"\"\"\n",
    "    usage: read_xyz(xyzfile,flatten(Default=True))\n",
    "    \n",
    "    Reads a xyz-file and returns the coordinates as DF\n",
    "    or flattened to a Numpy-array\n",
    "    \"\"\"\n",
    "    xyz_temp = pd.read_csv(xyzfile, \\\n",
    "                       sep='\\s+', \\\n",
    "                       skiprows=2, \\\n",
    "                       header=None, \\\n",
    "                       index_col=0, \\\n",
    "                       names=['x','y','z']\\\n",
    "                      ).sort_index(ascending=False)\n",
    "    \n",
    "    if flatten==True:\n",
    "        xyz_flat = xyz_temp.values.flatten().reshape(1,57)#.astype(np.float)\n",
    "        return xyz_flat[0]\n",
    "    else:\n",
    "        return xyz_temp"
   ]
  },
  {
   "cell_type": "code",
   "execution_count": 5,
   "metadata": {},
   "outputs": [],
   "source": [
    "def makeMultiIndexs(arr):\n",
    "    \"\"\"\n",
    "    Gets names of atoms as array and makes a pandas multi-indexing structure\n",
    "    with x-, y- and z- columns for each atom.\n",
    "    \"\"\"\n",
    "    top_arr = np.empty((arr.size * 3 +2)).astype(str)\n",
    "    top_arr[0] = \"Properties\"\n",
    "    top_arr[1] = \"Properties\"\n",
    "    top_arr[2::3] = arr\n",
    "    top_arr[3::3] = arr\n",
    "    top_arr[4::3] = arr\n",
    "    butt_arr = np.empty((arr.size * 3 +2)).astype(str)\n",
    "    butt_arr[0] = \"Energy\"\n",
    "    butt_arr[1] = \"Dipole\"\n",
    "    butt_arr[2::3] = \"x\"\n",
    "    butt_arr[3::3] = \"y\"\n",
    "    butt_arr[4::3] = \"z\"\n",
    "    col_arr = np.vstack((top_arr,butt_arr))\n",
    "    #col_arr.transpose()\n",
    "    col_arr_tuples = list(zip(*col_arr))\n",
    "    col_names = pd.MultiIndex.from_tuples(col_arr_tuples, names=[\"Atom\",\"Coord\"])\n",
    "    return col_names"
   ]
  },
  {
   "cell_type": "code",
   "execution_count": 6,
   "metadata": {},
   "outputs": [],
   "source": [
    "clusters_df = init_DF(\"Data1/Data_Collection.csv\")"
   ]
  },
  {
   "cell_type": "code",
   "execution_count": 7,
   "metadata": {},
   "outputs": [],
   "source": [
    "#from multi-index to one index\n",
    "clusters_df.columns = ['_'.join(col) for col in clusters_df.columns.values]"
   ]
  },
  {
   "cell_type": "code",
   "execution_count": 20,
   "metadata": {},
   "outputs": [
    {
     "data": {
      "text/html": [
       "<div>\n",
       "<style scoped>\n",
       "    .dataframe tbody tr th:only-of-type {\n",
       "        vertical-align: middle;\n",
       "    }\n",
       "\n",
       "    .dataframe tbody tr th {\n",
       "        vertical-align: top;\n",
       "    }\n",
       "\n",
       "    .dataframe thead th {\n",
       "        text-align: right;\n",
       "    }\n",
       "</style>\n",
       "<table border=\"1\" class=\"dataframe\">\n",
       "  <thead>\n",
       "    <tr style=\"text-align: right;\">\n",
       "      <th></th>\n",
       "      <th>Properties_Energy</th>\n",
       "      <th>Properties_Dipole</th>\n",
       "      <th>S_0_x</th>\n",
       "      <th>S_0_y</th>\n",
       "      <th>S_0_z</th>\n",
       "      <th>O_1_x</th>\n",
       "      <th>O_1_y</th>\n",
       "      <th>O_1_z</th>\n",
       "      <th>O_2_x</th>\n",
       "      <th>O_2_y</th>\n",
       "      <th>...</th>\n",
       "      <th>H_15_z</th>\n",
       "      <th>H_16_x</th>\n",
       "      <th>H_16_y</th>\n",
       "      <th>H_16_z</th>\n",
       "      <th>H_17_x</th>\n",
       "      <th>H_17_y</th>\n",
       "      <th>H_17_z</th>\n",
       "      <th>H_18_x</th>\n",
       "      <th>H_18_y</th>\n",
       "      <th>H_18_z</th>\n",
       "    </tr>\n",
       "  </thead>\n",
       "  <tbody>\n",
       "    <tr>\n",
       "      <th>6323</th>\n",
       "      <td>-40.924539</td>\n",
       "      <td>1.578</td>\n",
       "      <td>-0.732561</td>\n",
       "      <td>-1.107435</td>\n",
       "      <td>0.748407</td>\n",
       "      <td>0.970614</td>\n",
       "      <td>1.545924</td>\n",
       "      <td>-1.180141</td>\n",
       "      <td>1.266253</td>\n",
       "      <td>-0.908754</td>\n",
       "      <td>...</td>\n",
       "      <td>-0.970411</td>\n",
       "      <td>1.175595</td>\n",
       "      <td>0.571748</td>\n",
       "      <td>-1.504437</td>\n",
       "      <td>1.202003</td>\n",
       "      <td>-1.223032</td>\n",
       "      <td>-0.734016</td>\n",
       "      <td>0.443668</td>\n",
       "      <td>-1.215908</td>\n",
       "      <td>-2.068929</td>\n",
       "    </tr>\n",
       "    <tr>\n",
       "      <th>2356</th>\n",
       "      <td>-40.921741</td>\n",
       "      <td>2.756</td>\n",
       "      <td>-0.633089</td>\n",
       "      <td>-0.097471</td>\n",
       "      <td>0.626388</td>\n",
       "      <td>1.982748</td>\n",
       "      <td>-2.339769</td>\n",
       "      <td>-0.621845</td>\n",
       "      <td>1.115037</td>\n",
       "      <td>-0.333702</td>\n",
       "      <td>...</td>\n",
       "      <td>0.140270</td>\n",
       "      <td>1.556772</td>\n",
       "      <td>0.407602</td>\n",
       "      <td>-1.658289</td>\n",
       "      <td>1.557595</td>\n",
       "      <td>-1.148960</td>\n",
       "      <td>-1.804169</td>\n",
       "      <td>-0.104917</td>\n",
       "      <td>-0.385642</td>\n",
       "      <td>-1.472659</td>\n",
       "    </tr>\n",
       "    <tr>\n",
       "      <th>390</th>\n",
       "      <td>-40.918934</td>\n",
       "      <td>2.305</td>\n",
       "      <td>1.314052</td>\n",
       "      <td>0.779687</td>\n",
       "      <td>0.822241</td>\n",
       "      <td>1.106020</td>\n",
       "      <td>-0.614963</td>\n",
       "      <td>-1.802678</td>\n",
       "      <td>-2.034796</td>\n",
       "      <td>0.249276</td>\n",
       "      <td>...</td>\n",
       "      <td>-2.759032</td>\n",
       "      <td>-1.187168</td>\n",
       "      <td>0.841624</td>\n",
       "      <td>0.440330</td>\n",
       "      <td>-1.895704</td>\n",
       "      <td>0.108211</td>\n",
       "      <td>-0.852611</td>\n",
       "      <td>-1.844403</td>\n",
       "      <td>-0.651157</td>\n",
       "      <td>0.615728</td>\n",
       "    </tr>\n",
       "    <tr>\n",
       "      <th>8521</th>\n",
       "      <td>-40.921589</td>\n",
       "      <td>2.166</td>\n",
       "      <td>1.207232</td>\n",
       "      <td>-0.003586</td>\n",
       "      <td>-0.849184</td>\n",
       "      <td>-1.719470</td>\n",
       "      <td>-1.139103</td>\n",
       "      <td>0.409807</td>\n",
       "      <td>-1.151683</td>\n",
       "      <td>1.159497</td>\n",
       "      <td>...</td>\n",
       "      <td>-2.286355</td>\n",
       "      <td>-0.526218</td>\n",
       "      <td>1.323232</td>\n",
       "      <td>0.348036</td>\n",
       "      <td>-1.565501</td>\n",
       "      <td>0.204796</td>\n",
       "      <td>0.925847</td>\n",
       "      <td>-0.483519</td>\n",
       "      <td>0.954995</td>\n",
       "      <td>1.918430</td>\n",
       "    </tr>\n",
       "    <tr>\n",
       "      <th>3462</th>\n",
       "      <td>-40.918556</td>\n",
       "      <td>3.628</td>\n",
       "      <td>0.535077</td>\n",
       "      <td>0.004270</td>\n",
       "      <td>1.033820</td>\n",
       "      <td>-1.106235</td>\n",
       "      <td>2.219809</td>\n",
       "      <td>2.382743</td>\n",
       "      <td>-1.461089</td>\n",
       "      <td>-2.001740</td>\n",
       "      <td>...</td>\n",
       "      <td>-2.455951</td>\n",
       "      <td>-2.420207</td>\n",
       "      <td>-1.957568</td>\n",
       "      <td>-0.752871</td>\n",
       "      <td>-1.141641</td>\n",
       "      <td>-1.326401</td>\n",
       "      <td>-1.426136</td>\n",
       "      <td>-0.906557</td>\n",
       "      <td>-1.499363</td>\n",
       "      <td>0.527811</td>\n",
       "    </tr>\n",
       "    <tr>\n",
       "      <th>3658</th>\n",
       "      <td>-40.916691</td>\n",
       "      <td>2.240</td>\n",
       "      <td>0.356129</td>\n",
       "      <td>-0.609553</td>\n",
       "      <td>-1.341775</td>\n",
       "      <td>-1.795093</td>\n",
       "      <td>1.901900</td>\n",
       "      <td>1.281754</td>\n",
       "      <td>-0.281272</td>\n",
       "      <td>-0.181569</td>\n",
       "      <td>...</td>\n",
       "      <td>1.392202</td>\n",
       "      <td>-0.751304</td>\n",
       "      <td>-0.728417</td>\n",
       "      <td>0.457485</td>\n",
       "      <td>0.551063</td>\n",
       "      <td>0.186941</td>\n",
       "      <td>1.463047</td>\n",
       "      <td>-0.901022</td>\n",
       "      <td>0.591173</td>\n",
       "      <td>1.825736</td>\n",
       "    </tr>\n",
       "  </tbody>\n",
       "</table>\n",
       "<p>6 rows × 59 columns</p>\n",
       "</div>"
      ],
      "text/plain": [
       "      Properties_Energy  Properties_Dipole     S_0_x     S_0_y     S_0_z  \\\n",
       "6323         -40.924539              1.578 -0.732561 -1.107435  0.748407   \n",
       "2356         -40.921741              2.756 -0.633089 -0.097471  0.626388   \n",
       "390          -40.918934              2.305  1.314052  0.779687  0.822241   \n",
       "8521         -40.921589              2.166  1.207232 -0.003586 -0.849184   \n",
       "3462         -40.918556              3.628  0.535077  0.004270  1.033820   \n",
       "3658         -40.916691              2.240  0.356129 -0.609553 -1.341775   \n",
       "\n",
       "         O_1_x     O_1_y     O_1_z     O_2_x     O_2_y    ...       H_15_z  \\\n",
       "6323  0.970614  1.545924 -1.180141  1.266253 -0.908754    ...    -0.970411   \n",
       "2356  1.982748 -2.339769 -0.621845  1.115037 -0.333702    ...     0.140270   \n",
       "390   1.106020 -0.614963 -1.802678 -2.034796  0.249276    ...    -2.759032   \n",
       "8521 -1.719470 -1.139103  0.409807 -1.151683  1.159497    ...    -2.286355   \n",
       "3462 -1.106235  2.219809  2.382743 -1.461089 -2.001740    ...    -2.455951   \n",
       "3658 -1.795093  1.901900  1.281754 -0.281272 -0.181569    ...     1.392202   \n",
       "\n",
       "        H_16_x    H_16_y    H_16_z    H_17_x    H_17_y    H_17_z    H_18_x  \\\n",
       "6323  1.175595  0.571748 -1.504437  1.202003 -1.223032 -0.734016  0.443668   \n",
       "2356  1.556772  0.407602 -1.658289  1.557595 -1.148960 -1.804169 -0.104917   \n",
       "390  -1.187168  0.841624  0.440330 -1.895704  0.108211 -0.852611 -1.844403   \n",
       "8521 -0.526218  1.323232  0.348036 -1.565501  0.204796  0.925847 -0.483519   \n",
       "3462 -2.420207 -1.957568 -0.752871 -1.141641 -1.326401 -1.426136 -0.906557   \n",
       "3658 -0.751304 -0.728417  0.457485  0.551063  0.186941  1.463047 -0.901022   \n",
       "\n",
       "        H_18_y    H_18_z  \n",
       "6323 -1.215908 -2.068929  \n",
       "2356 -0.385642 -1.472659  \n",
       "390  -0.651157  0.615728  \n",
       "8521  0.954995  1.918430  \n",
       "3462 -1.499363  0.527811  \n",
       "3658  0.591173  1.825736  \n",
       "\n",
       "[6 rows x 59 columns]"
      ]
     },
     "execution_count": 20,
     "metadata": {},
     "output_type": "execute_result"
    }
   ],
   "source": [
    "clusters_df.sample(6)"
   ]
  },
  {
   "cell_type": "markdown",
   "metadata": {},
   "source": [
    "## Data exploration"
   ]
  },
  {
   "cell_type": "code",
   "execution_count": 9,
   "metadata": {},
   "outputs": [
    {
     "data": {
      "text/plain": [
       "<matplotlib.axes._subplots.AxesSubplot at 0x1a203d20f0>"
      ]
     },
     "execution_count": 9,
     "metadata": {},
     "output_type": "execute_result"
    },
    {
     "data": {
      "image/png": "[encoded data removed]",
      "text/plain": [
       "<Figure size 792x648 with 2 Axes>"
      ]
     },
     "metadata": {},
     "output_type": "display_data"
    }
   ],
   "source": [
    "import seaborn as sns\n",
    "import matplotlib.pyplot as plt\n",
    "\n",
    "sns.set(style=\"white\")\n",
    "\n",
    "# Compute the correlation matrix\n",
    "corr = clusters_df.corr()\n",
    "\n",
    "# Generate a mask for the upper triangle\n",
    "mask = np.zeros_like(corr, dtype=np.bool)\n",
    "mask[np.triu_indices_from(mask)] = True\n",
    "\n",
    "# Set up the matplotlib figure\n",
    "f, ax = plt.subplots(figsize=(11, 9))\n",
    "\n",
    "# Generate a custom diverging colormap\n",
    "cmap = sns.diverging_palette(220, 10, as_cmap=True)\n",
    "\n",
    "# Draw the heatmap with the mask and correct aspect ratio\n",
    "sns.heatmap(corr, mask=mask, cmap=cmap, vmax=.3, center=0,\n",
    "            square=True, linewidths=.5, cbar_kws={\"shrink\": .5})"
   ]
  },
  {
   "cell_type": "code",
   "execution_count": 22,
   "metadata": {},
   "outputs": [
    {
     "name": "stderr",
     "output_type": "stream",
     "text": [
      "/anaconda3/lib/python3.7/site-packages/scipy/stats/stats.py:1713: FutureWarning: Using a non-tuple sequence for multidimensional indexing is deprecated; use `arr[tuple(seq)]` instead of `arr[seq]`. In the future this will be interpreted as an array index, `arr[np.array(seq)]`, which will result either in an error or a different result.\n",
      "  return np.add.reduce(sorted[indexer] * weights, axis=axis) / sumval\n"
     ]
    },
    {
     "data": {
      "text/plain": [
       "<seaborn.axisgrid.PairGrid at 0x1a231df198>"
      ]
     },
     "execution_count": 22,
     "metadata": {},
     "output_type": "execute_result"
    },
    {
     "data": {
      "image/png": "[encoded data removed]",
      "text/plain": [
       "<Figure size 360x360 with 6 Axes>"
      ]
     },
     "metadata": {},
     "output_type": "display_data"
    }
   ],
   "source": [
    "sns.set(style=\"ticks\", color_codes=True)\n",
    "sns.pairplot(clusters_df,  kind=\"reg\",vars=['Properties_Energy','Properties_Dipole'])"
   ]
  },
  {
   "cell_type": "code",
   "execution_count": 23,
   "metadata": {},
   "outputs": [
    {
     "data": {
      "image/png": "[encoded data removed]",
      "text/plain": [
       "<Figure size 432x288 with 1 Axes>"
      ]
     },
     "metadata": {},
     "output_type": "display_data"
    },
    {
     "data": {
      "image/png": "[encoded data removed]",
      "text/plain": [
       "<Figure size 360x360 with 1 Axes>"
      ]
     },
     "metadata": {},
     "output_type": "display_data"
    }
   ],
   "source": [
    "clusters_df['Properties_Energy'].hist()\n",
    "plt.title(\"Energy\")\n",
    "plt.axvline(np.mean(clusters_df['Properties_Energy']), color='k', linestyle='dashed', linewidth=2)\n",
    "\n",
    "sns.catplot( y=\"Properties_Energy\", kind=\"box\", data=clusters_df)\n",
    "plt.show()"
   ]
  },
  {
   "cell_type": "markdown",
   "metadata": {},
   "source": [
    "## Linear regression\n",
    "We can implemente a linear regression model to predict the energy (y)of our cluster wrt to the coordinates variable (X).\n"
   ]
  },
  {
   "cell_type": "code",
   "execution_count": 24,
   "metadata": {},
   "outputs": [
    {
     "data": {
      "text/html": [
       "<div>\n",
       "<style scoped>\n",
       "    .dataframe tbody tr th:only-of-type {\n",
       "        vertical-align: middle;\n",
       "    }\n",
       "\n",
       "    .dataframe tbody tr th {\n",
       "        vertical-align: top;\n",
       "    }\n",
       "\n",
       "    .dataframe thead th {\n",
       "        text-align: right;\n",
       "    }\n",
       "</style>\n",
       "<table border=\"1\" class=\"dataframe\">\n",
       "  <thead>\n",
       "    <tr style=\"text-align: right;\">\n",
       "      <th></th>\n",
       "      <th>Properties_Energy</th>\n",
       "      <th>Properties_Dipole</th>\n",
       "      <th>S_0_x</th>\n",
       "      <th>S_0_y</th>\n",
       "      <th>S_0_z</th>\n",
       "      <th>O_1_x</th>\n",
       "      <th>O_1_y</th>\n",
       "      <th>O_1_z</th>\n",
       "      <th>O_2_x</th>\n",
       "      <th>O_2_y</th>\n",
       "      <th>...</th>\n",
       "      <th>H_15_z</th>\n",
       "      <th>H_16_x</th>\n",
       "      <th>H_16_y</th>\n",
       "      <th>H_16_z</th>\n",
       "      <th>H_17_x</th>\n",
       "      <th>H_17_y</th>\n",
       "      <th>H_17_z</th>\n",
       "      <th>H_18_x</th>\n",
       "      <th>H_18_y</th>\n",
       "      <th>H_18_z</th>\n",
       "    </tr>\n",
       "  </thead>\n",
       "  <tbody>\n",
       "    <tr>\n",
       "      <th>0</th>\n",
       "      <td>-40.917924</td>\n",
       "      <td>2.402</td>\n",
       "      <td>0.141169</td>\n",
       "      <td>0.586462</td>\n",
       "      <td>-1.579178</td>\n",
       "      <td>1.571959</td>\n",
       "      <td>0.634674</td>\n",
       "      <td>1.587390</td>\n",
       "      <td>-0.496376</td>\n",
       "      <td>-0.793090</td>\n",
       "      <td>...</td>\n",
       "      <td>-0.603801</td>\n",
       "      <td>0.369601</td>\n",
       "      <td>-0.238477</td>\n",
       "      <td>1.922843</td>\n",
       "      <td>-1.215370</td>\n",
       "      <td>-0.160903</td>\n",
       "      <td>1.456282</td>\n",
       "      <td>-0.303001</td>\n",
       "      <td>-1.543416</td>\n",
       "      <td>1.207911</td>\n",
       "    </tr>\n",
       "    <tr>\n",
       "      <th>1</th>\n",
       "      <td>-40.916876</td>\n",
       "      <td>2.607</td>\n",
       "      <td>0.532400</td>\n",
       "      <td>0.529017</td>\n",
       "      <td>-1.645222</td>\n",
       "      <td>1.375753</td>\n",
       "      <td>0.925034</td>\n",
       "      <td>1.661882</td>\n",
       "      <td>-0.636579</td>\n",
       "      <td>-0.551587</td>\n",
       "      <td>...</td>\n",
       "      <td>-0.590325</td>\n",
       "      <td>0.204524</td>\n",
       "      <td>0.070750</td>\n",
       "      <td>1.907475</td>\n",
       "      <td>-1.381973</td>\n",
       "      <td>-0.021312</td>\n",
       "      <td>1.431595</td>\n",
       "      <td>-0.402779</td>\n",
       "      <td>-1.345929</td>\n",
       "      <td>1.296041</td>\n",
       "    </tr>\n",
       "    <tr>\n",
       "      <th>2</th>\n",
       "      <td>-40.917924</td>\n",
       "      <td>2.399</td>\n",
       "      <td>0.411648</td>\n",
       "      <td>0.774200</td>\n",
       "      <td>-1.445017</td>\n",
       "      <td>1.090589</td>\n",
       "      <td>1.193316</td>\n",
       "      <td>1.564453</td>\n",
       "      <td>-0.541489</td>\n",
       "      <td>-0.670648</td>\n",
       "      <td>...</td>\n",
       "      <td>0.501951</td>\n",
       "      <td>0.124739</td>\n",
       "      <td>0.152353</td>\n",
       "      <td>1.893355</td>\n",
       "      <td>-1.373890</td>\n",
       "      <td>-0.388308</td>\n",
       "      <td>1.376759</td>\n",
       "      <td>-0.095197</td>\n",
       "      <td>-1.404396</td>\n",
       "      <td>1.380670</td>\n",
       "    </tr>\n",
       "    <tr>\n",
       "      <th>3</th>\n",
       "      <td>-40.918934</td>\n",
       "      <td>2.307</td>\n",
       "      <td>1.126023</td>\n",
       "      <td>-0.412876</td>\n",
       "      <td>-1.253473</td>\n",
       "      <td>-0.426702</td>\n",
       "      <td>2.059957</td>\n",
       "      <td>-0.655682</td>\n",
       "      <td>-0.251529</td>\n",
       "      <td>-0.760866</td>\n",
       "      <td>...</td>\n",
       "      <td>-0.513367</td>\n",
       "      <td>-0.412030</td>\n",
       "      <td>0.254635</td>\n",
       "      <td>2.023950</td>\n",
       "      <td>-1.049674</td>\n",
       "      <td>-1.119570</td>\n",
       "      <td>1.360355</td>\n",
       "      <td>0.546613</td>\n",
       "      <td>-0.786457</td>\n",
       "      <td>1.181696</td>\n",
       "    </tr>\n",
       "    <tr>\n",
       "      <th>4</th>\n",
       "      <td>-40.918934</td>\n",
       "      <td>2.307</td>\n",
       "      <td>0.417969</td>\n",
       "      <td>-0.742542</td>\n",
       "      <td>1.511013</td>\n",
       "      <td>0.781689</td>\n",
       "      <td>1.806020</td>\n",
       "      <td>-1.803510</td>\n",
       "      <td>0.223932</td>\n",
       "      <td>-0.656572</td>\n",
       "      <td>...</td>\n",
       "      <td>1.322415</td>\n",
       "      <td>-0.780911</td>\n",
       "      <td>-0.732297</td>\n",
       "      <td>-1.749327</td>\n",
       "      <td>0.439209</td>\n",
       "      <td>0.354772</td>\n",
       "      <td>-2.003723</td>\n",
       "      <td>0.665441</td>\n",
       "      <td>-0.931049</td>\n",
       "      <td>-1.000398</td>\n",
       "    </tr>\n",
       "  </tbody>\n",
       "</table>\n",
       "<p>5 rows × 59 columns</p>\n",
       "</div>"
      ],
      "text/plain": [
       "   Properties_Energy  Properties_Dipole     S_0_x     S_0_y     S_0_z  \\\n",
       "0         -40.917924              2.402  0.141169  0.586462 -1.579178   \n",
       "1         -40.916876              2.607  0.532400  0.529017 -1.645222   \n",
       "2         -40.917924              2.399  0.411648  0.774200 -1.445017   \n",
       "3         -40.918934              2.307  1.126023 -0.412876 -1.253473   \n",
       "4         -40.918934              2.307  0.417969 -0.742542  1.511013   \n",
       "\n",
       "      O_1_x     O_1_y     O_1_z     O_2_x     O_2_y    ...       H_15_z  \\\n",
       "0  1.571959  0.634674  1.587390 -0.496376 -0.793090    ...    -0.603801   \n",
       "1  1.375753  0.925034  1.661882 -0.636579 -0.551587    ...    -0.590325   \n",
       "2  1.090589  1.193316  1.564453 -0.541489 -0.670648    ...     0.501951   \n",
       "3 -0.426702  2.059957 -0.655682 -0.251529 -0.760866    ...    -0.513367   \n",
       "4  0.781689  1.806020 -1.803510  0.223932 -0.656572    ...     1.322415   \n",
       "\n",
       "     H_16_x    H_16_y    H_16_z    H_17_x    H_17_y    H_17_z    H_18_x  \\\n",
       "0  0.369601 -0.238477  1.922843 -1.215370 -0.160903  1.456282 -0.303001   \n",
       "1  0.204524  0.070750  1.907475 -1.381973 -0.021312  1.431595 -0.402779   \n",
       "2  0.124739  0.152353  1.893355 -1.373890 -0.388308  1.376759 -0.095197   \n",
       "3 -0.412030  0.254635  2.023950 -1.049674 -1.119570  1.360355  0.546613   \n",
       "4 -0.780911 -0.732297 -1.749327  0.439209  0.354772 -2.003723  0.665441   \n",
       "\n",
       "     H_18_y    H_18_z  \n",
       "0 -1.543416  1.207911  \n",
       "1 -1.345929  1.296041  \n",
       "2 -1.404396  1.380670  \n",
       "3 -0.786457  1.181696  \n",
       "4 -0.931049 -1.000398  \n",
       "\n",
       "[5 rows x 59 columns]"
      ]
     },
     "execution_count": 24,
     "metadata": {},
     "output_type": "execute_result"
    }
   ],
   "source": [
    "clusters_df.loc[range(5),:]"
   ]
  },
  {
   "cell_type": "code",
   "execution_count": 25,
   "metadata": {},
   "outputs": [],
   "source": [
    "energy=clusters_df['Properties_Energy']\n",
    "coord=clusters_df.drop(['Properties_Energy','Properties_Dipole'],1) #dipole? in or out?"
   ]
  },
  {
   "cell_type": "code",
   "execution_count": 26,
   "metadata": {},
   "outputs": [],
   "source": [
    "#divide the dataset in train and test\n",
    "from sklearn.model_selection import train_test_split\n",
    "x_train,x_test,y_train,y_test = train_test_split(coord,energy,test_size=0.20)"
   ]
  },
  {
   "cell_type": "code",
   "execution_count": 27,
   "metadata": {},
   "outputs": [
    {
     "data": {
      "text/plain": [
       "LinearRegression(copy_X=True, fit_intercept=True, n_jobs=None,\n",
       "         normalize=False)"
      ]
     },
     "execution_count": 27,
     "metadata": {},
     "output_type": "execute_result"
    }
   ],
   "source": [
    "#linear regression model on train set\n",
    "from sklearn.linear_model import LinearRegression\n",
    "\n",
    "model = LinearRegression()\n",
    "model.fit(x_train, y_train)"
   ]
  },
  {
   "cell_type": "code",
   "execution_count": 32,
   "metadata": {},
   "outputs": [
    {
     "data": {
      "text/plain": [
       "0.01086304350939371"
      ]
     },
     "execution_count": 32,
     "metadata": {},
     "output_type": "execute_result"
    }
   ],
   "source": [
    "model.coef_\n",
    "r_sq = model.score(x_train, y_train)\n",
    "r_sq #all variance of data is explained by the dataset, more features than obs "
   ]
  },
  {
   "cell_type": "code",
   "execution_count": 33,
   "metadata": {},
   "outputs": [
    {
     "data": {
      "text/html": [
       "<div>\n",
       "<style scoped>\n",
       "    .dataframe tbody tr th:only-of-type {\n",
       "        vertical-align: middle;\n",
       "    }\n",
       "\n",
       "    .dataframe tbody tr th {\n",
       "        vertical-align: top;\n",
       "    }\n",
       "\n",
       "    .dataframe thead th {\n",
       "        text-align: right;\n",
       "    }\n",
       "</style>\n",
       "<table border=\"1\" class=\"dataframe\">\n",
       "  <thead>\n",
       "    <tr style=\"text-align: right;\">\n",
       "      <th></th>\n",
       "      <th>Actual</th>\n",
       "      <th>Predicted</th>\n",
       "    </tr>\n",
       "  </thead>\n",
       "  <tbody>\n",
       "    <tr>\n",
       "      <th>0</th>\n",
       "      <td>-40.920218</td>\n",
       "      <td>-40.918650</td>\n",
       "    </tr>\n",
       "    <tr>\n",
       "      <th>1</th>\n",
       "      <td>-40.923437</td>\n",
       "      <td>-40.918203</td>\n",
       "    </tr>\n",
       "    <tr>\n",
       "      <th>2</th>\n",
       "      <td>-40.922469</td>\n",
       "      <td>-40.918449</td>\n",
       "    </tr>\n",
       "    <tr>\n",
       "      <th>3</th>\n",
       "      <td>-40.916384</td>\n",
       "      <td>-40.918419</td>\n",
       "    </tr>\n",
       "    <tr>\n",
       "      <th>4</th>\n",
       "      <td>-40.921398</td>\n",
       "      <td>-40.918073</td>\n",
       "    </tr>\n",
       "    <tr>\n",
       "      <th>5</th>\n",
       "      <td>-40.917924</td>\n",
       "      <td>-40.918048</td>\n",
       "    </tr>\n",
       "    <tr>\n",
       "      <th>6</th>\n",
       "      <td>-40.918934</td>\n",
       "      <td>-40.918499</td>\n",
       "    </tr>\n",
       "    <tr>\n",
       "      <th>7</th>\n",
       "      <td>-40.918934</td>\n",
       "      <td>-40.917785</td>\n",
       "    </tr>\n",
       "    <tr>\n",
       "      <th>8</th>\n",
       "      <td>-40.921136</td>\n",
       "      <td>-40.918887</td>\n",
       "    </tr>\n",
       "    <tr>\n",
       "      <th>9</th>\n",
       "      <td>-40.918556</td>\n",
       "      <td>-40.918285</td>\n",
       "    </tr>\n",
       "    <tr>\n",
       "      <th>10</th>\n",
       "      <td>-40.921354</td>\n",
       "      <td>-40.918451</td>\n",
       "    </tr>\n",
       "    <tr>\n",
       "      <th>11</th>\n",
       "      <td>-40.919661</td>\n",
       "      <td>-40.918553</td>\n",
       "    </tr>\n",
       "    <tr>\n",
       "      <th>12</th>\n",
       "      <td>-40.923437</td>\n",
       "      <td>-40.918390</td>\n",
       "    </tr>\n",
       "    <tr>\n",
       "      <th>13</th>\n",
       "      <td>-40.922677</td>\n",
       "      <td>-40.918448</td>\n",
       "    </tr>\n",
       "    <tr>\n",
       "      <th>14</th>\n",
       "      <td>-40.919719</td>\n",
       "      <td>-40.917897</td>\n",
       "    </tr>\n",
       "    <tr>\n",
       "      <th>15</th>\n",
       "      <td>-40.917932</td>\n",
       "      <td>-40.918349</td>\n",
       "    </tr>\n",
       "    <tr>\n",
       "      <th>16</th>\n",
       "      <td>-40.914400</td>\n",
       "      <td>-40.918229</td>\n",
       "    </tr>\n",
       "    <tr>\n",
       "      <th>17</th>\n",
       "      <td>-40.922190</td>\n",
       "      <td>-40.918198</td>\n",
       "    </tr>\n",
       "    <tr>\n",
       "      <th>18</th>\n",
       "      <td>-40.921364</td>\n",
       "      <td>-40.918629</td>\n",
       "    </tr>\n",
       "    <tr>\n",
       "      <th>19</th>\n",
       "      <td>-40.912457</td>\n",
       "      <td>-40.918564</td>\n",
       "    </tr>\n",
       "    <tr>\n",
       "      <th>20</th>\n",
       "      <td>-40.923436</td>\n",
       "      <td>-40.918431</td>\n",
       "    </tr>\n",
       "    <tr>\n",
       "      <th>21</th>\n",
       "      <td>-40.914150</td>\n",
       "      <td>-40.918493</td>\n",
       "    </tr>\n",
       "    <tr>\n",
       "      <th>22</th>\n",
       "      <td>-40.921206</td>\n",
       "      <td>-40.918358</td>\n",
       "    </tr>\n",
       "    <tr>\n",
       "      <th>23</th>\n",
       "      <td>-40.913924</td>\n",
       "      <td>-40.918350</td>\n",
       "    </tr>\n",
       "    <tr>\n",
       "      <th>24</th>\n",
       "      <td>-40.920453</td>\n",
       "      <td>-40.918481</td>\n",
       "    </tr>\n",
       "    <tr>\n",
       "      <th>25</th>\n",
       "      <td>-40.917395</td>\n",
       "      <td>-40.918951</td>\n",
       "    </tr>\n",
       "    <tr>\n",
       "      <th>26</th>\n",
       "      <td>-40.921354</td>\n",
       "      <td>-40.918682</td>\n",
       "    </tr>\n",
       "    <tr>\n",
       "      <th>27</th>\n",
       "      <td>-40.921364</td>\n",
       "      <td>-40.918268</td>\n",
       "    </tr>\n",
       "    <tr>\n",
       "      <th>28</th>\n",
       "      <td>-40.913986</td>\n",
       "      <td>-40.918352</td>\n",
       "    </tr>\n",
       "    <tr>\n",
       "      <th>29</th>\n",
       "      <td>-40.921794</td>\n",
       "      <td>-40.918932</td>\n",
       "    </tr>\n",
       "    <tr>\n",
       "      <th>...</th>\n",
       "      <td>...</td>\n",
       "      <td>...</td>\n",
       "    </tr>\n",
       "    <tr>\n",
       "      <th>1970</th>\n",
       "      <td>-40.912740</td>\n",
       "      <td>-40.918523</td>\n",
       "    </tr>\n",
       "    <tr>\n",
       "      <th>1971</th>\n",
       "      <td>-40.921364</td>\n",
       "      <td>-40.918688</td>\n",
       "    </tr>\n",
       "    <tr>\n",
       "      <th>1972</th>\n",
       "      <td>-40.920791</td>\n",
       "      <td>-40.918213</td>\n",
       "    </tr>\n",
       "    <tr>\n",
       "      <th>1973</th>\n",
       "      <td>-40.910038</td>\n",
       "      <td>-40.917431</td>\n",
       "    </tr>\n",
       "    <tr>\n",
       "      <th>1974</th>\n",
       "      <td>-40.921364</td>\n",
       "      <td>-40.918126</td>\n",
       "    </tr>\n",
       "    <tr>\n",
       "      <th>1975</th>\n",
       "      <td>-40.922189</td>\n",
       "      <td>-40.918358</td>\n",
       "    </tr>\n",
       "    <tr>\n",
       "      <th>1976</th>\n",
       "      <td>-40.918926</td>\n",
       "      <td>-40.918683</td>\n",
       "    </tr>\n",
       "    <tr>\n",
       "      <th>1977</th>\n",
       "      <td>-40.917924</td>\n",
       "      <td>-40.917913</td>\n",
       "    </tr>\n",
       "    <tr>\n",
       "      <th>1978</th>\n",
       "      <td>-40.920446</td>\n",
       "      <td>-40.918418</td>\n",
       "    </tr>\n",
       "    <tr>\n",
       "      <th>1979</th>\n",
       "      <td>-40.922677</td>\n",
       "      <td>-40.918629</td>\n",
       "    </tr>\n",
       "    <tr>\n",
       "      <th>1980</th>\n",
       "      <td>-40.921794</td>\n",
       "      <td>-40.918417</td>\n",
       "    </tr>\n",
       "    <tr>\n",
       "      <th>1981</th>\n",
       "      <td>-40.923437</td>\n",
       "      <td>-40.918279</td>\n",
       "    </tr>\n",
       "    <tr>\n",
       "      <th>1982</th>\n",
       "      <td>-40.920791</td>\n",
       "      <td>-40.918415</td>\n",
       "    </tr>\n",
       "    <tr>\n",
       "      <th>1983</th>\n",
       "      <td>-40.920111</td>\n",
       "      <td>-40.918305</td>\n",
       "    </tr>\n",
       "    <tr>\n",
       "      <th>1984</th>\n",
       "      <td>-40.922190</td>\n",
       "      <td>-40.917998</td>\n",
       "    </tr>\n",
       "    <tr>\n",
       "      <th>1985</th>\n",
       "      <td>-40.912958</td>\n",
       "      <td>-40.918967</td>\n",
       "    </tr>\n",
       "    <tr>\n",
       "      <th>1986</th>\n",
       "      <td>-40.922469</td>\n",
       "      <td>-40.918702</td>\n",
       "    </tr>\n",
       "    <tr>\n",
       "      <th>1987</th>\n",
       "      <td>-40.917931</td>\n",
       "      <td>-40.917933</td>\n",
       "    </tr>\n",
       "    <tr>\n",
       "      <th>1988</th>\n",
       "      <td>-40.917547</td>\n",
       "      <td>-40.918177</td>\n",
       "    </tr>\n",
       "    <tr>\n",
       "      <th>1989</th>\n",
       "      <td>-40.911207</td>\n",
       "      <td>-40.918781</td>\n",
       "    </tr>\n",
       "    <tr>\n",
       "      <th>1990</th>\n",
       "      <td>-40.919902</td>\n",
       "      <td>-40.918612</td>\n",
       "    </tr>\n",
       "    <tr>\n",
       "      <th>1991</th>\n",
       "      <td>-40.920453</td>\n",
       "      <td>-40.918354</td>\n",
       "    </tr>\n",
       "    <tr>\n",
       "      <th>1992</th>\n",
       "      <td>-40.910697</td>\n",
       "      <td>-40.917891</td>\n",
       "    </tr>\n",
       "    <tr>\n",
       "      <th>1993</th>\n",
       "      <td>-40.903308</td>\n",
       "      <td>-40.917700</td>\n",
       "    </tr>\n",
       "    <tr>\n",
       "      <th>1994</th>\n",
       "      <td>-40.921616</td>\n",
       "      <td>-40.918552</td>\n",
       "    </tr>\n",
       "    <tr>\n",
       "      <th>1995</th>\n",
       "      <td>-40.920714</td>\n",
       "      <td>-40.918190</td>\n",
       "    </tr>\n",
       "    <tr>\n",
       "      <th>1996</th>\n",
       "      <td>-40.922173</td>\n",
       "      <td>-40.918244</td>\n",
       "    </tr>\n",
       "    <tr>\n",
       "      <th>1997</th>\n",
       "      <td>-40.912856</td>\n",
       "      <td>-40.917903</td>\n",
       "    </tr>\n",
       "    <tr>\n",
       "      <th>1998</th>\n",
       "      <td>-40.922211</td>\n",
       "      <td>-40.917750</td>\n",
       "    </tr>\n",
       "    <tr>\n",
       "      <th>1999</th>\n",
       "      <td>-40.921615</td>\n",
       "      <td>-40.919173</td>\n",
       "    </tr>\n",
       "  </tbody>\n",
       "</table>\n",
       "<p>2000 rows × 2 columns</p>\n",
       "</div>"
      ],
      "text/plain": [
       "         Actual  Predicted\n",
       "0    -40.920218 -40.918650\n",
       "1    -40.923437 -40.918203\n",
       "2    -40.922469 -40.918449\n",
       "3    -40.916384 -40.918419\n",
       "4    -40.921398 -40.918073\n",
       "5    -40.917924 -40.918048\n",
       "6    -40.918934 -40.918499\n",
       "7    -40.918934 -40.917785\n",
       "8    -40.921136 -40.918887\n",
       "9    -40.918556 -40.918285\n",
       "10   -40.921354 -40.918451\n",
       "11   -40.919661 -40.918553\n",
       "12   -40.923437 -40.918390\n",
       "13   -40.922677 -40.918448\n",
       "14   -40.919719 -40.917897\n",
       "15   -40.917932 -40.918349\n",
       "16   -40.914400 -40.918229\n",
       "17   -40.922190 -40.918198\n",
       "18   -40.921364 -40.918629\n",
       "19   -40.912457 -40.918564\n",
       "20   -40.923436 -40.918431\n",
       "21   -40.914150 -40.918493\n",
       "22   -40.921206 -40.918358\n",
       "23   -40.913924 -40.918350\n",
       "24   -40.920453 -40.918481\n",
       "25   -40.917395 -40.918951\n",
       "26   -40.921354 -40.918682\n",
       "27   -40.921364 -40.918268\n",
       "28   -40.913986 -40.918352\n",
       "29   -40.921794 -40.918932\n",
       "...         ...        ...\n",
       "1970 -40.912740 -40.918523\n",
       "1971 -40.921364 -40.918688\n",
       "1972 -40.920791 -40.918213\n",
       "1973 -40.910038 -40.917431\n",
       "1974 -40.921364 -40.918126\n",
       "1975 -40.922189 -40.918358\n",
       "1976 -40.918926 -40.918683\n",
       "1977 -40.917924 -40.917913\n",
       "1978 -40.920446 -40.918418\n",
       "1979 -40.922677 -40.918629\n",
       "1980 -40.921794 -40.918417\n",
       "1981 -40.923437 -40.918279\n",
       "1982 -40.920791 -40.918415\n",
       "1983 -40.920111 -40.918305\n",
       "1984 -40.922190 -40.917998\n",
       "1985 -40.912958 -40.918967\n",
       "1986 -40.922469 -40.918702\n",
       "1987 -40.917931 -40.917933\n",
       "1988 -40.917547 -40.918177\n",
       "1989 -40.911207 -40.918781\n",
       "1990 -40.919902 -40.918612\n",
       "1991 -40.920453 -40.918354\n",
       "1992 -40.910697 -40.917891\n",
       "1993 -40.903308 -40.917700\n",
       "1994 -40.921616 -40.918552\n",
       "1995 -40.920714 -40.918190\n",
       "1996 -40.922173 -40.918244\n",
       "1997 -40.912856 -40.917903\n",
       "1998 -40.922211 -40.917750\n",
       "1999 -40.921615 -40.919173\n",
       "\n",
       "[2000 rows x 2 columns]"
      ]
     },
     "execution_count": 33,
     "metadata": {},
     "output_type": "execute_result"
    }
   ],
   "source": [
    "#predict from the test\n",
    "y_pred = model.predict(x_test)\n",
    "pred_test = pd.DataFrame({'Actual': y_test.values.flatten(), 'Predicted': y_pred.flatten()})\n",
    "pred_test\n",
    "#it works too well, since we have more variables than observations"
   ]
  },
  {
   "cell_type": "code",
   "execution_count": 34,
   "metadata": {},
   "outputs": [
    {
     "name": "stdout",
     "output_type": "stream",
     "text": [
      "[False False False False False False False False False False False False\n",
      " False False False False False False False False False False False False\n",
      " False False False False False False False False False False False False\n",
      " False False False False False False False False False False False False\n",
      " False False False False  True  True  True  True  True]\n",
      "[53 52 51 50 49 48 47 46 45 44 43 42 41 40 39 38 37 36 35 34 33 32 31 30\n",
      " 29 28 27 26 25 24 23 22 21 20 19 18 17 16 15 14 13 12 11 10  9  8  7  6\n",
      "  5  4  3  2  1  1  1  1  1]\n"
     ]
    }
   ],
   "source": [
    "#feature selection alternative\n",
    "#https://scikit-learn.org/stable/modules/generated/sklearn.feature_selection.RFE.html\n",
    "from sklearn.feature_selection import RFE\n",
    "from sklearn.svm import SVR\n",
    "\n",
    "estimator = SVR(kernel=\"linear\")\n",
    "selector = RFE(estimator, 5, step=1)\n",
    "selector = selector.fit(x_train, y_train)\n",
    "print(selector.support_) \n",
    "print(selector.ranking_)\n"
   ]
  },
  {
   "cell_type": "code",
   "execution_count": 37,
   "metadata": {},
   "outputs": [
    {
     "ename": "KeyError",
     "evalue": "\"None of [('O 1_y', 'O 8_x')] are in the [columns]\"",
     "output_type": "error",
     "traceback": [
      "\u001b[0;31m---------------------------------------------------------------------------\u001b[0m",
      "\u001b[0;31mKeyError\u001b[0m                                  Traceback (most recent call last)",
      "\u001b[0;32m<ipython-input-37-9db76e246468>\u001b[0m in \u001b[0;36m<module>\u001b[0;34m\u001b[0m\n\u001b[1;32m      1\u001b[0m \u001b[0;31m#oxigen O8 seems the most significant variable in our model\u001b[0m\u001b[0;34m\u001b[0m\u001b[0;34m\u001b[0m\u001b[0;34m\u001b[0m\u001b[0m\n\u001b[0;32m----> 2\u001b[0;31m \u001b[0mmodel1\u001b[0m \u001b[0;34m=\u001b[0m \u001b[0mLinearRegression\u001b[0m\u001b[0;34m(\u001b[0m\u001b[0;34m)\u001b[0m\u001b[0;34m.\u001b[0m\u001b[0mfit\u001b[0m\u001b[0;34m(\u001b[0m\u001b[0mx_train\u001b[0m\u001b[0;34m.\u001b[0m\u001b[0mloc\u001b[0m\u001b[0;34m[\u001b[0m\u001b[0;34m:\u001b[0m\u001b[0;34m,\u001b[0m\u001b[0;34m(\u001b[0m\u001b[0;34m'O 1_y'\u001b[0m\u001b[0;34m,\u001b[0m\u001b[0;34m'O 8_x'\u001b[0m\u001b[0;34m)\u001b[0m\u001b[0;34m]\u001b[0m\u001b[0;34m,\u001b[0m \u001b[0my_train\u001b[0m\u001b[0;34m)\u001b[0m \u001b[0;31m#select the most significant variables...\u001b[0m\u001b[0;34m\u001b[0m\u001b[0;34m\u001b[0m\u001b[0m\n\u001b[0m\u001b[1;32m      3\u001b[0m \u001b[0mprint\u001b[0m\u001b[0;34m(\u001b[0m\u001b[0;34m'R2 simple reg'\u001b[0m\u001b[0;34m,\u001b[0m\u001b[0mmodel1\u001b[0m\u001b[0;34m.\u001b[0m\u001b[0mscore\u001b[0m\u001b[0;34m(\u001b[0m\u001b[0mx_train\u001b[0m\u001b[0;34m.\u001b[0m\u001b[0mloc\u001b[0m\u001b[0;34m[\u001b[0m\u001b[0;34m:\u001b[0m\u001b[0;34m,\u001b[0m\u001b[0;34m(\u001b[0m\u001b[0;34m'O 1_y'\u001b[0m\u001b[0;34m,\u001b[0m\u001b[0;34m'O 8_x'\u001b[0m\u001b[0;34m)\u001b[0m\u001b[0;34m]\u001b[0m\u001b[0;34m,\u001b[0m \u001b[0my_train\u001b[0m\u001b[0;34m)\u001b[0m\u001b[0;34m)\u001b[0m\u001b[0;34m\u001b[0m\u001b[0;34m\u001b[0m\u001b[0m\n",
      "\u001b[0;32m/anaconda3/lib/python3.7/site-packages/pandas/core/indexing.py\u001b[0m in \u001b[0;36m__getitem__\u001b[0;34m(self, key)\u001b[0m\n\u001b[1;32m   1470\u001b[0m             \u001b[0;32mexcept\u001b[0m \u001b[0;34m(\u001b[0m\u001b[0mKeyError\u001b[0m\u001b[0;34m,\u001b[0m \u001b[0mIndexError\u001b[0m\u001b[0;34m)\u001b[0m\u001b[0;34m:\u001b[0m\u001b[0;34m\u001b[0m\u001b[0;34m\u001b[0m\u001b[0m\n\u001b[1;32m   1471\u001b[0m                 \u001b[0;32mpass\u001b[0m\u001b[0;34m\u001b[0m\u001b[0;34m\u001b[0m\u001b[0m\n\u001b[0;32m-> 1472\u001b[0;31m             \u001b[0;32mreturn\u001b[0m \u001b[0mself\u001b[0m\u001b[0;34m.\u001b[0m\u001b[0m_getitem_tuple\u001b[0m\u001b[0;34m(\u001b[0m\u001b[0mkey\u001b[0m\u001b[0;34m)\u001b[0m\u001b[0;34m\u001b[0m\u001b[0;34m\u001b[0m\u001b[0m\n\u001b[0m\u001b[1;32m   1473\u001b[0m         \u001b[0;32melse\u001b[0m\u001b[0;34m:\u001b[0m\u001b[0;34m\u001b[0m\u001b[0;34m\u001b[0m\u001b[0m\n\u001b[1;32m   1474\u001b[0m             \u001b[0;31m# we by definition only have the 0th axis\u001b[0m\u001b[0;34m\u001b[0m\u001b[0;34m\u001b[0m\u001b[0;34m\u001b[0m\u001b[0m\n",
      "\u001b[0;32m/anaconda3/lib/python3.7/site-packages/pandas/core/indexing.py\u001b[0m in \u001b[0;36m_getitem_tuple\u001b[0;34m(self, tup)\u001b[0m\n\u001b[1;32m    868\u001b[0m     \u001b[0;32mdef\u001b[0m \u001b[0m_getitem_tuple\u001b[0m\u001b[0;34m(\u001b[0m\u001b[0mself\u001b[0m\u001b[0;34m,\u001b[0m \u001b[0mtup\u001b[0m\u001b[0;34m)\u001b[0m\u001b[0;34m:\u001b[0m\u001b[0;34m\u001b[0m\u001b[0;34m\u001b[0m\u001b[0m\n\u001b[1;32m    869\u001b[0m         \u001b[0;32mtry\u001b[0m\u001b[0;34m:\u001b[0m\u001b[0;34m\u001b[0m\u001b[0;34m\u001b[0m\u001b[0m\n\u001b[0;32m--> 870\u001b[0;31m             \u001b[0;32mreturn\u001b[0m \u001b[0mself\u001b[0m\u001b[0;34m.\u001b[0m\u001b[0m_getitem_lowerdim\u001b[0m\u001b[0;34m(\u001b[0m\u001b[0mtup\u001b[0m\u001b[0;34m)\u001b[0m\u001b[0;34m\u001b[0m\u001b[0;34m\u001b[0m\u001b[0m\n\u001b[0m\u001b[1;32m    871\u001b[0m         \u001b[0;32mexcept\u001b[0m \u001b[0mIndexingError\u001b[0m\u001b[0;34m:\u001b[0m\u001b[0;34m\u001b[0m\u001b[0;34m\u001b[0m\u001b[0m\n\u001b[1;32m    872\u001b[0m             \u001b[0;32mpass\u001b[0m\u001b[0;34m\u001b[0m\u001b[0;34m\u001b[0m\u001b[0m\n",
      "\u001b[0;32m/anaconda3/lib/python3.7/site-packages/pandas/core/indexing.py\u001b[0m in \u001b[0;36m_getitem_lowerdim\u001b[0;34m(self, tup)\u001b[0m\n\u001b[1;32m    996\u001b[0m         \u001b[0;32mfor\u001b[0m \u001b[0mi\u001b[0m\u001b[0;34m,\u001b[0m \u001b[0mkey\u001b[0m \u001b[0;32min\u001b[0m \u001b[0menumerate\u001b[0m\u001b[0;34m(\u001b[0m\u001b[0mtup\u001b[0m\u001b[0;34m)\u001b[0m\u001b[0;34m:\u001b[0m\u001b[0;34m\u001b[0m\u001b[0;34m\u001b[0m\u001b[0m\n\u001b[1;32m    997\u001b[0m             \u001b[0;32mif\u001b[0m \u001b[0mis_label_like\u001b[0m\u001b[0;34m(\u001b[0m\u001b[0mkey\u001b[0m\u001b[0;34m)\u001b[0m \u001b[0;32mor\u001b[0m \u001b[0misinstance\u001b[0m\u001b[0;34m(\u001b[0m\u001b[0mkey\u001b[0m\u001b[0;34m,\u001b[0m \u001b[0mtuple\u001b[0m\u001b[0;34m)\u001b[0m\u001b[0;34m:\u001b[0m\u001b[0;34m\u001b[0m\u001b[0;34m\u001b[0m\u001b[0m\n\u001b[0;32m--> 998\u001b[0;31m                 \u001b[0msection\u001b[0m \u001b[0;34m=\u001b[0m \u001b[0mself\u001b[0m\u001b[0;34m.\u001b[0m\u001b[0m_getitem_axis\u001b[0m\u001b[0;34m(\u001b[0m\u001b[0mkey\u001b[0m\u001b[0;34m,\u001b[0m \u001b[0maxis\u001b[0m\u001b[0;34m=\u001b[0m\u001b[0mi\u001b[0m\u001b[0;34m)\u001b[0m\u001b[0;34m\u001b[0m\u001b[0;34m\u001b[0m\u001b[0m\n\u001b[0m\u001b[1;32m    999\u001b[0m \u001b[0;34m\u001b[0m\u001b[0m\n\u001b[1;32m   1000\u001b[0m                 \u001b[0;31m# we have yielded a scalar ?\u001b[0m\u001b[0;34m\u001b[0m\u001b[0;34m\u001b[0m\u001b[0;34m\u001b[0m\u001b[0m\n",
      "\u001b[0;32m/anaconda3/lib/python3.7/site-packages/pandas/core/indexing.py\u001b[0m in \u001b[0;36m_getitem_axis\u001b[0;34m(self, key, axis)\u001b[0m\n\u001b[1;32m   1899\u001b[0m                     \u001b[0;32mraise\u001b[0m \u001b[0mValueError\u001b[0m\u001b[0;34m(\u001b[0m\u001b[0;34m'Cannot index with multidimensional key'\u001b[0m\u001b[0;34m)\u001b[0m\u001b[0;34m\u001b[0m\u001b[0;34m\u001b[0m\u001b[0m\n\u001b[1;32m   1900\u001b[0m \u001b[0;34m\u001b[0m\u001b[0m\n\u001b[0;32m-> 1901\u001b[0;31m                 \u001b[0;32mreturn\u001b[0m \u001b[0mself\u001b[0m\u001b[0;34m.\u001b[0m\u001b[0m_getitem_iterable\u001b[0m\u001b[0;34m(\u001b[0m\u001b[0mkey\u001b[0m\u001b[0;34m,\u001b[0m \u001b[0maxis\u001b[0m\u001b[0;34m=\u001b[0m\u001b[0maxis\u001b[0m\u001b[0;34m)\u001b[0m\u001b[0;34m\u001b[0m\u001b[0;34m\u001b[0m\u001b[0m\n\u001b[0m\u001b[1;32m   1902\u001b[0m \u001b[0;34m\u001b[0m\u001b[0m\n\u001b[1;32m   1903\u001b[0m             \u001b[0;31m# nested tuple slicing\u001b[0m\u001b[0;34m\u001b[0m\u001b[0;34m\u001b[0m\u001b[0;34m\u001b[0m\u001b[0m\n",
      "\u001b[0;32m/anaconda3/lib/python3.7/site-packages/pandas/core/indexing.py\u001b[0m in \u001b[0;36m_getitem_iterable\u001b[0;34m(self, key, axis)\u001b[0m\n\u001b[1;32m   1141\u001b[0m             \u001b[0;32mif\u001b[0m \u001b[0mlabels\u001b[0m\u001b[0;34m.\u001b[0m\u001b[0mis_unique\u001b[0m \u001b[0;32mand\u001b[0m \u001b[0mIndex\u001b[0m\u001b[0;34m(\u001b[0m\u001b[0mkeyarr\u001b[0m\u001b[0;34m)\u001b[0m\u001b[0;34m.\u001b[0m\u001b[0mis_unique\u001b[0m\u001b[0;34m:\u001b[0m\u001b[0;34m\u001b[0m\u001b[0;34m\u001b[0m\u001b[0m\n\u001b[1;32m   1142\u001b[0m                 \u001b[0mindexer\u001b[0m \u001b[0;34m=\u001b[0m \u001b[0max\u001b[0m\u001b[0;34m.\u001b[0m\u001b[0mget_indexer_for\u001b[0m\u001b[0;34m(\u001b[0m\u001b[0mkey\u001b[0m\u001b[0;34m)\u001b[0m\u001b[0;34m\u001b[0m\u001b[0;34m\u001b[0m\u001b[0m\n\u001b[0;32m-> 1143\u001b[0;31m                 \u001b[0mself\u001b[0m\u001b[0;34m.\u001b[0m\u001b[0m_validate_read_indexer\u001b[0m\u001b[0;34m(\u001b[0m\u001b[0mkey\u001b[0m\u001b[0;34m,\u001b[0m \u001b[0mindexer\u001b[0m\u001b[0;34m,\u001b[0m \u001b[0maxis\u001b[0m\u001b[0;34m)\u001b[0m\u001b[0;34m\u001b[0m\u001b[0;34m\u001b[0m\u001b[0m\n\u001b[0m\u001b[1;32m   1144\u001b[0m \u001b[0;34m\u001b[0m\u001b[0m\n\u001b[1;32m   1145\u001b[0m                 \u001b[0md\u001b[0m \u001b[0;34m=\u001b[0m \u001b[0;34m{\u001b[0m\u001b[0maxis\u001b[0m\u001b[0;34m:\u001b[0m \u001b[0;34m[\u001b[0m\u001b[0max\u001b[0m\u001b[0;34m.\u001b[0m\u001b[0mreindex\u001b[0m\u001b[0;34m(\u001b[0m\u001b[0mkeyarr\u001b[0m\u001b[0;34m)\u001b[0m\u001b[0;34m[\u001b[0m\u001b[0;36m0\u001b[0m\u001b[0;34m]\u001b[0m\u001b[0;34m,\u001b[0m \u001b[0mindexer\u001b[0m\u001b[0;34m]\u001b[0m\u001b[0;34m}\u001b[0m\u001b[0;34m\u001b[0m\u001b[0;34m\u001b[0m\u001b[0m\n",
      "\u001b[0;32m/anaconda3/lib/python3.7/site-packages/pandas/core/indexing.py\u001b[0m in \u001b[0;36m_validate_read_indexer\u001b[0;34m(self, key, indexer, axis)\u001b[0m\n\u001b[1;32m   1204\u001b[0m                 raise KeyError(\n\u001b[1;32m   1205\u001b[0m                     u\"None of [{key}] are in the [{axis}]\".format(\n\u001b[0;32m-> 1206\u001b[0;31m                         key=key, axis=self.obj._get_axis_name(axis)))\n\u001b[0m\u001b[1;32m   1207\u001b[0m \u001b[0;34m\u001b[0m\u001b[0m\n\u001b[1;32m   1208\u001b[0m             \u001b[0;31m# we skip the warning on Categorical/Interval\u001b[0m\u001b[0;34m\u001b[0m\u001b[0;34m\u001b[0m\u001b[0;34m\u001b[0m\u001b[0m\n",
      "\u001b[0;31mKeyError\u001b[0m: \"None of [('O 1_y', 'O 8_x')] are in the [columns]\""
     ]
    }
   ],
   "source": [
    "#oxigen O8 seems the most significant variable in our model\n",
    "model1 = LinearRegression().fit(x_train.loc[:,('O 1_y','O 8_x')], y_train) #select the most significant variables...\n",
    "print('R2 simple reg',model1.score(x_train.loc[:,('O 1_y','O 8_x')], y_train))"
   ]
  },
  {
   "cell_type": "markdown",
   "metadata": {},
   "source": [
    "## Principal Component Analysis\n",
    "To reduce the dimentionality of our data, we will apply PCA to our coordinates variable, in order to select new variables, that explain at least 80% of the variability of our data."
   ]
  },
  {
   "cell_type": "code",
   "execution_count": 38,
   "metadata": {},
   "outputs": [
    {
     "name": "stdout",
     "output_type": "stream",
     "text": [
      "Explained variance (%) : 0.6429207117477929\n"
     ]
    }
   ],
   "source": [
    "from sklearn.decomposition import PCA\n",
    "pca = PCA(n_components=8)\n",
    "principalComponents = pca.fit_transform(coord)\n",
    "principalDf = pd.DataFrame(data = principalComponents , columns = ['PC1','PC2','PC3','PC4','PC5','PC6','PC7','PC8'])\n",
    "print('Explained variance (%) :', np.sum(pca.explained_variance_ratio_))"
   ]
  },
  {
   "cell_type": "code",
   "execution_count": 39,
   "metadata": {},
   "outputs": [
    {
     "name": "stdout",
     "output_type": "stream",
     "text": [
      "Explained variance PC1(%) : 0.10069204086633599\n",
      "Explained variance PC2(%) : 0.09099196688468619\n"
     ]
    },
    {
     "data": {
      "image/png": "[encoded data removed]",
      "text/plain": [
       "<Figure size 432x288 with 1 Axes>"
      ]
     },
     "metadata": {},
     "output_type": "display_data"
    }
   ],
   "source": [
    "#2D graph of first two PCs\n",
    "print('Explained variance PC1(%) :', pca.explained_variance_ratio_[0])\n",
    "print('Explained variance PC2(%) :', pca.explained_variance_ratio_[1])\n",
    "\n",
    "plt.plot(principalDf['PC1'] , principalDf['PC2'], '.')\n",
    "plt.title(\"2 components PCA\")\n",
    "plt.ylabel('PC2')\n",
    "plt.xlabel('PC1')\n",
    "plt.show()"
   ]
  },
  {
   "cell_type": "markdown",
   "metadata": {},
   "source": [
    "## K-means\n",
    "It's time to cluster the clusters, we can use a k-mean algorith."
   ]
  },
  {
   "cell_type": "code",
   "execution_count": 40,
   "metadata": {},
   "outputs": [],
   "source": [
    "from sklearn.cluster import KMeans\n",
    "kmeans = KMeans(n_clusters=4)  #we should chose the number of clusters\n",
    "kmeans.fit(clusters_df)\n",
    "y_kmeans = kmeans.predict(clusters_df)"
   ]
  },
  {
   "cell_type": "code",
   "execution_count": 41,
   "metadata": {},
   "outputs": [
    {
     "data": {
      "image/png": "[encoded data removed]",
      "text/plain": [
       "<Figure size 432x288 with 1 Axes>"
      ]
     },
     "metadata": {},
     "output_type": "display_data"
    }
   ],
   "source": [
    "plt.scatter(clusters_df['Properties_Energy'], clusters_df['Properties_Dipole'], c=y_kmeans,s=50, cmap='viridis')\n",
    "centers = kmeans.cluster_centers_\n",
    "plt.scatter(centers[:, 0], centers[:, 1], c='black', s=100, alpha=0.5)\n",
    "plt.xlabel('Energy')\n",
    "plt.ylabel('Dipole')\n",
    "plt.show()"
   ]
  },
  {
   "cell_type": "code",
   "execution_count": 42,
   "metadata": {},
   "outputs": [
    {
     "data": {
      "image/png": "[encoded data removed]",
      "text/plain": [
       "<Figure size 432x288 with 1 Axes>"
      ]
     },
     "metadata": {},
     "output_type": "display_data"
    }
   ],
   "source": [
    "#clustering using PCS as variables\n",
    "finalDf = pd.concat([principalDf, clusters_df[['Properties_Energy']]], axis = 1)\n",
    "finalDf = pd.concat([finalDf, clusters_df[['Properties_Dipole']]], axis = 1)\n",
    "kmeans.fit(finalDf)\n",
    "y_kmeans = kmeans.predict(finalDf)\n",
    "plt.scatter(finalDf['PC1'], finalDf['PC2'], c=y_kmeans,s=50, cmap='viridis')\n",
    "centers = kmeans.cluster_centers_\n",
    "plt.scatter(centers[:, 0], centers[:, 1], c='black', s=200, alpha=0.5)\n",
    "plt.ylabel('PC2')\n",
    "plt.xlabel('PC1')\n",
    "plt.show()"
   ]
  },
  {
   "cell_type": "code",
   "execution_count": null,
   "metadata": {},
   "outputs": [],
   "source": []
  },
  {
   "cell_type": "code",
   "execution_count": null,
   "metadata": {},
   "outputs": [],
   "source": []
  },
  {
   "cell_type": "code",
   "execution_count": null,
   "metadata": {},
   "outputs": [],
   "source": []
  },
  {
   "cell_type": "code",
   "execution_count": null,
   "metadata": {},
   "outputs": [],
   "source": []
  },
  {
   "cell_type": "code",
   "execution_count": null,
   "metadata": {},
   "outputs": [],
   "source": []
  },
  {
   "cell_type": "markdown",
   "metadata": {},
   "source": [
    "***\n",
    "***\n",
    "***\n",
    "***\n",
    "***\n",
    "***\n",
    "***\n",
    "***\n",
    "***\n",
    "***\n",
    "***\n",
    "***"
   ]
  },
  {
   "cell_type": "code",
   "execution_count": 43,
   "metadata": {},
   "outputs": [
    {
     "data": {
      "text/plain": [
       "array([ 0, 10, 11, 12, 13, 14, 15, 16, 17, 18, 19,  1, 20, 21, 22, 23, 24,\n",
       "       25, 26, 27, 28, 29,  2, 30, 31, 32, 33, 34, 35, 36, 37, 38, 39,  3,\n",
       "       40, 41, 42, 43, 44, 45, 46, 47, 48, 49,  4,  5,  6,  7,  8,  9])"
      ]
     },
     "execution_count": 43,
     "metadata": {},
     "output_type": "execute_result"
    }
   ],
   "source": [
    "files = pd.read_csv(\"Data_Collection.csv\")\n",
    "np.array(files.Filename)"
   ]
  },
  {
   "cell_type": "code",
   "execution_count": 44,
   "metadata": {},
   "outputs": [
    {
     "name": "stdout",
     "output_type": "stream",
     "text": [
      "Filename                      0\n",
      "LogPath      ./Data1/logs/0.log\n",
      "XYZPath     ./Data1/coord/0.xyz\n",
      "Dipole                    2.402\n",
      "Energy                 -40.9179\n",
      "Name: 0, dtype: object\n"
     ]
    },
    {
     "data": {
      "text/plain": [
       "int"
      ]
     },
     "execution_count": 44,
     "metadata": {},
     "output_type": "execute_result"
    }
   ],
   "source": [
    "test = next(files.iterrows())[1]\n",
    "print(test)\n",
    "type(test.Filename)"
   ]
  },
  {
   "cell_type": "code",
   "execution_count": 45,
   "metadata": {},
   "outputs": [],
   "source": [
    "xyz_test = pd.read_csv(\"Data1/coord/0.xyz\", \\\n",
    "                       sep='\\s+', \\\n",
    "                       skiprows=2, \\\n",
    "                       header=None, \\\n",
    "                       index_col=0, \\\n",
    "                       names=['x','y','z']\\\n",
    "                      ).sort_index(ascending=False)\n",
    "# Atom names in indexes"
   ]
  },
  {
   "cell_type": "markdown",
   "metadata": {},
   "source": [
    "```python\n",
    "xyz_test = pd.read_csv(\"Data1/0.xyz\", \\\n",
    "                       sep='\\s+',\\\n",
    "                       skiprows=2, \\\n",
    "                       header=None, \\\n",
    "                       names=['atom','x','y','z']\\\n",
    "                      ).sort_values(by='atom',ascending=False).reset_index(drop=True)\n",
    "# Atom names in col 0\n",
    "```\n"
   ]
  },
  {
   "cell_type": "markdown",
   "metadata": {},
   "source": [
    "Print the names of the atoms"
   ]
  },
  {
   "cell_type": "markdown",
   "metadata": {},
   "source": [
    "> How is order handled under one label?\n",
    "- what is the order of other coord files?"
   ]
  },
  {
   "cell_type": "markdown",
   "metadata": {},
   "source": [
    "Save the names of the atoms to an array"
   ]
  },
  {
   "cell_type": "code",
   "execution_count": 46,
   "metadata": {},
   "outputs": [],
   "source": [
    "arr_indexes = np.array(xyz_test.index)"
   ]
  },
  {
   "cell_type": "code",
   "execution_count": 47,
   "metadata": {},
   "outputs": [
    {
     "data": {
      "text/plain": [
       "19"
      ]
     },
     "execution_count": 47,
     "metadata": {},
     "output_type": "execute_result"
    }
   ],
   "source": [
    "arr_indexes.shape[0]"
   ]
  },
  {
   "cell_type": "markdown",
   "metadata": {},
   "source": [
    "Get numbers for the atoms and concatenate them with the labels"
   ]
  },
  {
   "cell_type": "code",
   "execution_count": 48,
   "metadata": {},
   "outputs": [],
   "source": [
    "list_atomnames = []\n",
    "\n",
    "for i,j in enumerate(arr_indexes):\n",
    "    list_atomnames.append(\"{} {}\".format(j,i))\n",
    "\n",
    "arr_atomnames = np.array(list_atomnames)"
   ]
  },
  {
   "cell_type": "markdown",
   "metadata": {},
   "source": [
    "Make the multi-index array of tuples"
   ]
  },
  {
   "cell_type": "code",
   "execution_count": 49,
   "metadata": {},
   "outputs": [],
   "source": [
    "top_arr = np.empty((arr_atomnames.size * 3)).astype(str)\n",
    "top_arr[0::3] = arr_atomnames\n",
    "top_arr[1::3] = arr_atomnames\n",
    "top_arr[2::3] = arr_atomnames\n",
    "#top_arr"
   ]
  },
  {
   "cell_type": "code",
   "execution_count": 50,
   "metadata": {},
   "outputs": [],
   "source": [
    "butt_arr = np.empty((arr_atomnames.size * 3)).astype(str)\n",
    "butt_arr[0::3] = \"x\"\n",
    "butt_arr[1::3] = \"y\"\n",
    "butt_arr[2::3] = \"z\"\n",
    "#butt_arr"
   ]
  },
  {
   "cell_type": "code",
   "execution_count": 51,
   "metadata": {},
   "outputs": [
    {
     "data": {
      "text/plain": [
       "[('S 0', 'x'), ('S 0', 'y'), ('S 0', 'z'), ('O 1', 'x'), ('O 1', 'y')]"
      ]
     },
     "execution_count": 51,
     "metadata": {},
     "output_type": "execute_result"
    }
   ],
   "source": [
    "col_arr = np.vstack((top_arr,butt_arr))\n",
    "#col_arr.transpose()\n",
    "col_arr_tuples = list(zip(*col_arr))\n",
    "col_arr_tuples[:5]"
   ]
  },
  {
   "cell_type": "markdown",
   "metadata": {},
   "source": [
    "Multi-index column names"
   ]
  },
  {
   "cell_type": "code",
   "execution_count": 52,
   "metadata": {},
   "outputs": [
    {
     "data": {
      "text/plain": [
       "MultiIndex(levels=[['H 10', 'H 11', 'H 12', 'H 13', 'H 14', 'H 15', 'H 16', 'H 17', 'H 18', 'H 9', 'O 1', 'O 2', 'O 3', 'O 4', 'O 5', 'O 6', 'O 7', 'O 8', 'S 0'], ['x', 'y', 'z']],\n",
       "           labels=[[18, 18, 18, 10, 10, 10, 11, 11, 11, 12, 12, 12, 13, 13, 13, 14, 14, 14, 15, 15, 15, 16, 16, 16, 17, 17, 17, 9, 9, 9, 0, 0, 0, 1, 1, 1, 2, 2, 2, 3, 3, 3, 4, 4, 4, 5, 5, 5, 6, 6, 6, 7, 7, 7, 8, 8, 8], [0, 1, 2, 0, 1, 2, 0, 1, 2, 0, 1, 2, 0, 1, 2, 0, 1, 2, 0, 1, 2, 0, 1, 2, 0, 1, 2, 0, 1, 2, 0, 1, 2, 0, 1, 2, 0, 1, 2, 0, 1, 2, 0, 1, 2, 0, 1, 2, 0, 1, 2, 0, 1, 2, 0, 1, 2]],\n",
       "           names=['Atom', 'Coord'])"
      ]
     },
     "execution_count": 52,
     "metadata": {},
     "output_type": "execute_result"
    }
   ],
   "source": [
    "col_names = pd.MultiIndex.from_tuples(col_arr_tuples, names=[\"Atom\",\"Coord\"])\n",
    "col_names"
   ]
  },
  {
   "cell_type": "markdown",
   "metadata": {},
   "source": []
  },
  {
   "cell_type": "code",
   "execution_count": 53,
   "metadata": {},
   "outputs": [
    {
     "data": {
      "text/plain": [
       "57"
      ]
     },
     "execution_count": 53,
     "metadata": {},
     "output_type": "execute_result"
    }
   ],
   "source": [
    "3*19"
   ]
  },
  {
   "cell_type": "code",
   "execution_count": 54,
   "metadata": {},
   "outputs": [
    {
     "data": {
      "text/plain": [
       "(57,)"
      ]
     },
     "execution_count": 54,
     "metadata": {},
     "output_type": "execute_result"
    }
   ],
   "source": [
    "xyz_test.values.flatten().shape"
   ]
  },
  {
   "cell_type": "code",
   "execution_count": 55,
   "metadata": {},
   "outputs": [],
   "source": [
    "xyz_flat = xyz_test.values.flatten().reshape(1,57)"
   ]
  },
  {
   "cell_type": "code",
   "execution_count": 56,
   "metadata": {},
   "outputs": [
    {
     "data": {
      "text/plain": [
       "numpy.ndarray"
      ]
     },
     "execution_count": 56,
     "metadata": {},
     "output_type": "execute_result"
    }
   ],
   "source": [
    "type(xyz_flat)"
   ]
  },
  {
   "cell_type": "code",
   "execution_count": 57,
   "metadata": {},
   "outputs": [
    {
     "name": "stdout",
     "output_type": "stream",
     "text": [
      "Atom        S 0                           O 1                          O 2  \\\n",
      "Coord         x         y         z         x         y        z         x   \n",
      "a      0.141169  0.586462 -1.579178  1.571959  0.634674  1.58739 -0.496376   \n",
      "\n",
      "Atom                           O 3                          O 4            \\\n",
      "Coord        y         z         x         y         z        x         y   \n",
      "a     -0.79309  1.912224  0.122061 -2.393288  0.079677  1.01335 -0.572018   \n",
      "\n",
      "Atom                  O 5                          O 6                      \\\n",
      "Coord         z         x         y        z         x         y         z   \n",
      "a     -1.481227 -1.989939  0.798705  0.68009  0.522933  1.346199 -2.915277   \n",
      "\n",
      "Atom        O 7                           O 8                          H 9  \\\n",
      "Coord         x         y         z         x        y         z         x   \n",
      "a      0.369189  1.535905 -0.499852 -1.256258  0.20951 -1.702193  0.192515   \n",
      "\n",
      "Atom                           H 10                          H 11            \\\n",
      "Coord         y         z         x         y         z         x         y   \n",
      "a      0.757764 -3.586885  1.779578  1.401354  2.124928  1.251429  0.984936   \n",
      "\n",
      "Atom                 H 12                          H 13                      \\\n",
      "Coord         z         x         y         z         x         y         z   \n",
      "a      0.710985 -1.489374  1.623473  0.682714 -1.897694  0.492448 -0.263903   \n",
      "\n",
      "Atom       H 14                          H 15                          H 16  \\\n",
      "Coord         x         y         z         x         y         z         x   \n",
      "a      0.886638 -2.942662  0.267271  0.427588 -1.727576 -0.603801  0.369601   \n",
      "\n",
      "Atom                          H 17                          H 18            \\\n",
      "Coord         y         z        x         y         z         x         y   \n",
      "a     -0.238477  1.922843 -1.21537 -0.160903  1.456282 -0.303001 -1.543416   \n",
      "\n",
      "Atom             \n",
      "Coord         z  \n",
      "a      1.207911  \n"
     ]
    }
   ],
   "source": [
    "coord_df = pd.DataFrame(xyz_flat,index=['a'],columns=col_names)\n",
    "with pd.option_context('display.max_rows',None,'display.max_columns',None):\n",
    "    print(coord_df)"
   ]
  },
  {
   "cell_type": "code",
   "execution_count": 58,
   "metadata": {},
   "outputs": [
    {
     "data": {
      "text/html": [
       "<div>\n",
       "<style scoped>\n",
       "    .dataframe tbody tr th:only-of-type {\n",
       "        vertical-align: middle;\n",
       "    }\n",
       "\n",
       "    .dataframe tbody tr th {\n",
       "        vertical-align: top;\n",
       "    }\n",
       "\n",
       "    .dataframe thead tr th {\n",
       "        text-align: left;\n",
       "    }\n",
       "</style>\n",
       "<table border=\"1\" class=\"dataframe\">\n",
       "  <thead>\n",
       "    <tr>\n",
       "      <th>Atom</th>\n",
       "      <th colspan=\"3\" halign=\"left\">S 0</th>\n",
       "      <th colspan=\"3\" halign=\"left\">O 1</th>\n",
       "      <th colspan=\"3\" halign=\"left\">O 2</th>\n",
       "      <th>O 3</th>\n",
       "      <th>...</th>\n",
       "      <th>H 15</th>\n",
       "      <th colspan=\"3\" halign=\"left\">H 16</th>\n",
       "      <th colspan=\"3\" halign=\"left\">H 17</th>\n",
       "      <th colspan=\"3\" halign=\"left\">H 18</th>\n",
       "    </tr>\n",
       "    <tr>\n",
       "      <th>Coord</th>\n",
       "      <th>x</th>\n",
       "      <th>y</th>\n",
       "      <th>z</th>\n",
       "      <th>x</th>\n",
       "      <th>y</th>\n",
       "      <th>z</th>\n",
       "      <th>x</th>\n",
       "      <th>y</th>\n",
       "      <th>z</th>\n",
       "      <th>x</th>\n",
       "      <th>...</th>\n",
       "      <th>z</th>\n",
       "      <th>x</th>\n",
       "      <th>y</th>\n",
       "      <th>z</th>\n",
       "      <th>x</th>\n",
       "      <th>y</th>\n",
       "      <th>z</th>\n",
       "      <th>x</th>\n",
       "      <th>y</th>\n",
       "      <th>z</th>\n",
       "    </tr>\n",
       "  </thead>\n",
       "  <tbody>\n",
       "    <tr>\n",
       "      <th>a</th>\n",
       "      <td>0.141169</td>\n",
       "      <td>0.586462</td>\n",
       "      <td>-1.579178</td>\n",
       "      <td>1.571959</td>\n",
       "      <td>0.634674</td>\n",
       "      <td>1.58739</td>\n",
       "      <td>-0.496376</td>\n",
       "      <td>-0.79309</td>\n",
       "      <td>1.912224</td>\n",
       "      <td>0.122061</td>\n",
       "      <td>...</td>\n",
       "      <td>-0.603801</td>\n",
       "      <td>0.369601</td>\n",
       "      <td>-0.238477</td>\n",
       "      <td>1.922843</td>\n",
       "      <td>-1.21537</td>\n",
       "      <td>-0.160903</td>\n",
       "      <td>1.456282</td>\n",
       "      <td>-0.303001</td>\n",
       "      <td>-1.543416</td>\n",
       "      <td>1.207911</td>\n",
       "    </tr>\n",
       "  </tbody>\n",
       "</table>\n",
       "<p>1 rows × 57 columns</p>\n",
       "</div>"
      ],
      "text/plain": [
       "Atom        S 0                           O 1                          O 2  \\\n",
       "Coord         x         y         z         x         y        z         x   \n",
       "a      0.141169  0.586462 -1.579178  1.571959  0.634674  1.58739 -0.496376   \n",
       "\n",
       "Atom                           O 3    ...         H 15      H 16            \\\n",
       "Coord        y         z         x    ...            z         x         y   \n",
       "a     -0.79309  1.912224  0.122061    ...    -0.603801  0.369601 -0.238477   \n",
       "\n",
       "Atom                H 17                          H 18                      \n",
       "Coord         z        x         y         z         x         y         z  \n",
       "a      1.922843 -1.21537 -0.160903  1.456282 -0.303001 -1.543416  1.207911  \n",
       "\n",
       "[1 rows x 57 columns]"
      ]
     },
     "execution_count": 58,
     "metadata": {},
     "output_type": "execute_result"
    }
   ],
   "source": [
    "coord_df"
   ]
  },
  {
   "cell_type": "code",
   "execution_count": null,
   "metadata": {},
   "outputs": [],
   "source": []
  },
  {
   "cell_type": "code",
   "execution_count": null,
   "metadata": {},
   "outputs": [],
   "source": []
  },
  {
   "cell_type": "code",
   "execution_count": null,
   "metadata": {},
   "outputs": [],
   "source": []
  }
 ],
 "metadata": {
  "kernelspec": {
   "display_name": "Python 3",
   "language": "python",
   "name": "python3"
  },
  "language_info": {
   "codemirror_mode": {
    "name": "ipython",
    "version": 3
   },
   "file_extension": ".py",
   "mimetype": "text/x-python",
   "name": "python",
   "nbconvert_exporter": "python",
   "pygments_lexer": "ipython3",
   "version": "3.7.1"
  }
 },
 "nbformat": 4,
 "nbformat_minor": 2
}
